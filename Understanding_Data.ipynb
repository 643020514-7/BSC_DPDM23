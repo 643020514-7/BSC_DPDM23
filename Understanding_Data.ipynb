{
  "nbformat": 4,
  "nbformat_minor": 0,
  "metadata": {
    "colab": {
      "provenance": [],
      "toc_visible": true,
      "include_colab_link": true
    },
    "kernelspec": {
      "name": "python3",
      "display_name": "Python 3"
    },
    "language_info": {
      "name": "python"
    }
  },
  "cells": [
    {
      "cell_type": "markdown",
      "metadata": {
        "id": "view-in-github",
        "colab_type": "text"
      },
      "source": [
        "<a href=\"https://colab.research.google.com/github/phurisk/BSC_DPDM23/blob/main/Understanding_Data.ipynb\" target=\"_parent\"><img src=\"https://colab.research.google.com/assets/colab-badge.svg\" alt=\"Open In Colab\"/></a>"
      ]
    },
    {
      "cell_type": "markdown",
      "source": [
        "#Load Data"
      ],
      "metadata": {
        "id": "O7NDkScwBVdR"
      }
    },
    {
      "cell_type": "code",
      "source": [
        "from google.colab import drive\n",
        "drive.mount('/content/drive')\n"
      ],
      "metadata": {
        "colab": {
          "base_uri": "https://localhost:8080/",
          "height": 338
        },
        "id": "GHMfh9tHCqUk",
        "outputId": "91bdb531-8e0a-405f-b351-ef3c61f7b0fc"
      },
      "execution_count": 1,
      "outputs": [
        {
          "output_type": "error",
          "ename": "MessageError",
          "evalue": "ignored",
          "traceback": [
            "\u001b[0;31m---------------------------------------------------------------------------\u001b[0m",
            "\u001b[0;31mMessageError\u001b[0m                              Traceback (most recent call last)",
            "\u001b[0;32m<ipython-input-1-d5df0069828e>\u001b[0m in \u001b[0;36m<cell line: 2>\u001b[0;34m()\u001b[0m\n\u001b[1;32m      1\u001b[0m \u001b[0;32mfrom\u001b[0m \u001b[0mgoogle\u001b[0m\u001b[0;34m.\u001b[0m\u001b[0mcolab\u001b[0m \u001b[0;32mimport\u001b[0m \u001b[0mdrive\u001b[0m\u001b[0;34m\u001b[0m\u001b[0;34m\u001b[0m\u001b[0m\n\u001b[0;32m----> 2\u001b[0;31m \u001b[0mdrive\u001b[0m\u001b[0;34m.\u001b[0m\u001b[0mmount\u001b[0m\u001b[0;34m(\u001b[0m\u001b[0;34m'/content/drive'\u001b[0m\u001b[0;34m)\u001b[0m\u001b[0;34m\u001b[0m\u001b[0;34m\u001b[0m\u001b[0m\n\u001b[0m",
            "\u001b[0;32m/usr/local/lib/python3.10/dist-packages/google/colab/drive.py\u001b[0m in \u001b[0;36mmount\u001b[0;34m(mountpoint, force_remount, timeout_ms, readonly)\u001b[0m\n\u001b[1;32m    101\u001b[0m \u001b[0;32mdef\u001b[0m \u001b[0mmount\u001b[0m\u001b[0;34m(\u001b[0m\u001b[0mmountpoint\u001b[0m\u001b[0;34m,\u001b[0m \u001b[0mforce_remount\u001b[0m\u001b[0;34m=\u001b[0m\u001b[0;32mFalse\u001b[0m\u001b[0;34m,\u001b[0m \u001b[0mtimeout_ms\u001b[0m\u001b[0;34m=\u001b[0m\u001b[0;36m120000\u001b[0m\u001b[0;34m,\u001b[0m \u001b[0mreadonly\u001b[0m\u001b[0;34m=\u001b[0m\u001b[0;32mFalse\u001b[0m\u001b[0;34m)\u001b[0m\u001b[0;34m:\u001b[0m\u001b[0;34m\u001b[0m\u001b[0;34m\u001b[0m\u001b[0m\n\u001b[1;32m    102\u001b[0m   \u001b[0;34m\"\"\"Mount your Google Drive at the specified mountpoint path.\"\"\"\u001b[0m\u001b[0;34m\u001b[0m\u001b[0;34m\u001b[0m\u001b[0m\n\u001b[0;32m--> 103\u001b[0;31m   return _mount(\n\u001b[0m\u001b[1;32m    104\u001b[0m       \u001b[0mmountpoint\u001b[0m\u001b[0;34m,\u001b[0m\u001b[0;34m\u001b[0m\u001b[0;34m\u001b[0m\u001b[0m\n\u001b[1;32m    105\u001b[0m       \u001b[0mforce_remount\u001b[0m\u001b[0;34m=\u001b[0m\u001b[0mforce_remount\u001b[0m\u001b[0;34m,\u001b[0m\u001b[0;34m\u001b[0m\u001b[0;34m\u001b[0m\u001b[0m\n",
            "\u001b[0;32m/usr/local/lib/python3.10/dist-packages/google/colab/drive.py\u001b[0m in \u001b[0;36m_mount\u001b[0;34m(mountpoint, force_remount, timeout_ms, ephemeral, readonly)\u001b[0m\n\u001b[1;32m    130\u001b[0m   )\n\u001b[1;32m    131\u001b[0m   \u001b[0;32mif\u001b[0m \u001b[0mephemeral\u001b[0m\u001b[0;34m:\u001b[0m\u001b[0;34m\u001b[0m\u001b[0;34m\u001b[0m\u001b[0m\n\u001b[0;32m--> 132\u001b[0;31m     _message.blocking_request(\n\u001b[0m\u001b[1;32m    133\u001b[0m         \u001b[0;34m'request_auth'\u001b[0m\u001b[0;34m,\u001b[0m \u001b[0mrequest\u001b[0m\u001b[0;34m=\u001b[0m\u001b[0;34m{\u001b[0m\u001b[0;34m'authType'\u001b[0m\u001b[0;34m:\u001b[0m \u001b[0;34m'dfs_ephemeral'\u001b[0m\u001b[0;34m}\u001b[0m\u001b[0;34m,\u001b[0m \u001b[0mtimeout_sec\u001b[0m\u001b[0;34m=\u001b[0m\u001b[0;32mNone\u001b[0m\u001b[0;34m\u001b[0m\u001b[0;34m\u001b[0m\u001b[0m\n\u001b[1;32m    134\u001b[0m     )\n",
            "\u001b[0;32m/usr/local/lib/python3.10/dist-packages/google/colab/_message.py\u001b[0m in \u001b[0;36mblocking_request\u001b[0;34m(request_type, request, timeout_sec, parent)\u001b[0m\n\u001b[1;32m    174\u001b[0m       \u001b[0mrequest_type\u001b[0m\u001b[0;34m,\u001b[0m \u001b[0mrequest\u001b[0m\u001b[0;34m,\u001b[0m \u001b[0mparent\u001b[0m\u001b[0;34m=\u001b[0m\u001b[0mparent\u001b[0m\u001b[0;34m,\u001b[0m \u001b[0mexpect_reply\u001b[0m\u001b[0;34m=\u001b[0m\u001b[0;32mTrue\u001b[0m\u001b[0;34m\u001b[0m\u001b[0;34m\u001b[0m\u001b[0m\n\u001b[1;32m    175\u001b[0m   )\n\u001b[0;32m--> 176\u001b[0;31m   \u001b[0;32mreturn\u001b[0m \u001b[0mread_reply_from_input\u001b[0m\u001b[0;34m(\u001b[0m\u001b[0mrequest_id\u001b[0m\u001b[0;34m,\u001b[0m \u001b[0mtimeout_sec\u001b[0m\u001b[0;34m)\u001b[0m\u001b[0;34m\u001b[0m\u001b[0;34m\u001b[0m\u001b[0m\n\u001b[0m",
            "\u001b[0;32m/usr/local/lib/python3.10/dist-packages/google/colab/_message.py\u001b[0m in \u001b[0;36mread_reply_from_input\u001b[0;34m(message_id, timeout_sec)\u001b[0m\n\u001b[1;32m    101\u001b[0m     ):\n\u001b[1;32m    102\u001b[0m       \u001b[0;32mif\u001b[0m \u001b[0;34m'error'\u001b[0m \u001b[0;32min\u001b[0m \u001b[0mreply\u001b[0m\u001b[0;34m:\u001b[0m\u001b[0;34m\u001b[0m\u001b[0;34m\u001b[0m\u001b[0m\n\u001b[0;32m--> 103\u001b[0;31m         \u001b[0;32mraise\u001b[0m \u001b[0mMessageError\u001b[0m\u001b[0;34m(\u001b[0m\u001b[0mreply\u001b[0m\u001b[0;34m[\u001b[0m\u001b[0;34m'error'\u001b[0m\u001b[0;34m]\u001b[0m\u001b[0;34m)\u001b[0m\u001b[0;34m\u001b[0m\u001b[0;34m\u001b[0m\u001b[0m\n\u001b[0m\u001b[1;32m    104\u001b[0m       \u001b[0;32mreturn\u001b[0m \u001b[0mreply\u001b[0m\u001b[0;34m.\u001b[0m\u001b[0mget\u001b[0m\u001b[0;34m(\u001b[0m\u001b[0;34m'data'\u001b[0m\u001b[0;34m,\u001b[0m \u001b[0;32mNone\u001b[0m\u001b[0;34m)\u001b[0m\u001b[0;34m\u001b[0m\u001b[0;34m\u001b[0m\u001b[0m\n\u001b[1;32m    105\u001b[0m \u001b[0;34m\u001b[0m\u001b[0m\n",
            "\u001b[0;31mMessageError\u001b[0m: Error: credential propagation was unsuccessful"
          ]
        }
      ]
    },
    {
      "cell_type": "code",
      "source": [
        "import pandas as pd\n"
      ],
      "metadata": {
        "id": "fWxft-SKCqRG"
      },
      "execution_count": null,
      "outputs": []
    },
    {
      "cell_type": "code",
      "source": [
        "csv_data_path = '/content/drive/MyDrive/BSC_DPDM23/File/customer_shopping_data.csv'\n",
        "\n",
        "\n",
        "shopping_data = pd.read_csv(csv_data_path)\n"
      ],
      "metadata": {
        "id": "wvTo2puoEwNm"
      },
      "execution_count": null,
      "outputs": []
    },
    {
      "cell_type": "code",
      "source": [
        "shopping_data"
      ],
      "metadata": {
        "id": "C5YfersNFff8"
      },
      "execution_count": null,
      "outputs": []
    },
    {
      "cell_type": "code",
      "source": [],
      "metadata": {
        "id": "KkdsDn66947U"
      },
      "execution_count": null,
      "outputs": []
    },
    {
      "cell_type": "markdown",
      "source": [
        "#Link google sheet"
      ],
      "metadata": {
        "id": "MgAHyYSBGwGX"
      }
    },
    {
      "cell_type": "code",
      "source": [
        "from google.colab import auth\n",
        "\n",
        "# Authenticate with Google Sheets API\n",
        "auth.authenticate_user()\n",
        "import gspread\n",
        "from google.auth import default\n",
        "creds, _ = default()\n",
        "\n",
        "gc = gspread.authorize(creds)"
      ],
      "metadata": {
        "id": "yD_b9fsZGzl9"
      },
      "execution_count": null,
      "outputs": []
    },
    {
      "cell_type": "code",
      "source": [
        "gsht = gc.open_by_key('1mQlcdVxc9ewLjhTWjhaksm3mg9yFjbB4AhY_SIx0oP4')"
      ],
      "metadata": {
        "id": "Ad3AJXqAG6CJ"
      },
      "execution_count": null,
      "outputs": []
    },
    {
      "cell_type": "code",
      "source": [
        "worksheet2 = gsht.worksheet('มิ.ย. 2563')\n",
        "rows = worksheet2.get_all_values()\n",
        "# data_from_gsheets = pd.DataFrame.from_records(rows)\n",
        "header = rows[2]\n",
        "data = rows[3:]\n",
        "\n",
        "data_from_gsheets = pd.DataFrame(data, columns=header)\n"
      ],
      "metadata": {
        "id": "zh4qeQ8qKfLr"
      },
      "execution_count": null,
      "outputs": []
    },
    {
      "cell_type": "code",
      "source": [
        "data_from_gsheets"
      ],
      "metadata": {
        "id": "1HDlk1NIKafQ"
      },
      "execution_count": null,
      "outputs": []
    },
    {
      "cell_type": "markdown",
      "source": [
        "# Basic stat"
      ],
      "metadata": {
        "id": "ePe9bzxnBeNV"
      }
    },
    {
      "cell_type": "markdown",
      "source": [
        "#### How many payment methods?"
      ],
      "metadata": {
        "id": "7n6XFkDNrZqT"
      }
    },
    {
      "cell_type": "code",
      "source": [
        "unique_payment_methods = shopping_data['payment_method'].unique()\n",
        "\n",
        "print(\"Unique Payment Methods:\")\n",
        "print(unique_payment_methods)\n"
      ],
      "metadata": {
        "id": "v1xBzuOH4Ghr"
      },
      "execution_count": null,
      "outputs": []
    },
    {
      "cell_type": "code",
      "source": [
        "payment_method_counts = shopping_data['payment_method'].value_counts()\n",
        "\n",
        "print(\"Payment Method Counts:\")\n",
        "print(payment_method_counts)\n"
      ],
      "metadata": {
        "id": "0xOoXV6n5NKu"
      },
      "execution_count": null,
      "outputs": []
    },
    {
      "cell_type": "code",
      "source": [
        "set()"
      ],
      "metadata": {
        "id": "xSpFr3Bm5eFj"
      },
      "execution_count": null,
      "outputs": []
    },
    {
      "cell_type": "markdown",
      "source": [
        "#### average puchase amount use of customer age above 40 year?"
      ],
      "metadata": {
        "id": "TtSXwlLm5qlJ"
      }
    },
    {
      "cell_type": "code",
      "source": [
        "\n",
        "shopping_data['age'] = pd.to_numeric(shopping_data['age'])\n",
        "\n",
        "above_40_df = shopping_data[shopping_data['age'] > 40]\n",
        "\n",
        "average_purchase_amount = above_40_df['price'].mean()\n",
        "\n",
        "print(\"Average Purchase Amount for Customers above 40 years old:\", average_purchase_amount)\n"
      ],
      "metadata": {
        "id": "6dqaRT6L6ARp"
      },
      "execution_count": null,
      "outputs": []
    },
    {
      "cell_type": "markdown",
      "source": [
        "#Visualization"
      ],
      "metadata": {
        "id": "K8ziyOT6BrWp"
      }
    },
    {
      "cell_type": "code",
      "source": [
        "from matplotlib import pyplot as plt"
      ],
      "metadata": {
        "id": "_oE3X9jR7gjW"
      },
      "execution_count": null,
      "outputs": []
    },
    {
      "cell_type": "markdown",
      "source": [
        "##Histogram"
      ],
      "metadata": {
        "id": "YzYcVJKa77iS"
      }
    },
    {
      "cell_type": "markdown",
      "source": [
        "#### Branches distibution"
      ],
      "metadata": {
        "id": "NFfjQ-Rp7_xH"
      }
    },
    {
      "cell_type": "code",
      "source": [
        "histoutput = plt.hist(shopping_data['shopping_mall'])\n",
        "tickhist = plt.xticks(rotation='vertical');"
      ],
      "metadata": {
        "id": "6ngvjYgM7oOw"
      },
      "execution_count": null,
      "outputs": []
    },
    {
      "cell_type": "code",
      "source": [
        "histoutput[0]"
      ],
      "metadata": {
        "id": "K1OLHgtMCMou"
      },
      "execution_count": null,
      "outputs": []
    },
    {
      "cell_type": "code",
      "source": [
        "tickhist[-1]"
      ],
      "metadata": {
        "id": "pa8zzy5qB9P4"
      },
      "execution_count": null,
      "outputs": []
    },
    {
      "cell_type": "code",
      "source": [
        "import matplotlib.pyplot as plt\n",
        "\n",
        "mall_counts = shopping_data['shopping_mall'].value_counts()\n",
        "\n",
        "plt.bar(mall_counts.index, mall_counts)\n",
        "\n",
        "\n",
        "for idx, value in enumerate(mall_counts):\n",
        "    plt.text(idx, value + 0.1, str(value), ha='center', va='bottom', rotation=45)\n",
        "\n",
        "\n",
        "plt.xlabel('Shopping Mall')\n",
        "plt.ylabel('Number of Occurrences')\n",
        "plt.title('Number of Occurrences for Each Shopping Mall')\n",
        "\n",
        "plt.xticks(rotation='vertical')\n",
        "\n",
        "\n",
        "plt.show()\n"
      ],
      "metadata": {
        "id": "jLFQUMqO_22s"
      },
      "execution_count": null,
      "outputs": []
    },
    {
      "cell_type": "code",
      "source": [
        "mall_counts = shopping_data['shopping_mall'].value_counts()\n",
        "plt.bar(mall_counts.index, mall_counts)\n",
        "\n",
        "plt.xlabel('Shopping Mall')\n",
        "plt.ylabel('Number of Occurrences')\n",
        "plt.title('Number of Occurrences for Each Shopping Mall')\n",
        "\n",
        "plt.xticks(rotation='vertical')\n",
        "\n",
        "plt.show()\n"
      ],
      "metadata": {
        "id": "3_T43HWRBC_8"
      },
      "execution_count": null,
      "outputs": []
    },
    {
      "cell_type": "markdown",
      "source": [
        "##Scatter"
      ],
      "metadata": {
        "id": "iH934sQa34xX"
      }
    },
    {
      "cell_type": "markdown",
      "source": [
        "#### is there a trend in age vs price?"
      ],
      "metadata": {
        "id": "z8fWGntvDJA1"
      }
    },
    {
      "cell_type": "code",
      "source": [
        "\n",
        "plt.figure(figsize=(10, 6))\n",
        "plt.scatter(shopping_data['age'], shopping_data['price'], c='blue', alpha=0.5)  # 'c' is for color, 'alpha' is for transparency\n",
        "\n",
        "# Set labels and title\n",
        "plt.xlabel('Age')\n",
        "plt.ylabel('Price')\n",
        "plt.title('Scatter Plot of Age vs Price')\n",
        "\n",
        "# Show the plot\n",
        "plt.show()\n"
      ],
      "metadata": {
        "id": "pIfLInIfD9XF"
      },
      "execution_count": null,
      "outputs": []
    },
    {
      "cell_type": "markdown",
      "source": [
        "#### is there a trend in age vs quantity"
      ],
      "metadata": {
        "id": "pgY2zCcPENuW"
      }
    },
    {
      "cell_type": "code",
      "source": [
        "\n",
        "\n",
        "plt.figure(figsize=(10, 6))\n",
        "plt.scatter(shopping_data['age'], shopping_data['quantity'], c='green', alpha=0.5)  # 'c' is for color, 'alpha' is for transparency\n",
        "\n",
        "# Set labels and title\n",
        "plt.xlabel('Age')\n",
        "plt.ylabel('Quantity')\n",
        "plt.title('Scatter Plot of Age vs Quantity')\n",
        "\n",
        "# Show the plot\n",
        "plt.show()\n"
      ],
      "metadata": {
        "id": "bWFg-TREENVX"
      },
      "execution_count": null,
      "outputs": []
    },
    {
      "cell_type": "markdown",
      "source": [
        "#### price vs quantity"
      ],
      "metadata": {
        "id": "78yzS0MaEgFl"
      }
    },
    {
      "cell_type": "code",
      "source": [
        "plt.scatter(shopping_data['price'], shopping_data['quantity'], c='red', alpha=0.5)\n"
      ],
      "metadata": {
        "id": "jXGoP4KfEvmP"
      },
      "execution_count": null,
      "outputs": []
    },
    {
      "cell_type": "markdown",
      "source": [
        "#Box plot"
      ],
      "metadata": {
        "id": "EEAiS0Vj37ky"
      }
    },
    {
      "cell_type": "code",
      "source": [
        "import seaborn as sns\n",
        "import matplotlib.pyplot as plt\n",
        "\n",
        "sns.boxplot(x='price', data=shopping_data)\n",
        "\n",
        "plt.xlabel('Price')\n",
        "plt.title('Boxplot of Price')\n",
        "\n",
        "plt.show()\n"
      ],
      "metadata": {
        "id": "lia8nDjOF_h6"
      },
      "execution_count": null,
      "outputs": []
    },
    {
      "cell_type": "markdown",
      "source": [
        "#### Are there outliers in the price?"
      ],
      "metadata": {
        "id": "teR00pJfrtIq"
      }
    },
    {
      "cell_type": "code",
      "source": [
        "import matplotlib.pyplot as plt\n",
        "\n",
        "boxplot = plt.boxplot(shopping_data['price'])\n",
        "outlier_values = [flier.get_ydata() for flier in boxplot['fliers']]\n",
        "flat_outliers = [item for sublist in outlier_values for item in sublist]\n",
        "\n",
        "print(\"Outlier Values:\", flat_outliers)\n"
      ],
      "metadata": {
        "id": "TGi56zZFGiSS"
      },
      "execution_count": null,
      "outputs": []
    },
    {
      "cell_type": "code",
      "source": [
        "from collections import Counter\n",
        "import matplotlib.pyplot as plt\n",
        "\n",
        "# Assuming your dataset is stored in a DataFrame named shopping_data\n",
        "boxplot = plt.boxplot(shopping_data['price'])\n",
        "\n",
        "# Get the values of outliers\n",
        "outlier_values = [flier.get_ydata() for flier in boxplot['fliers']]\n",
        "\n",
        "# Flatten the list of outlier values\n",
        "flat_outliers = [item for sublist in outlier_values for item in sublist]\n",
        "\n",
        "# Count the occurrences of each outlier value\n",
        "outlier_counts = Counter(flat_outliers)\n",
        "\n",
        "# Print the counts of outlier values\n",
        "print(\"Outlier Counts:\")\n",
        "for value, count in outlier_counts.items():\n",
        "    print(f\"Value: {value}, Count: {count}\")\n"
      ],
      "metadata": {
        "id": "eKOYeaHcGzQR"
      },
      "execution_count": null,
      "outputs": []
    },
    {
      "cell_type": "markdown",
      "source": [
        "#Pie Chart"
      ],
      "metadata": {
        "id": "3YGjEypKIn48"
      }
    },
    {
      "cell_type": "markdown",
      "source": [
        "#### ration of male and female  customer"
      ],
      "metadata": {
        "id": "VxS3K6BAIwW-"
      }
    },
    {
      "cell_type": "code",
      "source": [
        "\n",
        "gender_counts = shopping_data['gender'].value_counts()\n",
        "\n",
        "# Plot a pie chart\n",
        "plt.figure(figsize=(8, 8))\n",
        "plt.pie(gender_counts, labels=gender_counts.index, autopct='%1.1f%%', startangle=90, colors=['skyblue', 'lightcoral'])\n",
        "plt.title('Ratio of Male and Female Customers')\n",
        "\n",
        "# Show the plot\n",
        "plt.show()\n"
      ],
      "metadata": {
        "id": "8a6OGC3LItMk"
      },
      "execution_count": null,
      "outputs": []
    },
    {
      "cell_type": "markdown",
      "source": [
        "#barchart"
      ],
      "metadata": {
        "id": "YQTA65kDKJxP"
      }
    },
    {
      "cell_type": "markdown",
      "source": [
        "#### เปรียบเทียบชนิดสินค้าที่ซื้อในแต่บะ shopping mall แบบภาพรวมของแต่ละ shopping mall"
      ],
      "metadata": {
        "id": "KKNvegEDLU6t"
      }
    },
    {
      "cell_type": "code",
      "source": [],
      "metadata": {
        "id": "HCZDrhXyLTgy"
      },
      "execution_count": null,
      "outputs": []
    },
    {
      "cell_type": "code",
      "source": [
        "import matplotlib.pyplot as plt\n",
        "\n",
        "mall_category_quantity = shopping_data.groupby(['shopping_mall', 'category'])['quantity'].sum().unstack()\n",
        "\n",
        " #ขนาด\n",
        "plt.figure(figsize=(12, 10))\n",
        "\n",
        "# Plot stacked bar chart\n",
        "mall_category_quantity.plot(kind='bar', stacked=True, width=0.8, colormap='viridis')\n",
        "\n",
        "# label ต่างๆ\n",
        "plt.xlabel('Shopping Mall')\n",
        "plt.ylabel('Total Quantity')\n",
        "plt.title('Comparison of Product Categories Purchased in Each Shopping Mall')\n",
        "plt.legend(title='Category', loc='upper right')\n",
        "\n",
        "# โชว์ plot\n",
        "plt.show()\n"
      ],
      "metadata": {
        "id": "lZbFEDmbMeGU"
      },
      "execution_count": null,
      "outputs": []
    },
    {
      "cell_type": "markdown",
      "source": [
        "# group barchart"
      ],
      "metadata": {
        "id": "KWrHbjvRRUXQ"
      }
    },
    {
      "cell_type": "markdown",
      "source": [
        "#### เปรียบเทียบปริมาณชนิดสินค้ในแต่ละ shopping mall เป็นราย shopping mall"
      ],
      "metadata": {
        "id": "KsIBscqhRrsJ"
      }
    },
    {
      "cell_type": "code",
      "source": [
        "import matplotlib.pyplot as plt\n",
        "\n",
        "# Assuming your dataset is stored in a DataFrame named shopping_data\n",
        "# Group by shopping mall and category, then sum the quantity for each group\n",
        "mall_category_quantity = shopping_data.groupby(['shopping_mall', 'category'])['quantity'].sum().reset_index()\n",
        "\n",
        "# Get unique categories for the x-axis labels\n",
        "categories = mall_category_quantity['category'].unique()\n",
        "\n",
        "# Set the width of the bars\n",
        "bar_width = 0.2\n",
        "\n",
        "# Set a larger figure size\n",
        "plt.figure(figsize=(20, 8))\n",
        "\n",
        "# Create a bar chart for each category\n",
        "for i, category in enumerate(categories):\n",
        "    category_data = mall_category_quantity[mall_category_quantity['category'] == category]\n",
        "    positions = [pos + i * bar_width for pos in range(len(category_data))]\n",
        "    plt.bar(positions, category_data['quantity'], width=bar_width, label=category)\n",
        "\n",
        "# Set x-axis labels and ticks\n",
        "mall_labels = mall_category_quantity['shopping_mall'].unique()\n",
        "plt.xticks([pos + (len(categories) - 1) * bar_width / 2 for pos in range(len(mall_labels))], mall_labels)\n",
        "plt.xlabel('Shopping Mall')\n",
        "plt.ylabel('Total Quantity')\n",
        "plt.title('Comparison of Product Categories Purchased in Each Shopping Mall')\n",
        "plt.legend(title='Category', loc='upper right')\n",
        "\n",
        "# Show the plot\n",
        "plt.show()\n"
      ],
      "metadata": {
        "id": "aPItrtpUMBdN"
      },
      "execution_count": null,
      "outputs": []
    },
    {
      "cell_type": "markdown",
      "source": [
        "#Distance - Similarity"
      ],
      "metadata": {
        "id": "1jMa5kAHBuJ7"
      }
    },
    {
      "cell_type": "code",
      "source": [
        "from scipy.spatial import distance_matrix"
      ],
      "metadata": {
        "id": "IhjaftLeX-y2"
      },
      "execution_count": null,
      "outputs": []
    },
    {
      "cell_type": "code",
      "source": [
        "import numpy as np"
      ],
      "metadata": {
        "id": "difXUAJBYeHP"
      },
      "execution_count": null,
      "outputs": []
    },
    {
      "cell_type": "code",
      "source": [
        "data_points = np.array([[1,2],[-1,4],[0,-3],[-3,-2]])"
      ],
      "metadata": {
        "id": "X8wNQ-RQYCcG"
      },
      "execution_count": null,
      "outputs": []
    },
    {
      "cell_type": "code",
      "source": [
        "data_points"
      ],
      "metadata": {
        "id": "ieCW7XSLYntz"
      },
      "execution_count": null,
      "outputs": []
    },
    {
      "cell_type": "code",
      "source": [
        "plt.scatter(data_points[:,0],data_points[:,1])\n",
        "plt.grid(True)"
      ],
      "metadata": {
        "id": "XZyyrF7WYa8U"
      },
      "execution_count": null,
      "outputs": []
    },
    {
      "cell_type": "code",
      "source": [
        "distance_matrix(data_points,data_points) # default p=2 Euclidean distance"
      ],
      "metadata": {
        "id": "n-eEA12XaGbD"
      },
      "execution_count": null,
      "outputs": []
    },
    {
      "cell_type": "code",
      "source": [
        "distance_matrix(data_points,data_points,p=1) # p=1 City block distance"
      ],
      "metadata": {
        "id": "wKgslA3PcNZF"
      },
      "execution_count": null,
      "outputs": []
    },
    {
      "cell_type": "markdown",
      "source": [
        "##z-score"
      ],
      "metadata": {
        "id": "6jGzxrGtB0Yl"
      }
    },
    {
      "cell_type": "markdown",
      "source": [
        "### normalization"
      ],
      "metadata": {
        "id": "xi9U9wgesEsw"
      }
    }
  ]
}