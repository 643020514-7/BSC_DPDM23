{
  "nbformat": 4,
  "nbformat_minor": 0,
  "metadata": {
    "colab": {
      "name": "Frequent Patterns (Association Rules).ipynb",
      "provenance": [],
      "toc_visible": true,
      "include_colab_link": true
    },
    "kernelspec": {
      "name": "python3",
      "display_name": "Python 3"
    },
    "language_info": {
      "name": "python"
    }
  },
  "cells": [
    {
      "cell_type": "markdown",
      "metadata": {
        "id": "view-in-github",
        "colab_type": "text"
      },
      "source": [
        "<a href=\"https://colab.research.google.com/github/phurisk/BSC_DPDM23/blob/main/Frequent_Patterns_(Association_Rules).ipynb\" target=\"_parent\"><img src=\"https://colab.research.google.com/assets/colab-badge.svg\" alt=\"Open In Colab\"/></a>"
      ]
    },
    {
      "cell_type": "code",
      "metadata": {
        "id": "KZmRixV_o0Jw"
      },
      "source": [
        "import pandas as pd\n",
        "import os"
      ],
      "execution_count": 1,
      "outputs": []
    },
    {
      "cell_type": "code",
      "metadata": {
        "colab": {
          "base_uri": "https://localhost:8080/"
        },
        "id": "BZaeBFmzp6zA",
        "outputId": "674fe272-1f90-4218-bff9-f81aa955e490"
      },
      "source": [
        "from google.colab import drive\n",
        "drive.mount('/content/drive')\n",
        "path = '/content/drive/MyDrive/BSC_DPDM23/File'"
      ],
      "execution_count": 2,
      "outputs": [
        {
          "output_type": "stream",
          "name": "stdout",
          "text": [
            "Mounted at /content/drive\n"
          ]
        }
      ]
    },
    {
      "cell_type": "code",
      "metadata": {
        "id": "ikJazGz6qAn7"
      },
      "source": [
        "data = pd.read_csv(os.path.join(path,'reduced_marketbasket.csv'),encoding='latin-1')"
      ],
      "execution_count": 3,
      "outputs": []
    },
    {
      "cell_type": "code",
      "metadata": {
        "colab": {
          "base_uri": "https://localhost:8080/",
          "height": 424
        },
        "id": "vVP_s3oxqNnU",
        "outputId": "06a1f964-b9ed-4a11-f026-8706b4ff1ad7"
      },
      "source": [
        "data"
      ],
      "execution_count": 4,
      "outputs": [
        {
          "output_type": "execute_result",
          "data": {
            "text/plain": [
              "       InvoiceNo StockCode                          Description  Quantity  \\\n",
              "0         536365    85123A   WHITE HANGING HEART T-LIGHT HOLDER         6   \n",
              "1         536365     71053                  WHITE METAL LANTERN         6   \n",
              "2         536365    84406B       CREAM CUPID HEARTS COAT HANGER         8   \n",
              "3         536365    84029G  KNITTED UNION FLAG HOT WATER BOTTLE         6   \n",
              "4         536365    84029E       RED WOOLLY HOTTIE WHITE HEART.         6   \n",
              "...          ...       ...                                  ...       ...   \n",
              "541904    581587     22613          PACK OF 20 SPACEBOY NAPKINS        12   \n",
              "541905    581587     22899         CHILDREN'S APRON DOLLY GIRL          6   \n",
              "541906    581587     23254        CHILDRENS CUTLERY DOLLY GIRL          4   \n",
              "541907    581587     23255      CHILDRENS CUTLERY CIRCUS PARADE         4   \n",
              "541908    581587     22138        BAKING SET 9 PIECE RETROSPOT          3   \n",
              "\n",
              "             InvoiceDate  UnitPrice  CustomerID         Country  \n",
              "0       12/01/2010 08:26       2.55     17850.0  United Kingdom  \n",
              "1       12/01/2010 08:26       3.39     17850.0  United Kingdom  \n",
              "2       12/01/2010 08:26       2.75     17850.0  United Kingdom  \n",
              "3       12/01/2010 08:26       3.39     17850.0  United Kingdom  \n",
              "4       12/01/2010 08:26       3.39     17850.0  United Kingdom  \n",
              "...                  ...        ...         ...             ...  \n",
              "541904  12/09/2011 12:50       0.85     12680.0          France  \n",
              "541905  12/09/2011 12:50       2.10     12680.0          France  \n",
              "541906  12/09/2011 12:50       4.15     12680.0          France  \n",
              "541907  12/09/2011 12:50       4.15     12680.0          France  \n",
              "541908  12/09/2011 12:50       4.95     12680.0          France  \n",
              "\n",
              "[541909 rows x 8 columns]"
            ],
            "text/html": [
              "\n",
              "  <div id=\"df-527ae4ea-9ded-4e2c-9b42-c7c87491d6d3\" class=\"colab-df-container\">\n",
              "    <div>\n",
              "<style scoped>\n",
              "    .dataframe tbody tr th:only-of-type {\n",
              "        vertical-align: middle;\n",
              "    }\n",
              "\n",
              "    .dataframe tbody tr th {\n",
              "        vertical-align: top;\n",
              "    }\n",
              "\n",
              "    .dataframe thead th {\n",
              "        text-align: right;\n",
              "    }\n",
              "</style>\n",
              "<table border=\"1\" class=\"dataframe\">\n",
              "  <thead>\n",
              "    <tr style=\"text-align: right;\">\n",
              "      <th></th>\n",
              "      <th>InvoiceNo</th>\n",
              "      <th>StockCode</th>\n",
              "      <th>Description</th>\n",
              "      <th>Quantity</th>\n",
              "      <th>InvoiceDate</th>\n",
              "      <th>UnitPrice</th>\n",
              "      <th>CustomerID</th>\n",
              "      <th>Country</th>\n",
              "    </tr>\n",
              "  </thead>\n",
              "  <tbody>\n",
              "    <tr>\n",
              "      <th>0</th>\n",
              "      <td>536365</td>\n",
              "      <td>85123A</td>\n",
              "      <td>WHITE HANGING HEART T-LIGHT HOLDER</td>\n",
              "      <td>6</td>\n",
              "      <td>12/01/2010 08:26</td>\n",
              "      <td>2.55</td>\n",
              "      <td>17850.0</td>\n",
              "      <td>United Kingdom</td>\n",
              "    </tr>\n",
              "    <tr>\n",
              "      <th>1</th>\n",
              "      <td>536365</td>\n",
              "      <td>71053</td>\n",
              "      <td>WHITE METAL LANTERN</td>\n",
              "      <td>6</td>\n",
              "      <td>12/01/2010 08:26</td>\n",
              "      <td>3.39</td>\n",
              "      <td>17850.0</td>\n",
              "      <td>United Kingdom</td>\n",
              "    </tr>\n",
              "    <tr>\n",
              "      <th>2</th>\n",
              "      <td>536365</td>\n",
              "      <td>84406B</td>\n",
              "      <td>CREAM CUPID HEARTS COAT HANGER</td>\n",
              "      <td>8</td>\n",
              "      <td>12/01/2010 08:26</td>\n",
              "      <td>2.75</td>\n",
              "      <td>17850.0</td>\n",
              "      <td>United Kingdom</td>\n",
              "    </tr>\n",
              "    <tr>\n",
              "      <th>3</th>\n",
              "      <td>536365</td>\n",
              "      <td>84029G</td>\n",
              "      <td>KNITTED UNION FLAG HOT WATER BOTTLE</td>\n",
              "      <td>6</td>\n",
              "      <td>12/01/2010 08:26</td>\n",
              "      <td>3.39</td>\n",
              "      <td>17850.0</td>\n",
              "      <td>United Kingdom</td>\n",
              "    </tr>\n",
              "    <tr>\n",
              "      <th>4</th>\n",
              "      <td>536365</td>\n",
              "      <td>84029E</td>\n",
              "      <td>RED WOOLLY HOTTIE WHITE HEART.</td>\n",
              "      <td>6</td>\n",
              "      <td>12/01/2010 08:26</td>\n",
              "      <td>3.39</td>\n",
              "      <td>17850.0</td>\n",
              "      <td>United Kingdom</td>\n",
              "    </tr>\n",
              "    <tr>\n",
              "      <th>...</th>\n",
              "      <td>...</td>\n",
              "      <td>...</td>\n",
              "      <td>...</td>\n",
              "      <td>...</td>\n",
              "      <td>...</td>\n",
              "      <td>...</td>\n",
              "      <td>...</td>\n",
              "      <td>...</td>\n",
              "    </tr>\n",
              "    <tr>\n",
              "      <th>541904</th>\n",
              "      <td>581587</td>\n",
              "      <td>22613</td>\n",
              "      <td>PACK OF 20 SPACEBOY NAPKINS</td>\n",
              "      <td>12</td>\n",
              "      <td>12/09/2011 12:50</td>\n",
              "      <td>0.85</td>\n",
              "      <td>12680.0</td>\n",
              "      <td>France</td>\n",
              "    </tr>\n",
              "    <tr>\n",
              "      <th>541905</th>\n",
              "      <td>581587</td>\n",
              "      <td>22899</td>\n",
              "      <td>CHILDREN'S APRON DOLLY GIRL</td>\n",
              "      <td>6</td>\n",
              "      <td>12/09/2011 12:50</td>\n",
              "      <td>2.10</td>\n",
              "      <td>12680.0</td>\n",
              "      <td>France</td>\n",
              "    </tr>\n",
              "    <tr>\n",
              "      <th>541906</th>\n",
              "      <td>581587</td>\n",
              "      <td>23254</td>\n",
              "      <td>CHILDRENS CUTLERY DOLLY GIRL</td>\n",
              "      <td>4</td>\n",
              "      <td>12/09/2011 12:50</td>\n",
              "      <td>4.15</td>\n",
              "      <td>12680.0</td>\n",
              "      <td>France</td>\n",
              "    </tr>\n",
              "    <tr>\n",
              "      <th>541907</th>\n",
              "      <td>581587</td>\n",
              "      <td>23255</td>\n",
              "      <td>CHILDRENS CUTLERY CIRCUS PARADE</td>\n",
              "      <td>4</td>\n",
              "      <td>12/09/2011 12:50</td>\n",
              "      <td>4.15</td>\n",
              "      <td>12680.0</td>\n",
              "      <td>France</td>\n",
              "    </tr>\n",
              "    <tr>\n",
              "      <th>541908</th>\n",
              "      <td>581587</td>\n",
              "      <td>22138</td>\n",
              "      <td>BAKING SET 9 PIECE RETROSPOT</td>\n",
              "      <td>3</td>\n",
              "      <td>12/09/2011 12:50</td>\n",
              "      <td>4.95</td>\n",
              "      <td>12680.0</td>\n",
              "      <td>France</td>\n",
              "    </tr>\n",
              "  </tbody>\n",
              "</table>\n",
              "<p>541909 rows × 8 columns</p>\n",
              "</div>\n",
              "    <div class=\"colab-df-buttons\">\n",
              "\n",
              "  <div class=\"colab-df-container\">\n",
              "    <button class=\"colab-df-convert\" onclick=\"convertToInteractive('df-527ae4ea-9ded-4e2c-9b42-c7c87491d6d3')\"\n",
              "            title=\"Convert this dataframe to an interactive table.\"\n",
              "            style=\"display:none;\">\n",
              "\n",
              "  <svg xmlns=\"http://www.w3.org/2000/svg\" height=\"24px\" viewBox=\"0 -960 960 960\">\n",
              "    <path d=\"M120-120v-720h720v720H120Zm60-500h600v-160H180v160Zm220 220h160v-160H400v160Zm0 220h160v-160H400v160ZM180-400h160v-160H180v160Zm440 0h160v-160H620v160ZM180-180h160v-160H180v160Zm440 0h160v-160H620v160Z\"/>\n",
              "  </svg>\n",
              "    </button>\n",
              "\n",
              "  <style>\n",
              "    .colab-df-container {\n",
              "      display:flex;\n",
              "      gap: 12px;\n",
              "    }\n",
              "\n",
              "    .colab-df-convert {\n",
              "      background-color: #E8F0FE;\n",
              "      border: none;\n",
              "      border-radius: 50%;\n",
              "      cursor: pointer;\n",
              "      display: none;\n",
              "      fill: #1967D2;\n",
              "      height: 32px;\n",
              "      padding: 0 0 0 0;\n",
              "      width: 32px;\n",
              "    }\n",
              "\n",
              "    .colab-df-convert:hover {\n",
              "      background-color: #E2EBFA;\n",
              "      box-shadow: 0px 1px 2px rgba(60, 64, 67, 0.3), 0px 1px 3px 1px rgba(60, 64, 67, 0.15);\n",
              "      fill: #174EA6;\n",
              "    }\n",
              "\n",
              "    .colab-df-buttons div {\n",
              "      margin-bottom: 4px;\n",
              "    }\n",
              "\n",
              "    [theme=dark] .colab-df-convert {\n",
              "      background-color: #3B4455;\n",
              "      fill: #D2E3FC;\n",
              "    }\n",
              "\n",
              "    [theme=dark] .colab-df-convert:hover {\n",
              "      background-color: #434B5C;\n",
              "      box-shadow: 0px 1px 3px 1px rgba(0, 0, 0, 0.15);\n",
              "      filter: drop-shadow(0px 1px 2px rgba(0, 0, 0, 0.3));\n",
              "      fill: #FFFFFF;\n",
              "    }\n",
              "  </style>\n",
              "\n",
              "    <script>\n",
              "      const buttonEl =\n",
              "        document.querySelector('#df-527ae4ea-9ded-4e2c-9b42-c7c87491d6d3 button.colab-df-convert');\n",
              "      buttonEl.style.display =\n",
              "        google.colab.kernel.accessAllowed ? 'block' : 'none';\n",
              "\n",
              "      async function convertToInteractive(key) {\n",
              "        const element = document.querySelector('#df-527ae4ea-9ded-4e2c-9b42-c7c87491d6d3');\n",
              "        const dataTable =\n",
              "          await google.colab.kernel.invokeFunction('convertToInteractive',\n",
              "                                                    [key], {});\n",
              "        if (!dataTable) return;\n",
              "\n",
              "        const docLinkHtml = 'Like what you see? Visit the ' +\n",
              "          '<a target=\"_blank\" href=https://colab.research.google.com/notebooks/data_table.ipynb>data table notebook</a>'\n",
              "          + ' to learn more about interactive tables.';\n",
              "        element.innerHTML = '';\n",
              "        dataTable['output_type'] = 'display_data';\n",
              "        await google.colab.output.renderOutput(dataTable, element);\n",
              "        const docLink = document.createElement('div');\n",
              "        docLink.innerHTML = docLinkHtml;\n",
              "        element.appendChild(docLink);\n",
              "      }\n",
              "    </script>\n",
              "  </div>\n",
              "\n",
              "\n",
              "<div id=\"df-11eb46cd-36f7-4004-9623-7dfbdf5d7ed2\">\n",
              "  <button class=\"colab-df-quickchart\" onclick=\"quickchart('df-11eb46cd-36f7-4004-9623-7dfbdf5d7ed2')\"\n",
              "            title=\"Suggest charts\"\n",
              "            style=\"display:none;\">\n",
              "\n",
              "<svg xmlns=\"http://www.w3.org/2000/svg\" height=\"24px\"viewBox=\"0 0 24 24\"\n",
              "     width=\"24px\">\n",
              "    <g>\n",
              "        <path d=\"M19 3H5c-1.1 0-2 .9-2 2v14c0 1.1.9 2 2 2h14c1.1 0 2-.9 2-2V5c0-1.1-.9-2-2-2zM9 17H7v-7h2v7zm4 0h-2V7h2v10zm4 0h-2v-4h2v4z\"/>\n",
              "    </g>\n",
              "</svg>\n",
              "  </button>\n",
              "\n",
              "<style>\n",
              "  .colab-df-quickchart {\n",
              "      --bg-color: #E8F0FE;\n",
              "      --fill-color: #1967D2;\n",
              "      --hover-bg-color: #E2EBFA;\n",
              "      --hover-fill-color: #174EA6;\n",
              "      --disabled-fill-color: #AAA;\n",
              "      --disabled-bg-color: #DDD;\n",
              "  }\n",
              "\n",
              "  [theme=dark] .colab-df-quickchart {\n",
              "      --bg-color: #3B4455;\n",
              "      --fill-color: #D2E3FC;\n",
              "      --hover-bg-color: #434B5C;\n",
              "      --hover-fill-color: #FFFFFF;\n",
              "      --disabled-bg-color: #3B4455;\n",
              "      --disabled-fill-color: #666;\n",
              "  }\n",
              "\n",
              "  .colab-df-quickchart {\n",
              "    background-color: var(--bg-color);\n",
              "    border: none;\n",
              "    border-radius: 50%;\n",
              "    cursor: pointer;\n",
              "    display: none;\n",
              "    fill: var(--fill-color);\n",
              "    height: 32px;\n",
              "    padding: 0;\n",
              "    width: 32px;\n",
              "  }\n",
              "\n",
              "  .colab-df-quickchart:hover {\n",
              "    background-color: var(--hover-bg-color);\n",
              "    box-shadow: 0 1px 2px rgba(60, 64, 67, 0.3), 0 1px 3px 1px rgba(60, 64, 67, 0.15);\n",
              "    fill: var(--button-hover-fill-color);\n",
              "  }\n",
              "\n",
              "  .colab-df-quickchart-complete:disabled,\n",
              "  .colab-df-quickchart-complete:disabled:hover {\n",
              "    background-color: var(--disabled-bg-color);\n",
              "    fill: var(--disabled-fill-color);\n",
              "    box-shadow: none;\n",
              "  }\n",
              "\n",
              "  .colab-df-spinner {\n",
              "    border: 2px solid var(--fill-color);\n",
              "    border-color: transparent;\n",
              "    border-bottom-color: var(--fill-color);\n",
              "    animation:\n",
              "      spin 1s steps(1) infinite;\n",
              "  }\n",
              "\n",
              "  @keyframes spin {\n",
              "    0% {\n",
              "      border-color: transparent;\n",
              "      border-bottom-color: var(--fill-color);\n",
              "      border-left-color: var(--fill-color);\n",
              "    }\n",
              "    20% {\n",
              "      border-color: transparent;\n",
              "      border-left-color: var(--fill-color);\n",
              "      border-top-color: var(--fill-color);\n",
              "    }\n",
              "    30% {\n",
              "      border-color: transparent;\n",
              "      border-left-color: var(--fill-color);\n",
              "      border-top-color: var(--fill-color);\n",
              "      border-right-color: var(--fill-color);\n",
              "    }\n",
              "    40% {\n",
              "      border-color: transparent;\n",
              "      border-right-color: var(--fill-color);\n",
              "      border-top-color: var(--fill-color);\n",
              "    }\n",
              "    60% {\n",
              "      border-color: transparent;\n",
              "      border-right-color: var(--fill-color);\n",
              "    }\n",
              "    80% {\n",
              "      border-color: transparent;\n",
              "      border-right-color: var(--fill-color);\n",
              "      border-bottom-color: var(--fill-color);\n",
              "    }\n",
              "    90% {\n",
              "      border-color: transparent;\n",
              "      border-bottom-color: var(--fill-color);\n",
              "    }\n",
              "  }\n",
              "</style>\n",
              "\n",
              "  <script>\n",
              "    async function quickchart(key) {\n",
              "      const quickchartButtonEl =\n",
              "        document.querySelector('#' + key + ' button');\n",
              "      quickchartButtonEl.disabled = true;  // To prevent multiple clicks.\n",
              "      quickchartButtonEl.classList.add('colab-df-spinner');\n",
              "      try {\n",
              "        const charts = await google.colab.kernel.invokeFunction(\n",
              "            'suggestCharts', [key], {});\n",
              "      } catch (error) {\n",
              "        console.error('Error during call to suggestCharts:', error);\n",
              "      }\n",
              "      quickchartButtonEl.classList.remove('colab-df-spinner');\n",
              "      quickchartButtonEl.classList.add('colab-df-quickchart-complete');\n",
              "    }\n",
              "    (() => {\n",
              "      let quickchartButtonEl =\n",
              "        document.querySelector('#df-11eb46cd-36f7-4004-9623-7dfbdf5d7ed2 button');\n",
              "      quickchartButtonEl.style.display =\n",
              "        google.colab.kernel.accessAllowed ? 'block' : 'none';\n",
              "    })();\n",
              "  </script>\n",
              "</div>\n",
              "    </div>\n",
              "  </div>\n"
            ]
          },
          "metadata": {},
          "execution_count": 4
        }
      ]
    },
    {
      "cell_type": "markdown",
      "source": [
        "## แปลง data ให้อยู่ในรูปแบบ transaction data ด้วย group by .appy(list)"
      ],
      "metadata": {
        "id": "Wkjmmto7WHsg"
      }
    },
    {
      "cell_type": "code",
      "metadata": {
        "colab": {
          "base_uri": "https://localhost:8080/"
        },
        "id": "tgURZufxqOsX",
        "outputId": "3fad0f74-aced-4840-bbfc-aeb568e4c363"
      },
      "source": [
        "data.groupby('InvoiceNo')['StockCode'].apply(list)"
      ],
      "execution_count": 5,
      "outputs": [
        {
          "output_type": "execute_result",
          "data": {
            "text/plain": [
              "InvoiceNo\n",
              "536365     [85123A, 71053, 84406B, 84029G, 84029E, 22752,...\n",
              "536366                                        [22633, 22632]\n",
              "536367     [84879, 22745, 22748, 22749, 22310, 84969, 226...\n",
              "536368                          [22960, 22913, 22912, 22914]\n",
              "536369                                               [21756]\n",
              "                                 ...                        \n",
              "C581484                                              [23843]\n",
              "C581490                                       [22178, 23144]\n",
              "C581499                                                  [M]\n",
              "C581568                                              [21258]\n",
              "C581569                                       [84978, 20979]\n",
              "Name: StockCode, Length: 25900, dtype: object"
            ]
          },
          "metadata": {},
          "execution_count": 5
        }
      ]
    },
    {
      "cell_type": "code",
      "metadata": {
        "id": "WQJgxn-KuAPL"
      },
      "source": [
        "transactions = data.groupby('InvoiceNo')['StockCode'].apply(list)"
      ],
      "execution_count": 6,
      "outputs": []
    },
    {
      "cell_type": "markdown",
      "source": [
        "- ดูประเทศ"
      ],
      "metadata": {
        "id": "9x2p1ASNXher"
      }
    },
    {
      "cell_type": "code",
      "source": [
        "set(data[\"Country\"])"
      ],
      "metadata": {
        "id": "mAv5otxcXkrb",
        "colab": {
          "base_uri": "https://localhost:8080/"
        },
        "outputId": "598e985f-ba29-4f5d-f0cb-f32df8602a55"
      },
      "execution_count": 7,
      "outputs": [
        {
          "output_type": "execute_result",
          "data": {
            "text/plain": [
              "{'Australia',\n",
              " 'Austria',\n",
              " 'Bahrain',\n",
              " 'Belgium',\n",
              " 'Brazil',\n",
              " 'Canada',\n",
              " 'Channel Islands',\n",
              " 'Cyprus',\n",
              " 'Czech Republic',\n",
              " 'Denmark',\n",
              " 'EIRE',\n",
              " 'European Community',\n",
              " 'Finland',\n",
              " 'France',\n",
              " 'Germany',\n",
              " 'Greece',\n",
              " 'Hong Kong',\n",
              " 'Iceland',\n",
              " 'Israel',\n",
              " 'Italy',\n",
              " 'Japan',\n",
              " 'Lebanon',\n",
              " 'Lithuania',\n",
              " 'Malta',\n",
              " 'Netherlands',\n",
              " 'Norway',\n",
              " 'Poland',\n",
              " 'Portugal',\n",
              " 'RSA',\n",
              " 'Saudi Arabia',\n",
              " 'Singapore',\n",
              " 'Spain',\n",
              " 'Sweden',\n",
              " 'Switzerland',\n",
              " 'USA',\n",
              " 'United Arab Emirates',\n",
              " 'United Kingdom',\n",
              " 'Unspecified'}"
            ]
          },
          "metadata": {},
          "execution_count": 7
        }
      ]
    },
    {
      "cell_type": "markdown",
      "metadata": {
        "id": "TqkZl7tUsgUT"
      },
      "source": [
        "## Association Rules"
      ]
    },
    {
      "cell_type": "code",
      "metadata": {
        "colab": {
          "base_uri": "https://localhost:8080/"
        },
        "id": "kxLayaaAtkh8",
        "outputId": "93e5ce80-409c-48e7-bde7-0e2500e983e4"
      },
      "source": [
        "!pip install apyori"
      ],
      "execution_count": 8,
      "outputs": [
        {
          "output_type": "stream",
          "name": "stdout",
          "text": [
            "Collecting apyori\n",
            "  Downloading apyori-1.1.2.tar.gz (8.6 kB)\n",
            "  Preparing metadata (setup.py) ... \u001b[?25l\u001b[?25hdone\n",
            "Building wheels for collected packages: apyori\n",
            "  Building wheel for apyori (setup.py) ... \u001b[?25l\u001b[?25hdone\n",
            "  Created wheel for apyori: filename=apyori-1.1.2-py3-none-any.whl size=5954 sha256=a139bf021cf38cf58570fce08aad0aaaf23fb79590c74900ef16649c32232c3d\n",
            "  Stored in directory: /root/.cache/pip/wheels/c4/1a/79/20f55c470a50bb3702a8cb7c94d8ada15573538c7f4baebe2d\n",
            "Successfully built apyori\n",
            "Installing collected packages: apyori\n",
            "Successfully installed apyori-1.1.2\n"
          ]
        }
      ]
    },
    {
      "cell_type": "code",
      "metadata": {
        "id": "MU_DkGZ2sKw_"
      },
      "source": [
        "from apyori import apriori"
      ],
      "execution_count": 9,
      "outputs": []
    },
    {
      "cell_type": "code",
      "metadata": {
        "colab": {
          "base_uri": "https://localhost:8080/"
        },
        "id": "Uwysx9eLtg7H",
        "outputId": "024e8406-f9bc-47ad-82b4-2ec72d432433"
      },
      "source": [
        "frequentItemsets = list(apriori(transactions,min_support = 0.065))\n",
        "frequentItemsets"
      ],
      "execution_count": 10,
      "outputs": [
        {
          "output_type": "execute_result",
          "data": {
            "text/plain": [
              "[RelationRecord(items=frozenset({'22423'}), support=0.08386100386100385, ordered_statistics=[OrderedStatistic(items_base=frozenset(), items_add=frozenset({'22423'}), confidence=0.08386100386100385, lift=1.0)]),\n",
              " RelationRecord(items=frozenset({'47566'}), support=0.06586872586872587, ordered_statistics=[OrderedStatistic(items_base=frozenset(), items_add=frozenset({'47566'}), confidence=0.06586872586872587, lift=1.0)]),\n",
              " RelationRecord(items=frozenset({'85099B'}), support=0.08243243243243244, ordered_statistics=[OrderedStatistic(items_base=frozenset(), items_add=frozenset({'85099B'}), confidence=0.08243243243243244, lift=1.0)]),\n",
              " RelationRecord(items=frozenset({'85123A'}), support=0.08671814671814672, ordered_statistics=[OrderedStatistic(items_base=frozenset(), items_add=frozenset({'85123A'}), confidence=0.08671814671814672, lift=1.0)])]"
            ]
          },
          "metadata": {},
          "execution_count": 10
        }
      ]
    },
    {
      "cell_type": "code",
      "metadata": {
        "id": "Cy62VyRYubh1",
        "outputId": "0671be90-07e9-41c3-d509-b844f8e830c0",
        "colab": {
          "base_uri": "https://localhost:8080/"
        }
      },
      "source": [
        "len(frequentItemsets)"
      ],
      "execution_count": 11,
      "outputs": [
        {
          "output_type": "execute_result",
          "data": {
            "text/plain": [
              "4"
            ]
          },
          "metadata": {},
          "execution_count": 11
        }
      ]
    },
    {
      "cell_type": "code",
      "source": [
        "frequentItemsets[0][0]"
      ],
      "metadata": {
        "id": "KcLWBRQWmuor",
        "outputId": "1247433c-77b1-45b9-9c70-9435e63bc1a7",
        "colab": {
          "base_uri": "https://localhost:8080/"
        }
      },
      "execution_count": 12,
      "outputs": [
        {
          "output_type": "execute_result",
          "data": {
            "text/plain": [
              "frozenset({'22423'})"
            ]
          },
          "metadata": {},
          "execution_count": 12
        }
      ]
    },
    {
      "cell_type": "code",
      "source": [
        "# dir(frequentItemsets[0][0])"
      ],
      "metadata": {
        "id": "GJl8vZ_dm92S"
      },
      "execution_count": 13,
      "outputs": []
    },
    {
      "cell_type": "code",
      "source": [
        "frequentItemsets[0][0].__len__()"
      ],
      "metadata": {
        "id": "XJalbowGoIZJ",
        "outputId": "93fdbe84-356a-477f-d90b-ca3a6776fbb2",
        "colab": {
          "base_uri": "https://localhost:8080/"
        }
      },
      "execution_count": 14,
      "outputs": [
        {
          "output_type": "execute_result",
          "data": {
            "text/plain": [
              "1"
            ]
          },
          "metadata": {},
          "execution_count": 14
        }
      ]
    },
    {
      "cell_type": "code",
      "source": [
        "min_sup = 0.03\n",
        "\n",
        "frequentItemsets = list(apriori(transactions,min_support = min_sup))\n",
        "for i in frequentItemsets:\n",
        "    if i[0].__len__()>1:\n",
        "        print('yes')\n",
        "        print(i)"
      ],
      "metadata": {
        "id": "jM2C0KM3oVNE",
        "outputId": "96a6502e-7b7b-4dfd-cae5-0ef11285c11a",
        "colab": {
          "base_uri": "https://localhost:8080/"
        }
      },
      "execution_count": 15,
      "outputs": [
        {
          "output_type": "stream",
          "name": "stdout",
          "text": [
            "yes\n",
            "RelationRecord(items=frozenset({'22386', '85099B'}), support=0.03216216216216216, ordered_statistics=[OrderedStatistic(items_base=frozenset(), items_add=frozenset({'22386', '85099B'}), confidence=0.03216216216216216, lift=1.0), OrderedStatistic(items_base=frozenset({'22386'}), items_add=frozenset({'85099B'}), confidence=0.6766856214459789, lift=8.20897311262335), OrderedStatistic(items_base=frozenset({'85099B'}), items_add=frozenset({'22386'}), confidence=0.39016393442622943, lift=8.20897311262335)])\n",
            "yes\n",
            "RelationRecord(items=frozenset({'22697', '22699'}), support=0.03027027027027027, ordered_statistics=[OrderedStatistic(items_base=frozenset(), items_add=frozenset({'22697', '22699'}), confidence=0.03027027027027027, lift=1.0), OrderedStatistic(items_base=frozenset({'22697'}), items_add=frozenset({'22699'}), confidence=0.7417218543046358, lift=17.1523178807947), OrderedStatistic(items_base=frozenset({'22699'}), items_add=frozenset({'22697'}), confidence=0.7, lift=17.1523178807947)])\n"
          ]
        }
      ]
    },
    {
      "cell_type": "markdown",
      "source": [
        "RelationRecord(items=frozenset({'22386', '85099B'}),\n",
        "\n",
        "support=0.03216216216216216,\n",
        "\n",
        "ordered_statistics=[OrderedStatistic(items_base=frozenset(), items_add=frozenset({'22386', '85099B'}), confidence=0.03216216216216216, lift=1.0),\n",
        "\n",
        "OrderedStatistic(items_base=frozenset({'22386'}), items_add=frozenset({'85099B'}), confidence=0.6766856214459789, lift=8.20897311262335),\n",
        "\n",
        "OrderedStatistic(items_base=frozenset({'85099B'}), items_add=frozenset({'22386'}), confidence=0.39016393442622943, lift=8.20897311262335)])\n"
      ],
      "metadata": {
        "id": "G1folVtqpH_v"
      }
    },
    {
      "cell_type": "code",
      "source": [
        "set(data[(data['StockCode']=='22386') | (data['StockCode']=='85099B') | (data['StockCode']=='22699') | (data['StockCode']=='22697') ]['Description'])"
      ],
      "metadata": {
        "id": "OC4mSCPGo19r",
        "outputId": "eace8f0f-f731-47f1-8e69-41393f80f228",
        "colab": {
          "base_uri": "https://localhost:8080/"
        }
      },
      "execution_count": 16,
      "outputs": [
        {
          "output_type": "execute_result",
          "data": {
            "text/plain": [
              "{'GREEN REGENCY TEACUP AND SAUCER',\n",
              " 'JUMBO BAG PINK POLKADOT',\n",
              " 'JUMBO BAG RED RETROSPOT',\n",
              " 'ROSES REGENCY TEACUP AND SAUCER '}"
            ]
          },
          "metadata": {},
          "execution_count": 16
        }
      ]
    },
    {
      "cell_type": "markdown",
      "source": [
        "RelationRecord(items=frozenset({'22699', '22697'}), support=0.03027027027027027,\n",
        "\n",
        "ordered_statistics=[OrderedStatistic(items_base=frozenset(), items_add=frozenset({'22699', '22697'}), confidence=0.03027027027027027, lift=1.0),\n",
        "\n",
        "OrderedStatistic(items_base=frozenset({'22697'}), items_add=frozenset({'22699'}), confidence=0.7417218543046358, lift=17.1523178807947),\n",
        "\n",
        "OrderedStatistic(items_base=frozenset({'22699'}), items_add=frozenset({'22697'}), confidence=0.7, lift=17.1523178807947)])"
      ],
      "metadata": {
        "id": "dYvCIbEVtyZy"
      }
    },
    {
      "cell_type": "code",
      "source": [
        "# set(data[(data['StockCode']=='22699') | (data['StockCode']=='22697')]['InvoiceNo'])"
      ],
      "metadata": {
        "id": "E7jOT-C3tYD0"
      },
      "execution_count": 17,
      "outputs": []
    },
    {
      "cell_type": "code",
      "source": [
        "data[data['InvoiceNo']=='562950']"
      ],
      "metadata": {
        "id": "HazWszWkuW2o",
        "outputId": "63f127a8-aaf8-4a39-8cad-8e8373a35a53",
        "colab": {
          "base_uri": "https://localhost:8080/",
          "height": 614
        }
      },
      "execution_count": 18,
      "outputs": [
        {
          "output_type": "execute_result",
          "data": {
            "text/plain": [
              "       InvoiceNo StockCode                         Description  Quantity  \\\n",
              "297488    562950     22752        SET 7 BABUSHKA NESTING BOXES         2   \n",
              "297489    562950     22755     SMALL PURPLE BABUSHKA NOTEBOOK         12   \n",
              "297490    562950     22753     SMALL YELLOW BABUSHKA NOTEBOOK         12   \n",
              "297491    562950     22754        SMALL RED BABUSHKA NOTEBOOK         12   \n",
              "297492    562950     22757        LARGE RED BABUSHKA NOTEBOOK         12   \n",
              "297493    562950     22758    LARGE PURPLE BABUSHKA NOTEBOOK          12   \n",
              "297494    562950     22756     LARGE YELLOW BABUSHKA NOTEBOOK         12   \n",
              "297495    562950     23310             BUBBLEGUM RING ASSORTED        36   \n",
              "297496    562950     23280  FOLDING BUTTERFLY MIRROR HOT PINK         12   \n",
              "297497    562950     22383              LUNCH BAG SUKI DESIGN         10   \n",
              "297498    562950     22492             MINI PAINT SET VINTAGE         36   \n",
              "297499    562950     71459      HANGING JAM JAR T-LIGHT HOLDER        12   \n",
              "297500    562950     84945  MULTI COLOUR SILVER T-LIGHT HOLDER        12   \n",
              "297501    562950     21175         GIN + TONIC DIET METAL SIGN        12   \n",
              "297502    562950     23164                  REGENCY CAKE SLICE         4   \n",
              "297503    562950     23245          SET OF 3 REGENCY CAKE TINS         4   \n",
              "297504    562950     23171            REGENCY TEA PLATE GREEN         12   \n",
              "297505    562950     22697     GREEN REGENCY TEACUP AND SAUCER         6   \n",
              "\n",
              "             InvoiceDate  UnitPrice  CustomerID         Country  \n",
              "297488  08/11/2011 09:56       8.50     15608.0  United Kingdom  \n",
              "297489  08/11/2011 09:56       0.85     15608.0  United Kingdom  \n",
              "297490  08/11/2011 09:56       0.85     15608.0  United Kingdom  \n",
              "297491  08/11/2011 09:56       0.85     15608.0  United Kingdom  \n",
              "297492  08/11/2011 09:56       1.25     15608.0  United Kingdom  \n",
              "297493  08/11/2011 09:56       1.25     15608.0  United Kingdom  \n",
              "297494  08/11/2011 09:56       1.25     15608.0  United Kingdom  \n",
              "297495  08/11/2011 09:56       0.42     15608.0  United Kingdom  \n",
              "297496  08/11/2011 09:56       0.83     15608.0  United Kingdom  \n",
              "297497  08/11/2011 09:56       1.65     15608.0  United Kingdom  \n",
              "297498  08/11/2011 09:56       0.65     15608.0  United Kingdom  \n",
              "297499  08/11/2011 09:56       0.85     15608.0  United Kingdom  \n",
              "297500  08/11/2011 09:56       0.85     15608.0  United Kingdom  \n",
              "297501  08/11/2011 09:56       2.55     15608.0  United Kingdom  \n",
              "297502  08/11/2011 09:56       4.95     15608.0  United Kingdom  \n",
              "297503  08/11/2011 09:56       4.95     15608.0  United Kingdom  \n",
              "297504  08/11/2011 09:56       1.65     15608.0  United Kingdom  \n",
              "297505  08/11/2011 09:56       2.95     15608.0  United Kingdom  "
            ],
            "text/html": [
              "\n",
              "  <div id=\"df-624c4967-3a53-4b1c-99ad-cd7d7b5e472b\" class=\"colab-df-container\">\n",
              "    <div>\n",
              "<style scoped>\n",
              "    .dataframe tbody tr th:only-of-type {\n",
              "        vertical-align: middle;\n",
              "    }\n",
              "\n",
              "    .dataframe tbody tr th {\n",
              "        vertical-align: top;\n",
              "    }\n",
              "\n",
              "    .dataframe thead th {\n",
              "        text-align: right;\n",
              "    }\n",
              "</style>\n",
              "<table border=\"1\" class=\"dataframe\">\n",
              "  <thead>\n",
              "    <tr style=\"text-align: right;\">\n",
              "      <th></th>\n",
              "      <th>InvoiceNo</th>\n",
              "      <th>StockCode</th>\n",
              "      <th>Description</th>\n",
              "      <th>Quantity</th>\n",
              "      <th>InvoiceDate</th>\n",
              "      <th>UnitPrice</th>\n",
              "      <th>CustomerID</th>\n",
              "      <th>Country</th>\n",
              "    </tr>\n",
              "  </thead>\n",
              "  <tbody>\n",
              "    <tr>\n",
              "      <th>297488</th>\n",
              "      <td>562950</td>\n",
              "      <td>22752</td>\n",
              "      <td>SET 7 BABUSHKA NESTING BOXES</td>\n",
              "      <td>2</td>\n",
              "      <td>08/11/2011 09:56</td>\n",
              "      <td>8.50</td>\n",
              "      <td>15608.0</td>\n",
              "      <td>United Kingdom</td>\n",
              "    </tr>\n",
              "    <tr>\n",
              "      <th>297489</th>\n",
              "      <td>562950</td>\n",
              "      <td>22755</td>\n",
              "      <td>SMALL PURPLE BABUSHKA NOTEBOOK</td>\n",
              "      <td>12</td>\n",
              "      <td>08/11/2011 09:56</td>\n",
              "      <td>0.85</td>\n",
              "      <td>15608.0</td>\n",
              "      <td>United Kingdom</td>\n",
              "    </tr>\n",
              "    <tr>\n",
              "      <th>297490</th>\n",
              "      <td>562950</td>\n",
              "      <td>22753</td>\n",
              "      <td>SMALL YELLOW BABUSHKA NOTEBOOK</td>\n",
              "      <td>12</td>\n",
              "      <td>08/11/2011 09:56</td>\n",
              "      <td>0.85</td>\n",
              "      <td>15608.0</td>\n",
              "      <td>United Kingdom</td>\n",
              "    </tr>\n",
              "    <tr>\n",
              "      <th>297491</th>\n",
              "      <td>562950</td>\n",
              "      <td>22754</td>\n",
              "      <td>SMALL RED BABUSHKA NOTEBOOK</td>\n",
              "      <td>12</td>\n",
              "      <td>08/11/2011 09:56</td>\n",
              "      <td>0.85</td>\n",
              "      <td>15608.0</td>\n",
              "      <td>United Kingdom</td>\n",
              "    </tr>\n",
              "    <tr>\n",
              "      <th>297492</th>\n",
              "      <td>562950</td>\n",
              "      <td>22757</td>\n",
              "      <td>LARGE RED BABUSHKA NOTEBOOK</td>\n",
              "      <td>12</td>\n",
              "      <td>08/11/2011 09:56</td>\n",
              "      <td>1.25</td>\n",
              "      <td>15608.0</td>\n",
              "      <td>United Kingdom</td>\n",
              "    </tr>\n",
              "    <tr>\n",
              "      <th>297493</th>\n",
              "      <td>562950</td>\n",
              "      <td>22758</td>\n",
              "      <td>LARGE PURPLE BABUSHKA NOTEBOOK</td>\n",
              "      <td>12</td>\n",
              "      <td>08/11/2011 09:56</td>\n",
              "      <td>1.25</td>\n",
              "      <td>15608.0</td>\n",
              "      <td>United Kingdom</td>\n",
              "    </tr>\n",
              "    <tr>\n",
              "      <th>297494</th>\n",
              "      <td>562950</td>\n",
              "      <td>22756</td>\n",
              "      <td>LARGE YELLOW BABUSHKA NOTEBOOK</td>\n",
              "      <td>12</td>\n",
              "      <td>08/11/2011 09:56</td>\n",
              "      <td>1.25</td>\n",
              "      <td>15608.0</td>\n",
              "      <td>United Kingdom</td>\n",
              "    </tr>\n",
              "    <tr>\n",
              "      <th>297495</th>\n",
              "      <td>562950</td>\n",
              "      <td>23310</td>\n",
              "      <td>BUBBLEGUM RING ASSORTED</td>\n",
              "      <td>36</td>\n",
              "      <td>08/11/2011 09:56</td>\n",
              "      <td>0.42</td>\n",
              "      <td>15608.0</td>\n",
              "      <td>United Kingdom</td>\n",
              "    </tr>\n",
              "    <tr>\n",
              "      <th>297496</th>\n",
              "      <td>562950</td>\n",
              "      <td>23280</td>\n",
              "      <td>FOLDING BUTTERFLY MIRROR HOT PINK</td>\n",
              "      <td>12</td>\n",
              "      <td>08/11/2011 09:56</td>\n",
              "      <td>0.83</td>\n",
              "      <td>15608.0</td>\n",
              "      <td>United Kingdom</td>\n",
              "    </tr>\n",
              "    <tr>\n",
              "      <th>297497</th>\n",
              "      <td>562950</td>\n",
              "      <td>22383</td>\n",
              "      <td>LUNCH BAG SUKI DESIGN</td>\n",
              "      <td>10</td>\n",
              "      <td>08/11/2011 09:56</td>\n",
              "      <td>1.65</td>\n",
              "      <td>15608.0</td>\n",
              "      <td>United Kingdom</td>\n",
              "    </tr>\n",
              "    <tr>\n",
              "      <th>297498</th>\n",
              "      <td>562950</td>\n",
              "      <td>22492</td>\n",
              "      <td>MINI PAINT SET VINTAGE</td>\n",
              "      <td>36</td>\n",
              "      <td>08/11/2011 09:56</td>\n",
              "      <td>0.65</td>\n",
              "      <td>15608.0</td>\n",
              "      <td>United Kingdom</td>\n",
              "    </tr>\n",
              "    <tr>\n",
              "      <th>297499</th>\n",
              "      <td>562950</td>\n",
              "      <td>71459</td>\n",
              "      <td>HANGING JAM JAR T-LIGHT HOLDER</td>\n",
              "      <td>12</td>\n",
              "      <td>08/11/2011 09:56</td>\n",
              "      <td>0.85</td>\n",
              "      <td>15608.0</td>\n",
              "      <td>United Kingdom</td>\n",
              "    </tr>\n",
              "    <tr>\n",
              "      <th>297500</th>\n",
              "      <td>562950</td>\n",
              "      <td>84945</td>\n",
              "      <td>MULTI COLOUR SILVER T-LIGHT HOLDER</td>\n",
              "      <td>12</td>\n",
              "      <td>08/11/2011 09:56</td>\n",
              "      <td>0.85</td>\n",
              "      <td>15608.0</td>\n",
              "      <td>United Kingdom</td>\n",
              "    </tr>\n",
              "    <tr>\n",
              "      <th>297501</th>\n",
              "      <td>562950</td>\n",
              "      <td>21175</td>\n",
              "      <td>GIN + TONIC DIET METAL SIGN</td>\n",
              "      <td>12</td>\n",
              "      <td>08/11/2011 09:56</td>\n",
              "      <td>2.55</td>\n",
              "      <td>15608.0</td>\n",
              "      <td>United Kingdom</td>\n",
              "    </tr>\n",
              "    <tr>\n",
              "      <th>297502</th>\n",
              "      <td>562950</td>\n",
              "      <td>23164</td>\n",
              "      <td>REGENCY CAKE SLICE</td>\n",
              "      <td>4</td>\n",
              "      <td>08/11/2011 09:56</td>\n",
              "      <td>4.95</td>\n",
              "      <td>15608.0</td>\n",
              "      <td>United Kingdom</td>\n",
              "    </tr>\n",
              "    <tr>\n",
              "      <th>297503</th>\n",
              "      <td>562950</td>\n",
              "      <td>23245</td>\n",
              "      <td>SET OF 3 REGENCY CAKE TINS</td>\n",
              "      <td>4</td>\n",
              "      <td>08/11/2011 09:56</td>\n",
              "      <td>4.95</td>\n",
              "      <td>15608.0</td>\n",
              "      <td>United Kingdom</td>\n",
              "    </tr>\n",
              "    <tr>\n",
              "      <th>297504</th>\n",
              "      <td>562950</td>\n",
              "      <td>23171</td>\n",
              "      <td>REGENCY TEA PLATE GREEN</td>\n",
              "      <td>12</td>\n",
              "      <td>08/11/2011 09:56</td>\n",
              "      <td>1.65</td>\n",
              "      <td>15608.0</td>\n",
              "      <td>United Kingdom</td>\n",
              "    </tr>\n",
              "    <tr>\n",
              "      <th>297505</th>\n",
              "      <td>562950</td>\n",
              "      <td>22697</td>\n",
              "      <td>GREEN REGENCY TEACUP AND SAUCER</td>\n",
              "      <td>6</td>\n",
              "      <td>08/11/2011 09:56</td>\n",
              "      <td>2.95</td>\n",
              "      <td>15608.0</td>\n",
              "      <td>United Kingdom</td>\n",
              "    </tr>\n",
              "  </tbody>\n",
              "</table>\n",
              "</div>\n",
              "    <div class=\"colab-df-buttons\">\n",
              "\n",
              "  <div class=\"colab-df-container\">\n",
              "    <button class=\"colab-df-convert\" onclick=\"convertToInteractive('df-624c4967-3a53-4b1c-99ad-cd7d7b5e472b')\"\n",
              "            title=\"Convert this dataframe to an interactive table.\"\n",
              "            style=\"display:none;\">\n",
              "\n",
              "  <svg xmlns=\"http://www.w3.org/2000/svg\" height=\"24px\" viewBox=\"0 -960 960 960\">\n",
              "    <path d=\"M120-120v-720h720v720H120Zm60-500h600v-160H180v160Zm220 220h160v-160H400v160Zm0 220h160v-160H400v160ZM180-400h160v-160H180v160Zm440 0h160v-160H620v160ZM180-180h160v-160H180v160Zm440 0h160v-160H620v160Z\"/>\n",
              "  </svg>\n",
              "    </button>\n",
              "\n",
              "  <style>\n",
              "    .colab-df-container {\n",
              "      display:flex;\n",
              "      gap: 12px;\n",
              "    }\n",
              "\n",
              "    .colab-df-convert {\n",
              "      background-color: #E8F0FE;\n",
              "      border: none;\n",
              "      border-radius: 50%;\n",
              "      cursor: pointer;\n",
              "      display: none;\n",
              "      fill: #1967D2;\n",
              "      height: 32px;\n",
              "      padding: 0 0 0 0;\n",
              "      width: 32px;\n",
              "    }\n",
              "\n",
              "    .colab-df-convert:hover {\n",
              "      background-color: #E2EBFA;\n",
              "      box-shadow: 0px 1px 2px rgba(60, 64, 67, 0.3), 0px 1px 3px 1px rgba(60, 64, 67, 0.15);\n",
              "      fill: #174EA6;\n",
              "    }\n",
              "\n",
              "    .colab-df-buttons div {\n",
              "      margin-bottom: 4px;\n",
              "    }\n",
              "\n",
              "    [theme=dark] .colab-df-convert {\n",
              "      background-color: #3B4455;\n",
              "      fill: #D2E3FC;\n",
              "    }\n",
              "\n",
              "    [theme=dark] .colab-df-convert:hover {\n",
              "      background-color: #434B5C;\n",
              "      box-shadow: 0px 1px 3px 1px rgba(0, 0, 0, 0.15);\n",
              "      filter: drop-shadow(0px 1px 2px rgba(0, 0, 0, 0.3));\n",
              "      fill: #FFFFFF;\n",
              "    }\n",
              "  </style>\n",
              "\n",
              "    <script>\n",
              "      const buttonEl =\n",
              "        document.querySelector('#df-624c4967-3a53-4b1c-99ad-cd7d7b5e472b button.colab-df-convert');\n",
              "      buttonEl.style.display =\n",
              "        google.colab.kernel.accessAllowed ? 'block' : 'none';\n",
              "\n",
              "      async function convertToInteractive(key) {\n",
              "        const element = document.querySelector('#df-624c4967-3a53-4b1c-99ad-cd7d7b5e472b');\n",
              "        const dataTable =\n",
              "          await google.colab.kernel.invokeFunction('convertToInteractive',\n",
              "                                                    [key], {});\n",
              "        if (!dataTable) return;\n",
              "\n",
              "        const docLinkHtml = 'Like what you see? Visit the ' +\n",
              "          '<a target=\"_blank\" href=https://colab.research.google.com/notebooks/data_table.ipynb>data table notebook</a>'\n",
              "          + ' to learn more about interactive tables.';\n",
              "        element.innerHTML = '';\n",
              "        dataTable['output_type'] = 'display_data';\n",
              "        await google.colab.output.renderOutput(dataTable, element);\n",
              "        const docLink = document.createElement('div');\n",
              "        docLink.innerHTML = docLinkHtml;\n",
              "        element.appendChild(docLink);\n",
              "      }\n",
              "    </script>\n",
              "  </div>\n",
              "\n",
              "\n",
              "<div id=\"df-800166ed-f1fe-411b-81b6-26169abb5acd\">\n",
              "  <button class=\"colab-df-quickchart\" onclick=\"quickchart('df-800166ed-f1fe-411b-81b6-26169abb5acd')\"\n",
              "            title=\"Suggest charts\"\n",
              "            style=\"display:none;\">\n",
              "\n",
              "<svg xmlns=\"http://www.w3.org/2000/svg\" height=\"24px\"viewBox=\"0 0 24 24\"\n",
              "     width=\"24px\">\n",
              "    <g>\n",
              "        <path d=\"M19 3H5c-1.1 0-2 .9-2 2v14c0 1.1.9 2 2 2h14c1.1 0 2-.9 2-2V5c0-1.1-.9-2-2-2zM9 17H7v-7h2v7zm4 0h-2V7h2v10zm4 0h-2v-4h2v4z\"/>\n",
              "    </g>\n",
              "</svg>\n",
              "  </button>\n",
              "\n",
              "<style>\n",
              "  .colab-df-quickchart {\n",
              "      --bg-color: #E8F0FE;\n",
              "      --fill-color: #1967D2;\n",
              "      --hover-bg-color: #E2EBFA;\n",
              "      --hover-fill-color: #174EA6;\n",
              "      --disabled-fill-color: #AAA;\n",
              "      --disabled-bg-color: #DDD;\n",
              "  }\n",
              "\n",
              "  [theme=dark] .colab-df-quickchart {\n",
              "      --bg-color: #3B4455;\n",
              "      --fill-color: #D2E3FC;\n",
              "      --hover-bg-color: #434B5C;\n",
              "      --hover-fill-color: #FFFFFF;\n",
              "      --disabled-bg-color: #3B4455;\n",
              "      --disabled-fill-color: #666;\n",
              "  }\n",
              "\n",
              "  .colab-df-quickchart {\n",
              "    background-color: var(--bg-color);\n",
              "    border: none;\n",
              "    border-radius: 50%;\n",
              "    cursor: pointer;\n",
              "    display: none;\n",
              "    fill: var(--fill-color);\n",
              "    height: 32px;\n",
              "    padding: 0;\n",
              "    width: 32px;\n",
              "  }\n",
              "\n",
              "  .colab-df-quickchart:hover {\n",
              "    background-color: var(--hover-bg-color);\n",
              "    box-shadow: 0 1px 2px rgba(60, 64, 67, 0.3), 0 1px 3px 1px rgba(60, 64, 67, 0.15);\n",
              "    fill: var(--button-hover-fill-color);\n",
              "  }\n",
              "\n",
              "  .colab-df-quickchart-complete:disabled,\n",
              "  .colab-df-quickchart-complete:disabled:hover {\n",
              "    background-color: var(--disabled-bg-color);\n",
              "    fill: var(--disabled-fill-color);\n",
              "    box-shadow: none;\n",
              "  }\n",
              "\n",
              "  .colab-df-spinner {\n",
              "    border: 2px solid var(--fill-color);\n",
              "    border-color: transparent;\n",
              "    border-bottom-color: var(--fill-color);\n",
              "    animation:\n",
              "      spin 1s steps(1) infinite;\n",
              "  }\n",
              "\n",
              "  @keyframes spin {\n",
              "    0% {\n",
              "      border-color: transparent;\n",
              "      border-bottom-color: var(--fill-color);\n",
              "      border-left-color: var(--fill-color);\n",
              "    }\n",
              "    20% {\n",
              "      border-color: transparent;\n",
              "      border-left-color: var(--fill-color);\n",
              "      border-top-color: var(--fill-color);\n",
              "    }\n",
              "    30% {\n",
              "      border-color: transparent;\n",
              "      border-left-color: var(--fill-color);\n",
              "      border-top-color: var(--fill-color);\n",
              "      border-right-color: var(--fill-color);\n",
              "    }\n",
              "    40% {\n",
              "      border-color: transparent;\n",
              "      border-right-color: var(--fill-color);\n",
              "      border-top-color: var(--fill-color);\n",
              "    }\n",
              "    60% {\n",
              "      border-color: transparent;\n",
              "      border-right-color: var(--fill-color);\n",
              "    }\n",
              "    80% {\n",
              "      border-color: transparent;\n",
              "      border-right-color: var(--fill-color);\n",
              "      border-bottom-color: var(--fill-color);\n",
              "    }\n",
              "    90% {\n",
              "      border-color: transparent;\n",
              "      border-bottom-color: var(--fill-color);\n",
              "    }\n",
              "  }\n",
              "</style>\n",
              "\n",
              "  <script>\n",
              "    async function quickchart(key) {\n",
              "      const quickchartButtonEl =\n",
              "        document.querySelector('#' + key + ' button');\n",
              "      quickchartButtonEl.disabled = true;  // To prevent multiple clicks.\n",
              "      quickchartButtonEl.classList.add('colab-df-spinner');\n",
              "      try {\n",
              "        const charts = await google.colab.kernel.invokeFunction(\n",
              "            'suggestCharts', [key], {});\n",
              "      } catch (error) {\n",
              "        console.error('Error during call to suggestCharts:', error);\n",
              "      }\n",
              "      quickchartButtonEl.classList.remove('colab-df-spinner');\n",
              "      quickchartButtonEl.classList.add('colab-df-quickchart-complete');\n",
              "    }\n",
              "    (() => {\n",
              "      let quickchartButtonEl =\n",
              "        document.querySelector('#df-800166ed-f1fe-411b-81b6-26169abb5acd button');\n",
              "      quickchartButtonEl.style.display =\n",
              "        google.colab.kernel.accessAllowed ? 'block' : 'none';\n",
              "    })();\n",
              "  </script>\n",
              "</div>\n",
              "    </div>\n",
              "  </div>\n"
            ]
          },
          "metadata": {},
          "execution_count": 18
        }
      ]
    },
    {
      "cell_type": "markdown",
      "source": [
        "## quiz 22386 และ 85099b คือสินค้าอะไร"
      ],
      "metadata": {
        "id": "WwuP5uF5bQUX"
      }
    },
    {
      "cell_type": "code",
      "source": [
        "set(data[(data['StockCode']=='22386')  ]['Description'])"
      ],
      "metadata": {
        "id": "5NKnboxUWuIb",
        "outputId": "63ebf92c-ed1f-44f1-f5f9-22c60b3c403f",
        "colab": {
          "base_uri": "https://localhost:8080/"
        }
      },
      "execution_count": 19,
      "outputs": [
        {
          "output_type": "execute_result",
          "data": {
            "text/plain": [
              "{'JUMBO BAG PINK POLKADOT'}"
            ]
          },
          "metadata": {},
          "execution_count": 19
        }
      ]
    },
    {
      "cell_type": "code",
      "source": [
        "set(data[(data['StockCode']=='85099B') ]['Description'])"
      ],
      "metadata": {
        "id": "VYpZzrwZdIzO",
        "outputId": "5387df1d-51a2-4118-d6cf-709efae7f320",
        "colab": {
          "base_uri": "https://localhost:8080/"
        }
      },
      "execution_count": 20,
      "outputs": [
        {
          "output_type": "execute_result",
          "data": {
            "text/plain": [
              "{'JUMBO BAG RED RETROSPOT'}"
            ]
          },
          "metadata": {},
          "execution_count": 20
        }
      ]
    },
    {
      "cell_type": "markdown",
      "source": [
        "#Hw หา Frequent Item Set  และ Association Rules\n",
        "- ของช่วงเวลา Chirtmas & New Year(1 Dec -31 Dec)\n",
        "- ของประเทศในทวีป Europe\n",
        "- ของช่วงเวลา ตรุษจีน ในทวีป Asai (15 jan-15 Feb)\n",
        "- ของช่วงเวลา Chirtmas & New Year ในทวีป Europe (1 Dec -31 Dec)\n",
        "- ของวันวาเลนไทน์\n",
        "- โดยจัดกลุ่มตามประเทศ+เดือน"
      ],
      "metadata": {
        "id": "vFzBgO34cSRT"
      }
    },
    {
      "cell_type": "code",
      "source": [
        "!pip install apyori"
      ],
      "metadata": {
        "id": "dQQVNNlf3RTq",
        "outputId": "1e1523fc-9d4e-4177-e5de-1a243779b59b",
        "colab": {
          "base_uri": "https://localhost:8080/"
        }
      },
      "execution_count": 21,
      "outputs": [
        {
          "output_type": "stream",
          "name": "stdout",
          "text": [
            "Requirement already satisfied: apyori in /usr/local/lib/python3.10/dist-packages (1.1.2)\n"
          ]
        }
      ]
    },
    {
      "cell_type": "code",
      "source": [
        "from apyori import apriori"
      ],
      "metadata": {
        "id": "HWkPbw9u3RTr"
      },
      "execution_count": 22,
      "outputs": []
    },
    {
      "cell_type": "code",
      "source": [
        "df = pd.read_csv(os.path.join(path, 'reduced_marketbasket.csv'), encoding='latin-1')\n"
      ],
      "metadata": {
        "id": "B4cSQOb83RTr"
      },
      "execution_count": 23,
      "outputs": []
    },
    {
      "cell_type": "markdown",
      "source": [
        "## ข้อ 1. ช่วงเวลา Chirtmas & New Year(1 Dec -31 Dec)"
      ],
      "metadata": {
        "id": "5W3PAhZ1R7uZ"
      }
    },
    {
      "cell_type": "code",
      "source": [
        "# Convert รูปแบบเวลาใน column InvoiceDate ให้อยู่ในรูปที่ต้องการ\n",
        "df['InvoiceDate'] = pd.to_datetime(df['InvoiceDate'], format='%m/%d/%Y %H:%M')\n"
      ],
      "metadata": {
        "id": "AYGUp6zp3RTs"
      },
      "execution_count": 51,
      "outputs": []
    },
    {
      "cell_type": "code",
      "source": [
        "# Filter December 1st to December 31st\n",
        "filtered_df = df[(df['InvoiceDate'].dt.month == 12) & (df['InvoiceDate'].dt.day >= 1) & (df['InvoiceDate'].dt.day <= 31)]\n",
        "\n",
        "#ปริ้นเพื่อตรวจสอบ\n",
        "print(filtered_df)"
      ],
      "metadata": {
        "id": "9H7mMjAz3RTs",
        "colab": {
          "base_uri": "https://localhost:8080/"
        },
        "outputId": "ecc99e32-a332-4d8d-a609-12389e8cf7d1"
      },
      "execution_count": 49,
      "outputs": [
        {
          "output_type": "stream",
          "name": "stdout",
          "text": [
            "       InvoiceNo StockCode                          Description  Quantity  \\\n",
            "0         536365    85123A   WHITE HANGING HEART T-LIGHT HOLDER         6   \n",
            "1         536365     71053                  WHITE METAL LANTERN         6   \n",
            "2         536365    84406B       CREAM CUPID HEARTS COAT HANGER         8   \n",
            "3         536365    84029G  KNITTED UNION FLAG HOT WATER BOTTLE         6   \n",
            "4         536365    84029E       RED WOOLLY HOTTIE WHITE HEART.         6   \n",
            "...          ...       ...                                  ...       ...   \n",
            "541904    581587     22613          PACK OF 20 SPACEBOY NAPKINS        12   \n",
            "541905    581587     22899         CHILDREN'S APRON DOLLY GIRL          6   \n",
            "541906    581587     23254        CHILDRENS CUTLERY DOLLY GIRL          4   \n",
            "541907    581587     23255      CHILDRENS CUTLERY CIRCUS PARADE         4   \n",
            "541908    581587     22138        BAKING SET 9 PIECE RETROSPOT          3   \n",
            "\n",
            "               InvoiceDate  UnitPrice  CustomerID         Country  \n",
            "0      2010-12-01 08:26:00       2.55     17850.0  United Kingdom  \n",
            "1      2010-12-01 08:26:00       3.39     17850.0  United Kingdom  \n",
            "2      2010-12-01 08:26:00       2.75     17850.0  United Kingdom  \n",
            "3      2010-12-01 08:26:00       3.39     17850.0  United Kingdom  \n",
            "4      2010-12-01 08:26:00       3.39     17850.0  United Kingdom  \n",
            "...                    ...        ...         ...             ...  \n",
            "541904 2011-12-09 12:50:00       0.85     12680.0          France  \n",
            "541905 2011-12-09 12:50:00       2.10     12680.0          France  \n",
            "541906 2011-12-09 12:50:00       4.15     12680.0          France  \n",
            "541907 2011-12-09 12:50:00       4.15     12680.0          France  \n",
            "541908 2011-12-09 12:50:00       4.95     12680.0          France  \n",
            "\n",
            "[68006 rows x 8 columns]\n"
          ]
        }
      ]
    },
    {
      "cell_type": "code",
      "source": [
        "# transactions= filtered_df.groupby('InvoiceNo')['StockCode'].apply(list)\n",
        "# transactions  ### ถ้าใช้ transactions แทน transactions_apply จะเป็นการโชว์ StockCode แทนข้อมูลสินค้า ###"
      ],
      "metadata": {
        "id": "JLbCA56n7x-G"
      },
      "execution_count": 26,
      "outputs": []
    },
    {
      "cell_type": "code",
      "source": [
        "transactions = filtered_df.groupby('InvoiceNo')['Description'].apply(list).reset_index() #ทำการ group และทำให้ข้อมูลใน Description เป็นlist\n",
        "transactions_apply = transactions['Description'].apply(lambda x: [str(item) for item in x]) #ใช้ฟังก์ชัน lambda เพื่อแปลงสินค้าทุกชิ้นใน list ของ 'transactions' เป็นข้อความ (string)"
      ],
      "metadata": {
        "id": "6nqZJ6uR3W5D"
      },
      "execution_count": 27,
      "outputs": []
    },
    {
      "cell_type": "code",
      "source": [
        "frequentItemset = list(apriori(transactions_apply, min_support=0.035))\n",
        "\n",
        "for record in frequentItemset:\n",
        "    if len(record.items) > 1:\n",
        "        print('yes')\n",
        "        print(f\"Items: {', '.join(record.items)}\")\n",
        "        print(f\"Support: {record.support:.4f} ({record.support*100:.2f}%)\")\n",
        "\n",
        "        for i, stat in enumerate(record.ordered_statistics, 1):\n",
        "            items_base = 'None' if not stat.items_base else ', '.join(stat.items_base)\n",
        "            items_add = ', '.join(stat.items_add)\n",
        "            confidence = stat.confidence\n",
        "            lift = stat.lift\n",
        "\n",
        "            print(f\"Rule {i}: ({items_base} -> {items_add} : Confidence={confidence:.4f}, Lift={lift:.4f})\")\n",
        "        print()\n"
      ],
      "metadata": {
        "id": "_5EVNQ7_RFPg",
        "outputId": "3d4f5550-93fe-4671-9b77-59893ee69221",
        "colab": {
          "base_uri": "https://localhost:8080/"
        }
      },
      "execution_count": 28,
      "outputs": [
        {
          "output_type": "stream",
          "name": "stdout",
          "text": [
            "yes\n",
            "Items: ALARM CLOCK BAKELIKE RED , ALARM CLOCK BAKELIKE GREEN\n",
            "Support: 0.0368 (3.68%)\n",
            "Rule 1: (None -> ALARM CLOCK BAKELIKE RED , ALARM CLOCK BAKELIKE GREEN : Confidence=0.0368, Lift=1.0000)\n",
            "Rule 2: (ALARM CLOCK BAKELIKE GREEN -> ALARM CLOCK BAKELIKE RED  : Confidence=0.7089, Lift=14.4627)\n",
            "Rule 3: (ALARM CLOCK BAKELIKE RED  -> ALARM CLOCK BAKELIKE GREEN : Confidence=0.7517, Lift=14.4627)\n",
            "\n",
            "yes\n",
            "Items: HOT WATER BOTTLE I AM SO POORLY, CHOCOLATE HOT WATER BOTTLE\n",
            "Support: 0.0365 (3.65%)\n",
            "Rule 1: (None -> HOT WATER BOTTLE I AM SO POORLY, CHOCOLATE HOT WATER BOTTLE : Confidence=0.0365, Lift=1.0000)\n",
            "Rule 2: (CHOCOLATE HOT WATER BOTTLE -> HOT WATER BOTTLE I AM SO POORLY : Confidence=0.5163, Lift=9.7484)\n",
            "Rule 3: (HOT WATER BOTTLE I AM SO POORLY -> CHOCOLATE HOT WATER BOTTLE : Confidence=0.6894, Lift=9.7484)\n",
            "\n",
            "yes\n",
            "Items: PAPER CHAIN KIT VINTAGE CHRISTMAS, PAPER CHAIN KIT 50'S CHRISTMAS \n",
            "Support: 0.0477 (4.77%)\n",
            "Rule 1: (None -> PAPER CHAIN KIT VINTAGE CHRISTMAS, PAPER CHAIN KIT 50'S CHRISTMAS  : Confidence=0.0477, Lift=1.0000)\n",
            "Rule 2: (PAPER CHAIN KIT 50'S CHRISTMAS  -> PAPER CHAIN KIT VINTAGE CHRISTMAS : Confidence=0.5160, Lift=7.1958)\n",
            "Rule 3: (PAPER CHAIN KIT VINTAGE CHRISTMAS -> PAPER CHAIN KIT 50'S CHRISTMAS  : Confidence=0.6651, Lift=7.1958)\n",
            "\n"
          ]
        }
      ]
    },
    {
      "cell_type": "markdown",
      "source": [
        "สรุป เลือกอันที่มีค่าสนับสนุนมากที่สุด\n",
        "\n",
        "\n",
        "Items: PAPER CHAIN KIT VINTAGE CHRISTMAS และ PAPER CHAIN KIT 50'S CHRISTMAS ค่าสนับสนุนคือ 0.0477 หรือ 4.77% ของการทำธุรกรรมทั้งหมด\n",
        "\n",
        "- เมื่อ 'PAPER CHAIN KIT 50'S CHRISTMAS' ถูกซื้อ มีความมั่นใจ 51.60% ว่า 'PAPER CHAIN KIT VINTAGE CHRISTMAS' จะถูกซื้อด้วย\n",
        "\n",
        "- เมื่อ 'PAPER CHAIN KIT VINTAGE CHRISTMAS' ถูกซื้อ มีโอกาส 66.51% ว่า 'PAPER CHAIN KIT 50'S CHRISTMAS' จะถูกซื้อด้วย"
      ],
      "metadata": {
        "id": "jA5Pgn7UTzOJ"
      }
    },
    {
      "cell_type": "markdown",
      "source": [
        "## ข้อ 2. ประเทศในทวีป Europe"
      ],
      "metadata": {
        "id": "Jw8xSPJkfZLa"
      }
    },
    {
      "cell_type": "code",
      "source": [
        "european_countries = [\n",
        "    \"Albania\", \"Andorra\", \"Armenia\", \"Austria\", \"Azerbaijan\", \"Belarus\", \"Belgium\",\n",
        "    \"Bosnia and Herzegovina\", \"Bulgaria\", \"Croatia\", \"Cyprus\", \"Czech Republic\",\n",
        "    \"Denmark\", \"Estonia\", \"Finland\", \"France\", \"Georgia\", \"Germany\", \"Greece\",\n",
        "    \"Hungary\", \"Iceland\", \"Ireland\", \"Italy\", \"Kazakhstan\", \"Kosovo\", \"Latvia\",\n",
        "    \"Liechtenstein\", \"Lithuania\", \"Luxembourg\", \"Malta\", \"Moldova\", \"Monaco\",\n",
        "    \"Montenegro\", \"Netherlands\", \"North Macedonia\", \"Norway\", \"Poland\", \"Portugal\",\n",
        "    \"Romania\", \"Russia\", \"San Marino\", \"Serbia\", \"Slovakia\", \"Slovenia\",\n",
        "    \"Spain\", \"Sweden\", \"Switzerland\", \"Turkey\", \"Ukraine\", \"United Kingdom\", \"Vatican City\"\n",
        "]"
      ],
      "metadata": {
        "id": "_lBhC4sthU4A"
      },
      "execution_count": 50,
      "outputs": []
    },
    {
      "cell_type": "code",
      "source": [
        "# เลือกประเทศจาก european_countries\n",
        "filtered_df2 = df[df['Country'].isin(european_countries)]\n",
        "\n",
        "# โชว์ datafram เพื่อcheck\n",
        "print(filtered_df2)"
      ],
      "metadata": {
        "id": "uF-poEZlU48S",
        "colab": {
          "base_uri": "https://localhost:8080/"
        },
        "outputId": "8af6c8b8-5b98-4bfe-9336-96aac53ac938"
      },
      "execution_count": 30,
      "outputs": [
        {
          "output_type": "stream",
          "name": "stdout",
          "text": [
            "       InvoiceNo StockCode                          Description  Quantity  \\\n",
            "0         536365    85123A   WHITE HANGING HEART T-LIGHT HOLDER         6   \n",
            "1         536365     71053                  WHITE METAL LANTERN         6   \n",
            "2         536365    84406B       CREAM CUPID HEARTS COAT HANGER         8   \n",
            "3         536365    84029G  KNITTED UNION FLAG HOT WATER BOTTLE         6   \n",
            "4         536365    84029E       RED WOOLLY HOTTIE WHITE HEART.         6   \n",
            "...          ...       ...                                  ...       ...   \n",
            "541904    581587     22613          PACK OF 20 SPACEBOY NAPKINS        12   \n",
            "541905    581587     22899         CHILDREN'S APRON DOLLY GIRL          6   \n",
            "541906    581587     23254        CHILDRENS CUTLERY DOLLY GIRL          4   \n",
            "541907    581587     23255      CHILDRENS CUTLERY CIRCUS PARADE         4   \n",
            "541908    581587     22138        BAKING SET 9 PIECE RETROSPOT          3   \n",
            "\n",
            "               InvoiceDate  UnitPrice  CustomerID         Country  \n",
            "0      2010-12-01 08:26:00       2.55     17850.0  United Kingdom  \n",
            "1      2010-12-01 08:26:00       3.39     17850.0  United Kingdom  \n",
            "2      2010-12-01 08:26:00       2.75     17850.0  United Kingdom  \n",
            "3      2010-12-01 08:26:00       3.39     17850.0  United Kingdom  \n",
            "4      2010-12-01 08:26:00       3.39     17850.0  United Kingdom  \n",
            "...                    ...        ...         ...             ...  \n",
            "541904 2011-12-09 12:50:00       0.85     12680.0          France  \n",
            "541905 2011-12-09 12:50:00       2.10     12680.0          France  \n",
            "541906 2011-12-09 12:50:00       4.15     12680.0          France  \n",
            "541907 2011-12-09 12:50:00       4.15     12680.0          France  \n",
            "541908 2011-12-09 12:50:00       4.95     12680.0          France  \n",
            "\n",
            "[529343 rows x 8 columns]\n"
          ]
        }
      ]
    },
    {
      "cell_type": "code",
      "source": [
        "transactions2 = filtered_df2.groupby('InvoiceNo')['Description'].apply(list).reset_index() #ทำการ group และทำให้ข้อมูลใน Description เป็นlist\n",
        "transactions_apply2 = transactions2['Description'].apply(lambda x: [str(item) for item in x]) #ใช้ฟังก์ชัน lambda เพื่อแปลงสินค้าทุกชิ้นใน list ของ 'transactions' เป็นข้อความ (string)"
      ],
      "metadata": {
        "id": "t95n8_FciLrY"
      },
      "execution_count": 31,
      "outputs": []
    },
    {
      "cell_type": "code",
      "source": [
        "frequentItemset2 = list(apriori(transactions_apply2, min_support=0.025))\n",
        "\n",
        "for record in frequentItemset2:\n",
        "    if len(record.items) > 1:\n",
        "        print('yes')\n",
        "        print(f\"Items: {', '.join(record.items)}\")\n",
        "        print(f\"Support: {record.support:.4f} ({record.support*100:.2f}%)\")\n",
        "\n",
        "        for i, stat in enumerate(record.ordered_statistics, 1):\n",
        "            items_base = 'None' if not stat.items_base else ', '.join(stat.items_base)\n",
        "            items_add = ', '.join(stat.items_add)\n",
        "            confidence = stat.confidence\n",
        "            lift = stat.lift\n",
        "\n",
        "            print(f\"Rule {i}: ({items_base} -> {items_add} : Confidence={confidence:.4f}, Lift={lift:.4f})\")\n",
        "        print()\n"
      ],
      "metadata": {
        "colab": {
          "base_uri": "https://localhost:8080/"
        },
        "id": "QSYns1kPiR44",
        "outputId": "8c63f233-b8f8-44ad-d4dd-984aabff656b"
      },
      "execution_count": 32,
      "outputs": [
        {
          "output_type": "stream",
          "name": "stdout",
          "text": [
            "yes\n",
            "Items: ALARM CLOCK BAKELIKE RED , ALARM CLOCK BAKELIKE GREEN\n",
            "Support: 0.0251 (2.51%)\n",
            "Rule 1: (None -> ALARM CLOCK BAKELIKE RED , ALARM CLOCK BAKELIKE GREEN : Confidence=0.0251, Lift=1.0000)\n",
            "Rule 2: (ALARM CLOCK BAKELIKE GREEN -> ALARM CLOCK BAKELIKE RED  : Confidence=0.6467, Lift=15.5435)\n",
            "Rule 3: (ALARM CLOCK BAKELIKE RED  -> ALARM CLOCK BAKELIKE GREEN : Confidence=0.6044, Lift=15.5435)\n",
            "\n",
            "yes\n",
            "Items: ROSES REGENCY TEACUP AND SAUCER , GREEN REGENCY TEACUP AND SAUCER\n",
            "Support: 0.0292 (2.92%)\n",
            "Rule 1: (None -> ROSES REGENCY TEACUP AND SAUCER , GREEN REGENCY TEACUP AND SAUCER : Confidence=0.0292, Lift=1.0000)\n",
            "Rule 2: (GREEN REGENCY TEACUP AND SAUCER -> ROSES REGENCY TEACUP AND SAUCER  : Confidence=0.7334, Lift=17.6273)\n",
            "Rule 3: (ROSES REGENCY TEACUP AND SAUCER  -> GREEN REGENCY TEACUP AND SAUCER : Confidence=0.7021, Lift=17.6273)\n",
            "\n",
            "yes\n",
            "Items: JUMBO BAG PINK POLKADOT, JUMBO BAG RED RETROSPOT\n",
            "Support: 0.0327 (3.27%)\n",
            "Rule 1: (None -> JUMBO BAG PINK POLKADOT, JUMBO BAG RED RETROSPOT : Confidence=0.0327, Lift=1.0000)\n",
            "Rule 2: (JUMBO BAG PINK POLKADOT -> JUMBO BAG RED RETROSPOT : Confidence=0.6767, Lift=8.1482)\n",
            "Rule 3: (JUMBO BAG RED RETROSPOT -> JUMBO BAG PINK POLKADOT : Confidence=0.3940, Lift=8.1482)\n",
            "\n",
            "yes\n",
            "Items: JUMBO BAG RED RETROSPOT, JUMBO SHOPPER VINTAGE RED PAISLEY\n",
            "Support: 0.0268 (2.68%)\n",
            "Rule 1: (None -> JUMBO BAG RED RETROSPOT, JUMBO SHOPPER VINTAGE RED PAISLEY : Confidence=0.0268, Lift=1.0000)\n",
            "Rule 2: (JUMBO BAG RED RETROSPOT -> JUMBO SHOPPER VINTAGE RED PAISLEY : Confidence=0.3227, Lift=6.9578)\n",
            "Rule 3: (JUMBO SHOPPER VINTAGE RED PAISLEY -> JUMBO BAG RED RETROSPOT : Confidence=0.5779, Lift=6.9578)\n",
            "\n",
            "yes\n",
            "Items: JUMBO BAG RED RETROSPOT, JUMBO STORAGE BAG SUKI\n",
            "Support: 0.0289 (2.89%)\n",
            "Rule 1: (None -> JUMBO BAG RED RETROSPOT, JUMBO STORAGE BAG SUKI : Confidence=0.0289, Lift=1.0000)\n",
            "Rule 2: (JUMBO BAG RED RETROSPOT -> JUMBO STORAGE BAG SUKI : Confidence=0.3474, Lift=7.3591)\n",
            "Rule 3: (JUMBO STORAGE BAG SUKI -> JUMBO BAG RED RETROSPOT : Confidence=0.6112, Lift=7.3591)\n",
            "\n",
            "yes\n",
            "Items: LUNCH BAG  BLACK SKULL., LUNCH BAG RED RETROSPOT\n",
            "Support: 0.0251 (2.51%)\n",
            "Rule 1: (None -> LUNCH BAG  BLACK SKULL., LUNCH BAG RED RETROSPOT : Confidence=0.0251, Lift=1.0000)\n",
            "Rule 2: (LUNCH BAG  BLACK SKULL. -> LUNCH BAG RED RETROSPOT : Confidence=0.4988, Lift=8.0643)\n",
            "Rule 3: (LUNCH BAG RED RETROSPOT -> LUNCH BAG  BLACK SKULL. : Confidence=0.4065, Lift=8.0643)\n",
            "\n"
          ]
        }
      ]
    },
    {
      "cell_type": "markdown",
      "source": [
        "## ข้อ 3. ช่วงเวลา ตรุษจีน ในทวีป Asai (15 jan-15 Feb)"
      ],
      "metadata": {
        "id": "pbUIDlMii2gM"
      }
    },
    {
      "cell_type": "code",
      "source": [
        "asian_countries = [\n",
        "    \"Afghanistan\", \"Armenia\", \"Azerbaijan\", \"Bahrain\", \"Bangladesh\", \"Bhutan\",\n",
        "    \"Brunei\", \"Cambodia\", \"China\", \"Cyprus\", \"East Timor\", \"Georgia\",\n",
        "    \"India\", \"Indonesia\", \"Iran\", \"Iraq\", \"Israel\", \"Japan\", \"Jordan\",\n",
        "    \"Kazakhstan\", \"Kuwait\", \"Kyrgyzstan\", \"Laos\", \"Lebanon\", \"Malaysia\",\n",
        "    \"Maldives\", \"Mongolia\", \"Myanmar\", \"Nepal\", \"North Korea\", \"Oman\",\n",
        "    \"Pakistan\", \"Palestine\", \"Philippines\", \"Qatar\", \"Saudi Arabia\",\n",
        "    \"Singapore\", \"South Korea\", \"Sri Lanka\", \"Syria\", \"Taiwan\", \"Tajikistan\",\n",
        "    \"Thailand\", \"Turkey\", \"Turkmenistan\", \"United Arab Emirates\", \"Uzbekistan\",\n",
        "    \"Vietnam\", \"Yemen\"\n",
        "]\n"
      ],
      "metadata": {
        "id": "-90QiM0ji8nC"
      },
      "execution_count": 33,
      "outputs": []
    },
    {
      "cell_type": "code",
      "source": [
        "# เลือกวันตรุษจีน ในทวีป Asai (15 jan-15 Feb)\n",
        "filtered_df3 = df[\n",
        "     (((df['InvoiceDate'].dt.month == 1) & (df['InvoiceDate'].dt.day >= 15)) |\n",
        "    ((df['InvoiceDate'].dt.month == 2) & (df['InvoiceDate'].dt.day <= 15))) &\n",
        "    (df['Country'].isin(asian_countries))\n",
        "]\n",
        "\n",
        "\n",
        "# โชว์ datafram เพื่อcheck\n",
        "print(filtered_df3)"
      ],
      "metadata": {
        "colab": {
          "base_uri": "https://localhost:8080/"
        },
        "id": "VHP7iELCjx8-",
        "outputId": "77659ccb-46d2-4bd0-d80c-2ff9642eda95"
      },
      "execution_count": 34,
      "outputs": [
        {
          "output_type": "stream",
          "name": "stdout",
          "text": [
            "      InvoiceNo StockCode                       Description  Quantity  \\\n",
            "70758    542102     21519   GIN & TONIC DIET GREETING CARD         72   \n",
            "70759    542102     22697   GREEN REGENCY TEACUP AND SAUCER         6   \n",
            "70760    542102     22699  ROSES REGENCY TEACUP AND SAUCER          6   \n",
            "70761    542102     22343    PARTY PIZZA DISH RED RETROSPOT        24   \n",
            "70762    542102     22344    PARTY PIZZA DISH PINK POLKADOT        24   \n",
            "...         ...       ...                               ...       ...   \n",
            "89595    543911    47590B       PINK HAPPY BIRTHDAY BUNTING        12   \n",
            "89596    543911     22117  METAL SIGN HER DINNER IS SERVED         12   \n",
            "89597    543911     82567         AIRLINE LOUNGE,METAL SIGN        12   \n",
            "89598    543911     21910               WAY OUT METAL SIGN         12   \n",
            "89599    543911     21911                GARDEN METAL SIGN         12   \n",
            "\n",
            "              InvoiceDate  UnitPrice  CustomerID               Country  \n",
            "70758 2011-01-25 13:26:00       0.36     12744.0             Singapore  \n",
            "70759 2011-01-25 13:26:00       2.95     12744.0             Singapore  \n",
            "70760 2011-01-25 13:26:00       2.95     12744.0             Singapore  \n",
            "70761 2011-01-25 13:26:00       0.21     12744.0             Singapore  \n",
            "70762 2011-01-25 13:26:00       0.21     12744.0             Singapore  \n",
            "...                   ...        ...         ...                   ...  \n",
            "89595 2011-02-14 12:46:00       5.45     17829.0  United Arab Emirates  \n",
            "89596 2011-02-14 12:46:00       2.95     17829.0  United Arab Emirates  \n",
            "89597 2011-02-14 12:46:00       2.10     17829.0  United Arab Emirates  \n",
            "89598 2011-02-14 12:46:00       1.65     17829.0  United Arab Emirates  \n",
            "89599 2011-02-14 12:46:00       1.65     17829.0  United Arab Emirates  \n",
            "\n",
            "[308 rows x 8 columns]\n"
          ]
        }
      ]
    },
    {
      "cell_type": "code",
      "source": [
        "transactions3 = filtered_df3.groupby('InvoiceNo')['Description'].apply(list).reset_index() #ทำการ group และทำให้ข้อมูลใน Description เป็นlist\n",
        "transactions_apply3 = transactions3['Description'].apply(lambda x: [str(item) for item in x]) #ใช้ฟังก์ชัน lambda เพื่อแปลงสินค้าทุกชิ้นใน list ของ 'transactions' เป็นข้อความ (string)"
      ],
      "metadata": {
        "id": "vj1NgUiBmg0F"
      },
      "execution_count": 35,
      "outputs": []
    },
    {
      "cell_type": "code",
      "source": [
        "frequentItemset3 = list(apriori(transactions_apply3, min_support=0.4))\n",
        "\n",
        "for record in frequentItemset3:\n",
        "    if len(record.items) > 1:\n",
        "        print('yes')\n",
        "        print(f\"Items: {', '.join(record.items)}\")\n",
        "        print(f\"Support: {record.support:.4f} ({record.support*100:.2f}%)\")\n",
        "\n",
        "        for i, stat in enumerate(record.ordered_statistics, 1):\n",
        "            items_base = 'None' if not stat.items_base else ', '.join(stat.items_base)\n",
        "            items_add = ', '.join(stat.items_add)\n",
        "            confidence = stat.confidence\n",
        "            lift = stat.lift\n",
        "\n",
        "            print(f\"Rule {i}: ({items_base} -> {items_add} : Confidence={confidence:.4f}, Lift={lift:.4f})\")\n",
        "        print()\n"
      ],
      "metadata": {
        "colab": {
          "base_uri": "https://localhost:8080/"
        },
        "id": "Bq-GS1cQmpN5",
        "outputId": "2e71b216-61ee-49f9-c77f-c49fd6568341"
      },
      "execution_count": 36,
      "outputs": [
        {
          "output_type": "stream",
          "name": "stdout",
          "text": [
            "yes\n",
            "Items: BATH BUILDING BLOCK WORD, JAM MAKING SET WITH JARS\n",
            "Support: 0.4286 (42.86%)\n",
            "Rule 1: (None -> BATH BUILDING BLOCK WORD, JAM MAKING SET WITH JARS : Confidence=0.4286, Lift=1.0000)\n",
            "Rule 2: (BATH BUILDING BLOCK WORD -> JAM MAKING SET WITH JARS : Confidence=1.0000, Lift=2.3333)\n",
            "Rule 3: (JAM MAKING SET WITH JARS -> BATH BUILDING BLOCK WORD : Confidence=1.0000, Lift=2.3333)\n",
            "\n"
          ]
        }
      ]
    },
    {
      "cell_type": "markdown",
      "source": [
        "## ข้อ 4. ช่วงเวลา Chirtmas & New Year ในทวีป Europe (1 Dec -31 Dec)"
      ],
      "metadata": {
        "id": "60gCIWUBsA0n"
      }
    },
    {
      "cell_type": "code",
      "source": [
        "# เลือกช่วงเวลา Chirtmas & New Year ในทวีป Europe (1 Dec -31 Dec)\n",
        "filtered_df4 = df[\n",
        "     (df['InvoiceDate'].dt.month == 12)  &\n",
        "    (df['Country'].isin(european_countries))\n",
        "]\n",
        "\n",
        "\n",
        "# โชว์ datafram เพื่อcheck\n",
        "print(filtered_df4)"
      ],
      "metadata": {
        "colab": {
          "base_uri": "https://localhost:8080/"
        },
        "id": "XSLq_H-CsTJm",
        "outputId": "e6a7bfbb-1f5c-4bda-b875-935d696b0b5e"
      },
      "execution_count": 37,
      "outputs": [
        {
          "output_type": "stream",
          "name": "stdout",
          "text": [
            "       InvoiceNo StockCode                          Description  Quantity  \\\n",
            "0         536365    85123A   WHITE HANGING HEART T-LIGHT HOLDER         6   \n",
            "1         536365     71053                  WHITE METAL LANTERN         6   \n",
            "2         536365    84406B       CREAM CUPID HEARTS COAT HANGER         8   \n",
            "3         536365    84029G  KNITTED UNION FLAG HOT WATER BOTTLE         6   \n",
            "4         536365    84029E       RED WOOLLY HOTTIE WHITE HEART.         6   \n",
            "...          ...       ...                                  ...       ...   \n",
            "541904    581587     22613          PACK OF 20 SPACEBOY NAPKINS        12   \n",
            "541905    581587     22899         CHILDREN'S APRON DOLLY GIRL          6   \n",
            "541906    581587     23254        CHILDRENS CUTLERY DOLLY GIRL          4   \n",
            "541907    581587     23255      CHILDRENS CUTLERY CIRCUS PARADE         4   \n",
            "541908    581587     22138        BAKING SET 9 PIECE RETROSPOT          3   \n",
            "\n",
            "               InvoiceDate  UnitPrice  CustomerID         Country  \n",
            "0      2010-12-01 08:26:00       2.55     17850.0  United Kingdom  \n",
            "1      2010-12-01 08:26:00       3.39     17850.0  United Kingdom  \n",
            "2      2010-12-01 08:26:00       2.75     17850.0  United Kingdom  \n",
            "3      2010-12-01 08:26:00       3.39     17850.0  United Kingdom  \n",
            "4      2010-12-01 08:26:00       3.39     17850.0  United Kingdom  \n",
            "...                    ...        ...         ...             ...  \n",
            "541904 2011-12-09 12:50:00       0.85     12680.0          France  \n",
            "541905 2011-12-09 12:50:00       2.10     12680.0          France  \n",
            "541906 2011-12-09 12:50:00       4.15     12680.0          France  \n",
            "541907 2011-12-09 12:50:00       4.15     12680.0          France  \n",
            "541908 2011-12-09 12:50:00       4.95     12680.0          France  \n",
            "\n",
            "[67091 rows x 8 columns]\n"
          ]
        }
      ]
    },
    {
      "cell_type": "code",
      "source": [
        "transactions4 = filtered_df4.groupby('InvoiceNo')['Description'].apply(list).reset_index() #ทำการ group และทำให้ข้อมูลใน Description เป็นlist\n",
        "transactions_apply4 = transactions4['Description'].apply(lambda x: [str(item) for item in x]) #ใช้ฟังก์ชัน lambda เพื่อแปลงสินค้าทุกชิ้นใน list ของ 'transactions' เป็นข้อความ (string)"
      ],
      "metadata": {
        "id": "IE_5_nyts-C6"
      },
      "execution_count": 38,
      "outputs": []
    },
    {
      "cell_type": "code",
      "source": [
        "frequentItemset4 = list(apriori(transactions_apply4, min_support=0.035))\n",
        "\n",
        "for record in frequentItemset4:\n",
        "    if len(record.items) > 1:\n",
        "        print('yes')\n",
        "        print(f\"Items: {', '.join(record.items)}\")\n",
        "        print(f\"Support: {record.support:.4f} ({record.support*100:.2f}%)\")\n",
        "\n",
        "        for i, stat in enumerate(record.ordered_statistics, 1):\n",
        "            items_base = 'None' if not stat.items_base else ', '.join(stat.items_base)\n",
        "            items_add = ', '.join(stat.items_add)\n",
        "            confidence = stat.confidence\n",
        "            lift = stat.lift\n",
        "\n",
        "            print(f\"Rule {i}: ({items_base} -> {items_add} : Confidence={confidence:.4f}, Lift={lift:.4f})\")\n",
        "        print()\n"
      ],
      "metadata": {
        "colab": {
          "base_uri": "https://localhost:8080/"
        },
        "id": "m4i6ZYeqtB10",
        "outputId": "f1df6a03-ed6b-4066-f4b6-f1be90d9fe6d"
      },
      "execution_count": 39,
      "outputs": [
        {
          "output_type": "stream",
          "name": "stdout",
          "text": [
            "yes\n",
            "Items: ALARM CLOCK BAKELIKE RED , ALARM CLOCK BAKELIKE GREEN\n",
            "Support: 0.0371 (3.71%)\n",
            "Rule 1: (None -> ALARM CLOCK BAKELIKE RED , ALARM CLOCK BAKELIKE GREEN : Confidence=0.0371, Lift=1.0000)\n",
            "Rule 2: (ALARM CLOCK BAKELIKE GREEN -> ALARM CLOCK BAKELIKE RED  : Confidence=0.7070, Lift=14.3806)\n",
            "Rule 3: (ALARM CLOCK BAKELIKE RED  -> ALARM CLOCK BAKELIKE GREEN : Confidence=0.7551, Lift=14.3806)\n",
            "\n",
            "yes\n",
            "Items: HOT WATER BOTTLE I AM SO POORLY, CHOCOLATE HOT WATER BOTTLE\n",
            "Support: 0.0365 (3.65%)\n",
            "Rule 1: (None -> HOT WATER BOTTLE I AM SO POORLY, CHOCOLATE HOT WATER BOTTLE : Confidence=0.0365, Lift=1.0000)\n",
            "Rule 2: (CHOCOLATE HOT WATER BOTTLE -> HOT WATER BOTTLE I AM SO POORLY : Confidence=0.5215, Lift=9.8074)\n",
            "Rule 3: (HOT WATER BOTTLE I AM SO POORLY -> CHOCOLATE HOT WATER BOTTLE : Confidence=0.6855, Lift=9.8074)\n",
            "\n",
            "yes\n",
            "Items: PAPER CHAIN KIT VINTAGE CHRISTMAS, PAPER CHAIN KIT 50'S CHRISTMAS \n",
            "Support: 0.0478 (4.78%)\n",
            "Rule 1: (None -> PAPER CHAIN KIT VINTAGE CHRISTMAS, PAPER CHAIN KIT 50'S CHRISTMAS  : Confidence=0.0478, Lift=1.0000)\n",
            "Rule 2: (PAPER CHAIN KIT 50'S CHRISTMAS  -> PAPER CHAIN KIT VINTAGE CHRISTMAS : Confidence=0.5125, Lift=7.0949)\n",
            "Rule 3: (PAPER CHAIN KIT VINTAGE CHRISTMAS -> PAPER CHAIN KIT 50'S CHRISTMAS  : Confidence=0.6620, Lift=7.0949)\n",
            "\n"
          ]
        }
      ]
    },
    {
      "cell_type": "markdown",
      "source": [
        "## ข้อ 5. วันวาเลนไทน์"
      ],
      "metadata": {
        "id": "8weW-PxdtdCq"
      }
    },
    {
      "cell_type": "code",
      "source": [
        "# เลือกเฉพาะวันวาเลนไทน์\n",
        "filtered_df5 = df[(df['InvoiceDate'].dt.month == 2) & (df['InvoiceDate'].dt.day == 14) ]\n",
        "\n",
        "# โชว์ datafram เพื่อcheck\n",
        "print(filtered_df5)"
      ],
      "metadata": {
        "colab": {
          "base_uri": "https://localhost:8080/"
        },
        "id": "VSFbFFfitpKu",
        "outputId": "352f1d52-1a2f-4e17-b1ec-a08c7fcc0deb"
      },
      "execution_count": 40,
      "outputs": [
        {
          "output_type": "stream",
          "name": "stdout",
          "text": [
            "      InvoiceNo StockCode                         Description  Quantity  \\\n",
            "88847    543821     22926      IVORY GIANT GARDEN THERMOMETER         2   \n",
            "88848    543821     22928     YELLOW GIANT GARDEN THERMOMETER         2   \n",
            "88849    543821     22925       BLUE GIANT GARDEN THERMOMETER         2   \n",
            "88850    543821     85175               CACTI T-LIGHT CANDLES        16   \n",
            "88851    543821     22456     NATURAL SLATE CHALKBOARD LARGE          3   \n",
            "...         ...       ...                                 ...       ...   \n",
            "89950    543979     21889              WOODEN BOX OF DOMINOES         1   \n",
            "89951    543979     85176          SEWING SUSAN 21 NEEDLE SET         1   \n",
            "89952    543979     37446  MINI CAKE STAND WITH HANGING CAKES         1   \n",
            "89953    543979     21657     MILK BOTTLE WITH GLASS STOPPER          1   \n",
            "89954   C543980     22728           ALARM CLOCK BAKELIKE PINK        -1   \n",
            "\n",
            "              InvoiceDate  UnitPrice  CustomerID         Country  \n",
            "88847 2011-02-14 09:24:00       5.95     17667.0  United Kingdom  \n",
            "88848 2011-02-14 09:24:00       5.95     17667.0  United Kingdom  \n",
            "88849 2011-02-14 09:24:00       5.95     17667.0  United Kingdom  \n",
            "88850 2011-02-14 09:24:00       0.42     17667.0  United Kingdom  \n",
            "88851 2011-02-14 09:24:00       4.95     17667.0  United Kingdom  \n",
            "...                   ...        ...         ...             ...  \n",
            "89950 2011-02-14 15:43:00       1.25     14606.0  United Kingdom  \n",
            "89951 2011-02-14 15:43:00       0.85     14606.0  United Kingdom  \n",
            "89952 2011-02-14 15:43:00       1.45     14606.0  United Kingdom  \n",
            "89953 2011-02-14 15:43:00       6.95     14606.0  United Kingdom  \n",
            "89954 2011-02-14 16:39:00       3.75     14189.0  United Kingdom  \n",
            "\n",
            "[1108 rows x 8 columns]\n"
          ]
        }
      ]
    },
    {
      "cell_type": "code",
      "source": [
        "transactions5 = filtered_df5.groupby('InvoiceNo')['Description'].apply(list).reset_index() #ทำการ group และทำให้ข้อมูลใน Description เป็นlist\n",
        "transactions_apply5 = transactions5['Description'].apply(lambda x: [str(item) for item in x]) #ใช้ฟังก์ชัน lambda เพื่อแปลงสินค้าทุกชิ้นใน list ของ 'transactions' เป็นข้อความ (string)"
      ],
      "metadata": {
        "id": "5c79smGWuLzQ"
      },
      "execution_count": 41,
      "outputs": []
    },
    {
      "cell_type": "code",
      "source": [
        "frequentItemset4 = list(apriori(transactions_apply4, min_support=0.035))\n",
        "\n",
        "for record in frequentItemset4:\n",
        "    if len(record.items) > 1:\n",
        "        print('yes')\n",
        "        print(f\"Items: {', '.join(record.items)}\")\n",
        "        print(f\"Support: {record.support:.4f} ({record.support*100:.2f}%)\")\n",
        "\n",
        "        for i, stat in enumerate(record.ordered_statistics, 1):\n",
        "            items_base = 'None' if not stat.items_base else ', '.join(stat.items_base)\n",
        "            items_add = ', '.join(stat.items_add)\n",
        "            confidence = stat.confidence\n",
        "            lift = stat.lift\n",
        "\n",
        "            print(f\"Rule {i}: ({items_base} -> {items_add} : Confidence={confidence:.4f}, Lift={lift:.4f})\")\n",
        "        print()\n"
      ],
      "metadata": {
        "colab": {
          "base_uri": "https://localhost:8080/"
        },
        "id": "cYT8scsuuOxW",
        "outputId": "5adc9eaa-3fd9-457e-a57b-8e0429049b9d"
      },
      "execution_count": 42,
      "outputs": [
        {
          "output_type": "stream",
          "name": "stdout",
          "text": [
            "yes\n",
            "Items: ALARM CLOCK BAKELIKE RED , ALARM CLOCK BAKELIKE GREEN\n",
            "Support: 0.0371 (3.71%)\n",
            "Rule 1: (None -> ALARM CLOCK BAKELIKE RED , ALARM CLOCK BAKELIKE GREEN : Confidence=0.0371, Lift=1.0000)\n",
            "Rule 2: (ALARM CLOCK BAKELIKE GREEN -> ALARM CLOCK BAKELIKE RED  : Confidence=0.7070, Lift=14.3806)\n",
            "Rule 3: (ALARM CLOCK BAKELIKE RED  -> ALARM CLOCK BAKELIKE GREEN : Confidence=0.7551, Lift=14.3806)\n",
            "\n",
            "yes\n",
            "Items: HOT WATER BOTTLE I AM SO POORLY, CHOCOLATE HOT WATER BOTTLE\n",
            "Support: 0.0365 (3.65%)\n",
            "Rule 1: (None -> HOT WATER BOTTLE I AM SO POORLY, CHOCOLATE HOT WATER BOTTLE : Confidence=0.0365, Lift=1.0000)\n",
            "Rule 2: (CHOCOLATE HOT WATER BOTTLE -> HOT WATER BOTTLE I AM SO POORLY : Confidence=0.5215, Lift=9.8074)\n",
            "Rule 3: (HOT WATER BOTTLE I AM SO POORLY -> CHOCOLATE HOT WATER BOTTLE : Confidence=0.6855, Lift=9.8074)\n",
            "\n",
            "yes\n",
            "Items: PAPER CHAIN KIT VINTAGE CHRISTMAS, PAPER CHAIN KIT 50'S CHRISTMAS \n",
            "Support: 0.0478 (4.78%)\n",
            "Rule 1: (None -> PAPER CHAIN KIT VINTAGE CHRISTMAS, PAPER CHAIN KIT 50'S CHRISTMAS  : Confidence=0.0478, Lift=1.0000)\n",
            "Rule 2: (PAPER CHAIN KIT 50'S CHRISTMAS  -> PAPER CHAIN KIT VINTAGE CHRISTMAS : Confidence=0.5125, Lift=7.0949)\n",
            "Rule 3: (PAPER CHAIN KIT VINTAGE CHRISTMAS -> PAPER CHAIN KIT 50'S CHRISTMAS  : Confidence=0.6620, Lift=7.0949)\n",
            "\n"
          ]
        }
      ]
    },
    {
      "cell_type": "markdown",
      "source": [
        "## ข้อ 6. โดยจัดกลุ่มตามประเทศ+เดือน"
      ],
      "metadata": {
        "id": "thfJjHp1u3L8"
      }
    },
    {
      "cell_type": "code",
      "source": [
        "df6 = pd.read_csv(os.path.join(path, 'reduced_marketbasket.csv'), encoding='latin-1')\n"
      ],
      "metadata": {
        "id": "KYNyMCRRygWn"
      },
      "execution_count": 43,
      "outputs": []
    },
    {
      "cell_type": "code",
      "source": [
        "# Convert รูปแบบเวลาใน column InvoiceDate ให้อยู่ในรูปที่ต้องการ\n",
        "df6['InvoiceDate'] = pd.to_datetime(df6['InvoiceDate'], format='%m/%d/%Y %H:%M')"
      ],
      "metadata": {
        "id": "kinJVzE_zDcZ"
      },
      "execution_count": 52,
      "outputs": []
    },
    {
      "cell_type": "code",
      "source": [
        "df6['Month'] = df6['InvoiceDate'].dt.month\n",
        "\n",
        "# df6['Year'] = df6['InvoiceDate'].dt.year   #ถ้าต้องการ\"ปี\"ด้วย"
      ],
      "metadata": {
        "id": "UfdaU6_nyWZo"
      },
      "execution_count": 45,
      "outputs": []
    },
    {
      "cell_type": "code",
      "source": [
        "transactions6 = df6.groupby(['Country', 'Month'])['Description'].apply(list).reset_index() #ทำการ group และทำให้ข้อมูลใน Description เป็นlist  สามารถเพิ่มปี ได้โดย 'Year'\n",
        "# transactions_apply = transactions['Description'].apply(lambda x: [str(item) for item in x]) #ใช้ฟังก์ชัน lambda เพื่อแปลงสินค้าทุกชิ้นใน list ของ 'transactions' เป็นข้อความ (string)"
      ],
      "metadata": {
        "id": "U6q8AD4Ju9gv"
      },
      "execution_count": 46,
      "outputs": []
    },
    {
      "cell_type": "code",
      "source": [
        "transactions6"
      ],
      "metadata": {
        "colab": {
          "base_uri": "https://localhost:8080/",
          "height": 424
        },
        "id": "FrDYqD7gyATs",
        "outputId": "baf3f1da-eff3-4e41-cf12-bf696333efb9"
      },
      "execution_count": 47,
      "outputs": [
        {
          "output_type": "execute_result",
          "data": {
            "text/plain": [
              "         Country  Month                                        Description\n",
              "0      Australia      1  [RIBBON REEL LACE DESIGN , RIBBON REEL HEARTS ...\n",
              "1      Australia      2  [HANGING HEART JAR T-LIGHT HOLDER, JAM MAKING ...\n",
              "2      Australia      3  [PANTRY ROLLING PIN, PANTRY SCRUBBING BRUSH, S...\n",
              "3      Australia      4  [POSTAGE, JIGSAW TOADSTOOLS 3 PIECE, SET OF 4 ...\n",
              "4      Australia      5  [ROSES REGENCY TEACUP AND SAUCER , EASTER TIN ...\n",
              "..           ...    ...                                                ...\n",
              "291  Unspecified      6  [PARTY CHARMS 50 PIECES, PACK OF 6 LARGE FRUIT...\n",
              "292  Unspecified      7  [ASSORTED MINI MADRAS NOTEBOOK, PACK OF 72 RET...\n",
              "293  Unspecified      8  [STORAGE TIN VINTAGE DOILY , SET OF 72 RETROSP...\n",
              "294  Unspecified      9  [CALENDAR PAPER CUT DESIGN, DINOSAURS  WRITING...\n",
              "295  Unspecified     11  [ROUND SNACK BOXES SET OF4 WOODLAND , LUNCH BA...\n",
              "\n",
              "[296 rows x 3 columns]"
            ],
            "text/html": [
              "\n",
              "  <div id=\"df-8326a0af-e402-4609-8031-22a034d28679\" class=\"colab-df-container\">\n",
              "    <div>\n",
              "<style scoped>\n",
              "    .dataframe tbody tr th:only-of-type {\n",
              "        vertical-align: middle;\n",
              "    }\n",
              "\n",
              "    .dataframe tbody tr th {\n",
              "        vertical-align: top;\n",
              "    }\n",
              "\n",
              "    .dataframe thead th {\n",
              "        text-align: right;\n",
              "    }\n",
              "</style>\n",
              "<table border=\"1\" class=\"dataframe\">\n",
              "  <thead>\n",
              "    <tr style=\"text-align: right;\">\n",
              "      <th></th>\n",
              "      <th>Country</th>\n",
              "      <th>Month</th>\n",
              "      <th>Description</th>\n",
              "    </tr>\n",
              "  </thead>\n",
              "  <tbody>\n",
              "    <tr>\n",
              "      <th>0</th>\n",
              "      <td>Australia</td>\n",
              "      <td>1</td>\n",
              "      <td>[RIBBON REEL LACE DESIGN , RIBBON REEL HEARTS ...</td>\n",
              "    </tr>\n",
              "    <tr>\n",
              "      <th>1</th>\n",
              "      <td>Australia</td>\n",
              "      <td>2</td>\n",
              "      <td>[HANGING HEART JAR T-LIGHT HOLDER, JAM MAKING ...</td>\n",
              "    </tr>\n",
              "    <tr>\n",
              "      <th>2</th>\n",
              "      <td>Australia</td>\n",
              "      <td>3</td>\n",
              "      <td>[PANTRY ROLLING PIN, PANTRY SCRUBBING BRUSH, S...</td>\n",
              "    </tr>\n",
              "    <tr>\n",
              "      <th>3</th>\n",
              "      <td>Australia</td>\n",
              "      <td>4</td>\n",
              "      <td>[POSTAGE, JIGSAW TOADSTOOLS 3 PIECE, SET OF 4 ...</td>\n",
              "    </tr>\n",
              "    <tr>\n",
              "      <th>4</th>\n",
              "      <td>Australia</td>\n",
              "      <td>5</td>\n",
              "      <td>[ROSES REGENCY TEACUP AND SAUCER , EASTER TIN ...</td>\n",
              "    </tr>\n",
              "    <tr>\n",
              "      <th>...</th>\n",
              "      <td>...</td>\n",
              "      <td>...</td>\n",
              "      <td>...</td>\n",
              "    </tr>\n",
              "    <tr>\n",
              "      <th>291</th>\n",
              "      <td>Unspecified</td>\n",
              "      <td>6</td>\n",
              "      <td>[PARTY CHARMS 50 PIECES, PACK OF 6 LARGE FRUIT...</td>\n",
              "    </tr>\n",
              "    <tr>\n",
              "      <th>292</th>\n",
              "      <td>Unspecified</td>\n",
              "      <td>7</td>\n",
              "      <td>[ASSORTED MINI MADRAS NOTEBOOK, PACK OF 72 RET...</td>\n",
              "    </tr>\n",
              "    <tr>\n",
              "      <th>293</th>\n",
              "      <td>Unspecified</td>\n",
              "      <td>8</td>\n",
              "      <td>[STORAGE TIN VINTAGE DOILY , SET OF 72 RETROSP...</td>\n",
              "    </tr>\n",
              "    <tr>\n",
              "      <th>294</th>\n",
              "      <td>Unspecified</td>\n",
              "      <td>9</td>\n",
              "      <td>[CALENDAR PAPER CUT DESIGN, DINOSAURS  WRITING...</td>\n",
              "    </tr>\n",
              "    <tr>\n",
              "      <th>295</th>\n",
              "      <td>Unspecified</td>\n",
              "      <td>11</td>\n",
              "      <td>[ROUND SNACK BOXES SET OF4 WOODLAND , LUNCH BA...</td>\n",
              "    </tr>\n",
              "  </tbody>\n",
              "</table>\n",
              "<p>296 rows × 3 columns</p>\n",
              "</div>\n",
              "    <div class=\"colab-df-buttons\">\n",
              "\n",
              "  <div class=\"colab-df-container\">\n",
              "    <button class=\"colab-df-convert\" onclick=\"convertToInteractive('df-8326a0af-e402-4609-8031-22a034d28679')\"\n",
              "            title=\"Convert this dataframe to an interactive table.\"\n",
              "            style=\"display:none;\">\n",
              "\n",
              "  <svg xmlns=\"http://www.w3.org/2000/svg\" height=\"24px\" viewBox=\"0 -960 960 960\">\n",
              "    <path d=\"M120-120v-720h720v720H120Zm60-500h600v-160H180v160Zm220 220h160v-160H400v160Zm0 220h160v-160H400v160ZM180-400h160v-160H180v160Zm440 0h160v-160H620v160ZM180-180h160v-160H180v160Zm440 0h160v-160H620v160Z\"/>\n",
              "  </svg>\n",
              "    </button>\n",
              "\n",
              "  <style>\n",
              "    .colab-df-container {\n",
              "      display:flex;\n",
              "      gap: 12px;\n",
              "    }\n",
              "\n",
              "    .colab-df-convert {\n",
              "      background-color: #E8F0FE;\n",
              "      border: none;\n",
              "      border-radius: 50%;\n",
              "      cursor: pointer;\n",
              "      display: none;\n",
              "      fill: #1967D2;\n",
              "      height: 32px;\n",
              "      padding: 0 0 0 0;\n",
              "      width: 32px;\n",
              "    }\n",
              "\n",
              "    .colab-df-convert:hover {\n",
              "      background-color: #E2EBFA;\n",
              "      box-shadow: 0px 1px 2px rgba(60, 64, 67, 0.3), 0px 1px 3px 1px rgba(60, 64, 67, 0.15);\n",
              "      fill: #174EA6;\n",
              "    }\n",
              "\n",
              "    .colab-df-buttons div {\n",
              "      margin-bottom: 4px;\n",
              "    }\n",
              "\n",
              "    [theme=dark] .colab-df-convert {\n",
              "      background-color: #3B4455;\n",
              "      fill: #D2E3FC;\n",
              "    }\n",
              "\n",
              "    [theme=dark] .colab-df-convert:hover {\n",
              "      background-color: #434B5C;\n",
              "      box-shadow: 0px 1px 3px 1px rgba(0, 0, 0, 0.15);\n",
              "      filter: drop-shadow(0px 1px 2px rgba(0, 0, 0, 0.3));\n",
              "      fill: #FFFFFF;\n",
              "    }\n",
              "  </style>\n",
              "\n",
              "    <script>\n",
              "      const buttonEl =\n",
              "        document.querySelector('#df-8326a0af-e402-4609-8031-22a034d28679 button.colab-df-convert');\n",
              "      buttonEl.style.display =\n",
              "        google.colab.kernel.accessAllowed ? 'block' : 'none';\n",
              "\n",
              "      async function convertToInteractive(key) {\n",
              "        const element = document.querySelector('#df-8326a0af-e402-4609-8031-22a034d28679');\n",
              "        const dataTable =\n",
              "          await google.colab.kernel.invokeFunction('convertToInteractive',\n",
              "                                                    [key], {});\n",
              "        if (!dataTable) return;\n",
              "\n",
              "        const docLinkHtml = 'Like what you see? Visit the ' +\n",
              "          '<a target=\"_blank\" href=https://colab.research.google.com/notebooks/data_table.ipynb>data table notebook</a>'\n",
              "          + ' to learn more about interactive tables.';\n",
              "        element.innerHTML = '';\n",
              "        dataTable['output_type'] = 'display_data';\n",
              "        await google.colab.output.renderOutput(dataTable, element);\n",
              "        const docLink = document.createElement('div');\n",
              "        docLink.innerHTML = docLinkHtml;\n",
              "        element.appendChild(docLink);\n",
              "      }\n",
              "    </script>\n",
              "  </div>\n",
              "\n",
              "\n",
              "<div id=\"df-d1beb8b7-daad-45a3-a7b0-faeec3e0e937\">\n",
              "  <button class=\"colab-df-quickchart\" onclick=\"quickchart('df-d1beb8b7-daad-45a3-a7b0-faeec3e0e937')\"\n",
              "            title=\"Suggest charts\"\n",
              "            style=\"display:none;\">\n",
              "\n",
              "<svg xmlns=\"http://www.w3.org/2000/svg\" height=\"24px\"viewBox=\"0 0 24 24\"\n",
              "     width=\"24px\">\n",
              "    <g>\n",
              "        <path d=\"M19 3H5c-1.1 0-2 .9-2 2v14c0 1.1.9 2 2 2h14c1.1 0 2-.9 2-2V5c0-1.1-.9-2-2-2zM9 17H7v-7h2v7zm4 0h-2V7h2v10zm4 0h-2v-4h2v4z\"/>\n",
              "    </g>\n",
              "</svg>\n",
              "  </button>\n",
              "\n",
              "<style>\n",
              "  .colab-df-quickchart {\n",
              "      --bg-color: #E8F0FE;\n",
              "      --fill-color: #1967D2;\n",
              "      --hover-bg-color: #E2EBFA;\n",
              "      --hover-fill-color: #174EA6;\n",
              "      --disabled-fill-color: #AAA;\n",
              "      --disabled-bg-color: #DDD;\n",
              "  }\n",
              "\n",
              "  [theme=dark] .colab-df-quickchart {\n",
              "      --bg-color: #3B4455;\n",
              "      --fill-color: #D2E3FC;\n",
              "      --hover-bg-color: #434B5C;\n",
              "      --hover-fill-color: #FFFFFF;\n",
              "      --disabled-bg-color: #3B4455;\n",
              "      --disabled-fill-color: #666;\n",
              "  }\n",
              "\n",
              "  .colab-df-quickchart {\n",
              "    background-color: var(--bg-color);\n",
              "    border: none;\n",
              "    border-radius: 50%;\n",
              "    cursor: pointer;\n",
              "    display: none;\n",
              "    fill: var(--fill-color);\n",
              "    height: 32px;\n",
              "    padding: 0;\n",
              "    width: 32px;\n",
              "  }\n",
              "\n",
              "  .colab-df-quickchart:hover {\n",
              "    background-color: var(--hover-bg-color);\n",
              "    box-shadow: 0 1px 2px rgba(60, 64, 67, 0.3), 0 1px 3px 1px rgba(60, 64, 67, 0.15);\n",
              "    fill: var(--button-hover-fill-color);\n",
              "  }\n",
              "\n",
              "  .colab-df-quickchart-complete:disabled,\n",
              "  .colab-df-quickchart-complete:disabled:hover {\n",
              "    background-color: var(--disabled-bg-color);\n",
              "    fill: var(--disabled-fill-color);\n",
              "    box-shadow: none;\n",
              "  }\n",
              "\n",
              "  .colab-df-spinner {\n",
              "    border: 2px solid var(--fill-color);\n",
              "    border-color: transparent;\n",
              "    border-bottom-color: var(--fill-color);\n",
              "    animation:\n",
              "      spin 1s steps(1) infinite;\n",
              "  }\n",
              "\n",
              "  @keyframes spin {\n",
              "    0% {\n",
              "      border-color: transparent;\n",
              "      border-bottom-color: var(--fill-color);\n",
              "      border-left-color: var(--fill-color);\n",
              "    }\n",
              "    20% {\n",
              "      border-color: transparent;\n",
              "      border-left-color: var(--fill-color);\n",
              "      border-top-color: var(--fill-color);\n",
              "    }\n",
              "    30% {\n",
              "      border-color: transparent;\n",
              "      border-left-color: var(--fill-color);\n",
              "      border-top-color: var(--fill-color);\n",
              "      border-right-color: var(--fill-color);\n",
              "    }\n",
              "    40% {\n",
              "      border-color: transparent;\n",
              "      border-right-color: var(--fill-color);\n",
              "      border-top-color: var(--fill-color);\n",
              "    }\n",
              "    60% {\n",
              "      border-color: transparent;\n",
              "      border-right-color: var(--fill-color);\n",
              "    }\n",
              "    80% {\n",
              "      border-color: transparent;\n",
              "      border-right-color: var(--fill-color);\n",
              "      border-bottom-color: var(--fill-color);\n",
              "    }\n",
              "    90% {\n",
              "      border-color: transparent;\n",
              "      border-bottom-color: var(--fill-color);\n",
              "    }\n",
              "  }\n",
              "</style>\n",
              "\n",
              "  <script>\n",
              "    async function quickchart(key) {\n",
              "      const quickchartButtonEl =\n",
              "        document.querySelector('#' + key + ' button');\n",
              "      quickchartButtonEl.disabled = true;  // To prevent multiple clicks.\n",
              "      quickchartButtonEl.classList.add('colab-df-spinner');\n",
              "      try {\n",
              "        const charts = await google.colab.kernel.invokeFunction(\n",
              "            'suggestCharts', [key], {});\n",
              "      } catch (error) {\n",
              "        console.error('Error during call to suggestCharts:', error);\n",
              "      }\n",
              "      quickchartButtonEl.classList.remove('colab-df-spinner');\n",
              "      quickchartButtonEl.classList.add('colab-df-quickchart-complete');\n",
              "    }\n",
              "    (() => {\n",
              "      let quickchartButtonEl =\n",
              "        document.querySelector('#df-d1beb8b7-daad-45a3-a7b0-faeec3e0e937 button');\n",
              "      quickchartButtonEl.style.display =\n",
              "        google.colab.kernel.accessAllowed ? 'block' : 'none';\n",
              "    })();\n",
              "  </script>\n",
              "</div>\n",
              "    </div>\n",
              "  </div>\n"
            ]
          },
          "metadata": {},
          "execution_count": 47
        }
      ]
    }
  ]
}