{
  "nbformat": 4,
  "nbformat_minor": 0,
  "metadata": {
    "colab": {
      "name": "Frequent Patterns (Association Rules).ipynb",
      "provenance": [],
      "toc_visible": true,
      "include_colab_link": true
    },
    "kernelspec": {
      "name": "python3",
      "display_name": "Python 3"
    },
    "language_info": {
      "name": "python"
    }
  },
  "cells": [
    {
      "cell_type": "markdown",
      "metadata": {
        "id": "view-in-github",
        "colab_type": "text"
      },
      "source": [
        "<a href=\"https://colab.research.google.com/github/phurisk/BSC_DPDM23/blob/main/Frequent_Patterns_(Association_Rules).ipynb\" target=\"_parent\"><img src=\"https://colab.research.google.com/assets/colab-badge.svg\" alt=\"Open In Colab\"/></a>"
      ]
    },
    {
      "cell_type": "code",
      "metadata": {
        "id": "KZmRixV_o0Jw"
      },
      "source": [
        "import pandas as pd\n",
        "import os"
      ],
      "execution_count": 258,
      "outputs": []
    },
    {
      "cell_type": "code",
      "metadata": {
        "colab": {
          "base_uri": "https://localhost:8080/"
        },
        "id": "BZaeBFmzp6zA",
        "outputId": "b14d66e4-d283-4e41-eca2-676fe9e830f7"
      },
      "source": [
        "from google.colab import drive\n",
        "drive.mount('/content/drive')\n",
        "path = '/content/drive/MyDrive/BSC_DPDM23/File'"
      ],
      "execution_count": 259,
      "outputs": [
        {
          "output_type": "stream",
          "name": "stdout",
          "text": [
            "Drive already mounted at /content/drive; to attempt to forcibly remount, call drive.mount(\"/content/drive\", force_remount=True).\n"
          ]
        }
      ]
    },
    {
      "cell_type": "code",
      "metadata": {
        "id": "ikJazGz6qAn7"
      },
      "source": [
        "data = pd.read_csv(os.path.join(path,'reduced_marketbasket.csv'),encoding='latin-1')"
      ],
      "execution_count": 260,
      "outputs": []
    },
    {
      "cell_type": "code",
      "metadata": {
        "colab": {
          "base_uri": "https://localhost:8080/",
          "height": 424
        },
        "id": "vVP_s3oxqNnU",
        "outputId": "0face6ca-89ca-4d2f-c4dd-e0fb0b30280d"
      },
      "source": [
        "data"
      ],
      "execution_count": 261,
      "outputs": [
        {
          "output_type": "execute_result",
          "data": {
            "text/plain": [
              "       InvoiceNo StockCode                          Description  Quantity  \\\n",
              "0         536365    85123A   WHITE HANGING HEART T-LIGHT HOLDER         6   \n",
              "1         536365     71053                  WHITE METAL LANTERN         6   \n",
              "2         536365    84406B       CREAM CUPID HEARTS COAT HANGER         8   \n",
              "3         536365    84029G  KNITTED UNION FLAG HOT WATER BOTTLE         6   \n",
              "4         536365    84029E       RED WOOLLY HOTTIE WHITE HEART.         6   \n",
              "...          ...       ...                                  ...       ...   \n",
              "541904    581587     22613          PACK OF 20 SPACEBOY NAPKINS        12   \n",
              "541905    581587     22899         CHILDREN'S APRON DOLLY GIRL          6   \n",
              "541906    581587     23254        CHILDRENS CUTLERY DOLLY GIRL          4   \n",
              "541907    581587     23255      CHILDRENS CUTLERY CIRCUS PARADE         4   \n",
              "541908    581587     22138        BAKING SET 9 PIECE RETROSPOT          3   \n",
              "\n",
              "             InvoiceDate  UnitPrice  CustomerID         Country  \n",
              "0       12/01/2010 08:26       2.55     17850.0  United Kingdom  \n",
              "1       12/01/2010 08:26       3.39     17850.0  United Kingdom  \n",
              "2       12/01/2010 08:26       2.75     17850.0  United Kingdom  \n",
              "3       12/01/2010 08:26       3.39     17850.0  United Kingdom  \n",
              "4       12/01/2010 08:26       3.39     17850.0  United Kingdom  \n",
              "...                  ...        ...         ...             ...  \n",
              "541904  12/09/2011 12:50       0.85     12680.0          France  \n",
              "541905  12/09/2011 12:50       2.10     12680.0          France  \n",
              "541906  12/09/2011 12:50       4.15     12680.0          France  \n",
              "541907  12/09/2011 12:50       4.15     12680.0          France  \n",
              "541908  12/09/2011 12:50       4.95     12680.0          France  \n",
              "\n",
              "[541909 rows x 8 columns]"
            ],
            "text/html": [
              "\n",
              "  <div id=\"df-61c7134e-3ac2-4831-b194-9b0456a5921a\" class=\"colab-df-container\">\n",
              "    <div>\n",
              "<style scoped>\n",
              "    .dataframe tbody tr th:only-of-type {\n",
              "        vertical-align: middle;\n",
              "    }\n",
              "\n",
              "    .dataframe tbody tr th {\n",
              "        vertical-align: top;\n",
              "    }\n",
              "\n",
              "    .dataframe thead th {\n",
              "        text-align: right;\n",
              "    }\n",
              "</style>\n",
              "<table border=\"1\" class=\"dataframe\">\n",
              "  <thead>\n",
              "    <tr style=\"text-align: right;\">\n",
              "      <th></th>\n",
              "      <th>InvoiceNo</th>\n",
              "      <th>StockCode</th>\n",
              "      <th>Description</th>\n",
              "      <th>Quantity</th>\n",
              "      <th>InvoiceDate</th>\n",
              "      <th>UnitPrice</th>\n",
              "      <th>CustomerID</th>\n",
              "      <th>Country</th>\n",
              "    </tr>\n",
              "  </thead>\n",
              "  <tbody>\n",
              "    <tr>\n",
              "      <th>0</th>\n",
              "      <td>536365</td>\n",
              "      <td>85123A</td>\n",
              "      <td>WHITE HANGING HEART T-LIGHT HOLDER</td>\n",
              "      <td>6</td>\n",
              "      <td>12/01/2010 08:26</td>\n",
              "      <td>2.55</td>\n",
              "      <td>17850.0</td>\n",
              "      <td>United Kingdom</td>\n",
              "    </tr>\n",
              "    <tr>\n",
              "      <th>1</th>\n",
              "      <td>536365</td>\n",
              "      <td>71053</td>\n",
              "      <td>WHITE METAL LANTERN</td>\n",
              "      <td>6</td>\n",
              "      <td>12/01/2010 08:26</td>\n",
              "      <td>3.39</td>\n",
              "      <td>17850.0</td>\n",
              "      <td>United Kingdom</td>\n",
              "    </tr>\n",
              "    <tr>\n",
              "      <th>2</th>\n",
              "      <td>536365</td>\n",
              "      <td>84406B</td>\n",
              "      <td>CREAM CUPID HEARTS COAT HANGER</td>\n",
              "      <td>8</td>\n",
              "      <td>12/01/2010 08:26</td>\n",
              "      <td>2.75</td>\n",
              "      <td>17850.0</td>\n",
              "      <td>United Kingdom</td>\n",
              "    </tr>\n",
              "    <tr>\n",
              "      <th>3</th>\n",
              "      <td>536365</td>\n",
              "      <td>84029G</td>\n",
              "      <td>KNITTED UNION FLAG HOT WATER BOTTLE</td>\n",
              "      <td>6</td>\n",
              "      <td>12/01/2010 08:26</td>\n",
              "      <td>3.39</td>\n",
              "      <td>17850.0</td>\n",
              "      <td>United Kingdom</td>\n",
              "    </tr>\n",
              "    <tr>\n",
              "      <th>4</th>\n",
              "      <td>536365</td>\n",
              "      <td>84029E</td>\n",
              "      <td>RED WOOLLY HOTTIE WHITE HEART.</td>\n",
              "      <td>6</td>\n",
              "      <td>12/01/2010 08:26</td>\n",
              "      <td>3.39</td>\n",
              "      <td>17850.0</td>\n",
              "      <td>United Kingdom</td>\n",
              "    </tr>\n",
              "    <tr>\n",
              "      <th>...</th>\n",
              "      <td>...</td>\n",
              "      <td>...</td>\n",
              "      <td>...</td>\n",
              "      <td>...</td>\n",
              "      <td>...</td>\n",
              "      <td>...</td>\n",
              "      <td>...</td>\n",
              "      <td>...</td>\n",
              "    </tr>\n",
              "    <tr>\n",
              "      <th>541904</th>\n",
              "      <td>581587</td>\n",
              "      <td>22613</td>\n",
              "      <td>PACK OF 20 SPACEBOY NAPKINS</td>\n",
              "      <td>12</td>\n",
              "      <td>12/09/2011 12:50</td>\n",
              "      <td>0.85</td>\n",
              "      <td>12680.0</td>\n",
              "      <td>France</td>\n",
              "    </tr>\n",
              "    <tr>\n",
              "      <th>541905</th>\n",
              "      <td>581587</td>\n",
              "      <td>22899</td>\n",
              "      <td>CHILDREN'S APRON DOLLY GIRL</td>\n",
              "      <td>6</td>\n",
              "      <td>12/09/2011 12:50</td>\n",
              "      <td>2.10</td>\n",
              "      <td>12680.0</td>\n",
              "      <td>France</td>\n",
              "    </tr>\n",
              "    <tr>\n",
              "      <th>541906</th>\n",
              "      <td>581587</td>\n",
              "      <td>23254</td>\n",
              "      <td>CHILDRENS CUTLERY DOLLY GIRL</td>\n",
              "      <td>4</td>\n",
              "      <td>12/09/2011 12:50</td>\n",
              "      <td>4.15</td>\n",
              "      <td>12680.0</td>\n",
              "      <td>France</td>\n",
              "    </tr>\n",
              "    <tr>\n",
              "      <th>541907</th>\n",
              "      <td>581587</td>\n",
              "      <td>23255</td>\n",
              "      <td>CHILDRENS CUTLERY CIRCUS PARADE</td>\n",
              "      <td>4</td>\n",
              "      <td>12/09/2011 12:50</td>\n",
              "      <td>4.15</td>\n",
              "      <td>12680.0</td>\n",
              "      <td>France</td>\n",
              "    </tr>\n",
              "    <tr>\n",
              "      <th>541908</th>\n",
              "      <td>581587</td>\n",
              "      <td>22138</td>\n",
              "      <td>BAKING SET 9 PIECE RETROSPOT</td>\n",
              "      <td>3</td>\n",
              "      <td>12/09/2011 12:50</td>\n",
              "      <td>4.95</td>\n",
              "      <td>12680.0</td>\n",
              "      <td>France</td>\n",
              "    </tr>\n",
              "  </tbody>\n",
              "</table>\n",
              "<p>541909 rows × 8 columns</p>\n",
              "</div>\n",
              "    <div class=\"colab-df-buttons\">\n",
              "\n",
              "  <div class=\"colab-df-container\">\n",
              "    <button class=\"colab-df-convert\" onclick=\"convertToInteractive('df-61c7134e-3ac2-4831-b194-9b0456a5921a')\"\n",
              "            title=\"Convert this dataframe to an interactive table.\"\n",
              "            style=\"display:none;\">\n",
              "\n",
              "  <svg xmlns=\"http://www.w3.org/2000/svg\" height=\"24px\" viewBox=\"0 -960 960 960\">\n",
              "    <path d=\"M120-120v-720h720v720H120Zm60-500h600v-160H180v160Zm220 220h160v-160H400v160Zm0 220h160v-160H400v160ZM180-400h160v-160H180v160Zm440 0h160v-160H620v160ZM180-180h160v-160H180v160Zm440 0h160v-160H620v160Z\"/>\n",
              "  </svg>\n",
              "    </button>\n",
              "\n",
              "  <style>\n",
              "    .colab-df-container {\n",
              "      display:flex;\n",
              "      gap: 12px;\n",
              "    }\n",
              "\n",
              "    .colab-df-convert {\n",
              "      background-color: #E8F0FE;\n",
              "      border: none;\n",
              "      border-radius: 50%;\n",
              "      cursor: pointer;\n",
              "      display: none;\n",
              "      fill: #1967D2;\n",
              "      height: 32px;\n",
              "      padding: 0 0 0 0;\n",
              "      width: 32px;\n",
              "    }\n",
              "\n",
              "    .colab-df-convert:hover {\n",
              "      background-color: #E2EBFA;\n",
              "      box-shadow: 0px 1px 2px rgba(60, 64, 67, 0.3), 0px 1px 3px 1px rgba(60, 64, 67, 0.15);\n",
              "      fill: #174EA6;\n",
              "    }\n",
              "\n",
              "    .colab-df-buttons div {\n",
              "      margin-bottom: 4px;\n",
              "    }\n",
              "\n",
              "    [theme=dark] .colab-df-convert {\n",
              "      background-color: #3B4455;\n",
              "      fill: #D2E3FC;\n",
              "    }\n",
              "\n",
              "    [theme=dark] .colab-df-convert:hover {\n",
              "      background-color: #434B5C;\n",
              "      box-shadow: 0px 1px 3px 1px rgba(0, 0, 0, 0.15);\n",
              "      filter: drop-shadow(0px 1px 2px rgba(0, 0, 0, 0.3));\n",
              "      fill: #FFFFFF;\n",
              "    }\n",
              "  </style>\n",
              "\n",
              "    <script>\n",
              "      const buttonEl =\n",
              "        document.querySelector('#df-61c7134e-3ac2-4831-b194-9b0456a5921a button.colab-df-convert');\n",
              "      buttonEl.style.display =\n",
              "        google.colab.kernel.accessAllowed ? 'block' : 'none';\n",
              "\n",
              "      async function convertToInteractive(key) {\n",
              "        const element = document.querySelector('#df-61c7134e-3ac2-4831-b194-9b0456a5921a');\n",
              "        const dataTable =\n",
              "          await google.colab.kernel.invokeFunction('convertToInteractive',\n",
              "                                                    [key], {});\n",
              "        if (!dataTable) return;\n",
              "\n",
              "        const docLinkHtml = 'Like what you see? Visit the ' +\n",
              "          '<a target=\"_blank\" href=https://colab.research.google.com/notebooks/data_table.ipynb>data table notebook</a>'\n",
              "          + ' to learn more about interactive tables.';\n",
              "        element.innerHTML = '';\n",
              "        dataTable['output_type'] = 'display_data';\n",
              "        await google.colab.output.renderOutput(dataTable, element);\n",
              "        const docLink = document.createElement('div');\n",
              "        docLink.innerHTML = docLinkHtml;\n",
              "        element.appendChild(docLink);\n",
              "      }\n",
              "    </script>\n",
              "  </div>\n",
              "\n",
              "\n",
              "<div id=\"df-2b7b9208-a35d-4ddb-9545-d8b891e12de7\">\n",
              "  <button class=\"colab-df-quickchart\" onclick=\"quickchart('df-2b7b9208-a35d-4ddb-9545-d8b891e12de7')\"\n",
              "            title=\"Suggest charts\"\n",
              "            style=\"display:none;\">\n",
              "\n",
              "<svg xmlns=\"http://www.w3.org/2000/svg\" height=\"24px\"viewBox=\"0 0 24 24\"\n",
              "     width=\"24px\">\n",
              "    <g>\n",
              "        <path d=\"M19 3H5c-1.1 0-2 .9-2 2v14c0 1.1.9 2 2 2h14c1.1 0 2-.9 2-2V5c0-1.1-.9-2-2-2zM9 17H7v-7h2v7zm4 0h-2V7h2v10zm4 0h-2v-4h2v4z\"/>\n",
              "    </g>\n",
              "</svg>\n",
              "  </button>\n",
              "\n",
              "<style>\n",
              "  .colab-df-quickchart {\n",
              "      --bg-color: #E8F0FE;\n",
              "      --fill-color: #1967D2;\n",
              "      --hover-bg-color: #E2EBFA;\n",
              "      --hover-fill-color: #174EA6;\n",
              "      --disabled-fill-color: #AAA;\n",
              "      --disabled-bg-color: #DDD;\n",
              "  }\n",
              "\n",
              "  [theme=dark] .colab-df-quickchart {\n",
              "      --bg-color: #3B4455;\n",
              "      --fill-color: #D2E3FC;\n",
              "      --hover-bg-color: #434B5C;\n",
              "      --hover-fill-color: #FFFFFF;\n",
              "      --disabled-bg-color: #3B4455;\n",
              "      --disabled-fill-color: #666;\n",
              "  }\n",
              "\n",
              "  .colab-df-quickchart {\n",
              "    background-color: var(--bg-color);\n",
              "    border: none;\n",
              "    border-radius: 50%;\n",
              "    cursor: pointer;\n",
              "    display: none;\n",
              "    fill: var(--fill-color);\n",
              "    height: 32px;\n",
              "    padding: 0;\n",
              "    width: 32px;\n",
              "  }\n",
              "\n",
              "  .colab-df-quickchart:hover {\n",
              "    background-color: var(--hover-bg-color);\n",
              "    box-shadow: 0 1px 2px rgba(60, 64, 67, 0.3), 0 1px 3px 1px rgba(60, 64, 67, 0.15);\n",
              "    fill: var(--button-hover-fill-color);\n",
              "  }\n",
              "\n",
              "  .colab-df-quickchart-complete:disabled,\n",
              "  .colab-df-quickchart-complete:disabled:hover {\n",
              "    background-color: var(--disabled-bg-color);\n",
              "    fill: var(--disabled-fill-color);\n",
              "    box-shadow: none;\n",
              "  }\n",
              "\n",
              "  .colab-df-spinner {\n",
              "    border: 2px solid var(--fill-color);\n",
              "    border-color: transparent;\n",
              "    border-bottom-color: var(--fill-color);\n",
              "    animation:\n",
              "      spin 1s steps(1) infinite;\n",
              "  }\n",
              "\n",
              "  @keyframes spin {\n",
              "    0% {\n",
              "      border-color: transparent;\n",
              "      border-bottom-color: var(--fill-color);\n",
              "      border-left-color: var(--fill-color);\n",
              "    }\n",
              "    20% {\n",
              "      border-color: transparent;\n",
              "      border-left-color: var(--fill-color);\n",
              "      border-top-color: var(--fill-color);\n",
              "    }\n",
              "    30% {\n",
              "      border-color: transparent;\n",
              "      border-left-color: var(--fill-color);\n",
              "      border-top-color: var(--fill-color);\n",
              "      border-right-color: var(--fill-color);\n",
              "    }\n",
              "    40% {\n",
              "      border-color: transparent;\n",
              "      border-right-color: var(--fill-color);\n",
              "      border-top-color: var(--fill-color);\n",
              "    }\n",
              "    60% {\n",
              "      border-color: transparent;\n",
              "      border-right-color: var(--fill-color);\n",
              "    }\n",
              "    80% {\n",
              "      border-color: transparent;\n",
              "      border-right-color: var(--fill-color);\n",
              "      border-bottom-color: var(--fill-color);\n",
              "    }\n",
              "    90% {\n",
              "      border-color: transparent;\n",
              "      border-bottom-color: var(--fill-color);\n",
              "    }\n",
              "  }\n",
              "</style>\n",
              "\n",
              "  <script>\n",
              "    async function quickchart(key) {\n",
              "      const quickchartButtonEl =\n",
              "        document.querySelector('#' + key + ' button');\n",
              "      quickchartButtonEl.disabled = true;  // To prevent multiple clicks.\n",
              "      quickchartButtonEl.classList.add('colab-df-spinner');\n",
              "      try {\n",
              "        const charts = await google.colab.kernel.invokeFunction(\n",
              "            'suggestCharts', [key], {});\n",
              "      } catch (error) {\n",
              "        console.error('Error during call to suggestCharts:', error);\n",
              "      }\n",
              "      quickchartButtonEl.classList.remove('colab-df-spinner');\n",
              "      quickchartButtonEl.classList.add('colab-df-quickchart-complete');\n",
              "    }\n",
              "    (() => {\n",
              "      let quickchartButtonEl =\n",
              "        document.querySelector('#df-2b7b9208-a35d-4ddb-9545-d8b891e12de7 button');\n",
              "      quickchartButtonEl.style.display =\n",
              "        google.colab.kernel.accessAllowed ? 'block' : 'none';\n",
              "    })();\n",
              "  </script>\n",
              "</div>\n",
              "    </div>\n",
              "  </div>\n"
            ]
          },
          "metadata": {},
          "execution_count": 261
        }
      ]
    },
    {
      "cell_type": "markdown",
      "source": [
        "## แปลง data ให้อยู่ในรูปแบบ transaction data ด้วย group by .appy(list)"
      ],
      "metadata": {
        "id": "Wkjmmto7WHsg"
      }
    },
    {
      "cell_type": "code",
      "metadata": {
        "colab": {
          "base_uri": "https://localhost:8080/"
        },
        "id": "tgURZufxqOsX",
        "outputId": "7f964d10-2a2b-469f-b673-8c829c4c8d6b"
      },
      "source": [
        "data.groupby('InvoiceNo')['StockCode'].apply(list)"
      ],
      "execution_count": 262,
      "outputs": [
        {
          "output_type": "execute_result",
          "data": {
            "text/plain": [
              "InvoiceNo\n",
              "536365     [85123A, 71053, 84406B, 84029G, 84029E, 22752,...\n",
              "536366                                        [22633, 22632]\n",
              "536367     [84879, 22745, 22748, 22749, 22310, 84969, 226...\n",
              "536368                          [22960, 22913, 22912, 22914]\n",
              "536369                                               [21756]\n",
              "                                 ...                        \n",
              "C581484                                              [23843]\n",
              "C581490                                       [22178, 23144]\n",
              "C581499                                                  [M]\n",
              "C581568                                              [21258]\n",
              "C581569                                       [84978, 20979]\n",
              "Name: StockCode, Length: 25900, dtype: object"
            ]
          },
          "metadata": {},
          "execution_count": 262
        }
      ]
    },
    {
      "cell_type": "code",
      "metadata": {
        "id": "WQJgxn-KuAPL"
      },
      "source": [
        "transactions = data.groupby('InvoiceNo')['StockCode'].apply(list)"
      ],
      "execution_count": 263,
      "outputs": []
    },
    {
      "cell_type": "markdown",
      "source": [
        "- ดูประเทศ"
      ],
      "metadata": {
        "id": "9x2p1ASNXher"
      }
    },
    {
      "cell_type": "code",
      "source": [
        "set(data[\"Country\"])"
      ],
      "metadata": {
        "id": "mAv5otxcXkrb",
        "colab": {
          "base_uri": "https://localhost:8080/"
        },
        "outputId": "f0ae7b4b-b6bf-4eb2-8421-3caefcd58427"
      },
      "execution_count": 264,
      "outputs": [
        {
          "output_type": "execute_result",
          "data": {
            "text/plain": [
              "{'Australia',\n",
              " 'Austria',\n",
              " 'Bahrain',\n",
              " 'Belgium',\n",
              " 'Brazil',\n",
              " 'Canada',\n",
              " 'Channel Islands',\n",
              " 'Cyprus',\n",
              " 'Czech Republic',\n",
              " 'Denmark',\n",
              " 'EIRE',\n",
              " 'European Community',\n",
              " 'Finland',\n",
              " 'France',\n",
              " 'Germany',\n",
              " 'Greece',\n",
              " 'Hong Kong',\n",
              " 'Iceland',\n",
              " 'Israel',\n",
              " 'Italy',\n",
              " 'Japan',\n",
              " 'Lebanon',\n",
              " 'Lithuania',\n",
              " 'Malta',\n",
              " 'Netherlands',\n",
              " 'Norway',\n",
              " 'Poland',\n",
              " 'Portugal',\n",
              " 'RSA',\n",
              " 'Saudi Arabia',\n",
              " 'Singapore',\n",
              " 'Spain',\n",
              " 'Sweden',\n",
              " 'Switzerland',\n",
              " 'USA',\n",
              " 'United Arab Emirates',\n",
              " 'United Kingdom',\n",
              " 'Unspecified'}"
            ]
          },
          "metadata": {},
          "execution_count": 264
        }
      ]
    },
    {
      "cell_type": "markdown",
      "metadata": {
        "id": "TqkZl7tUsgUT"
      },
      "source": [
        "## Association Rules"
      ]
    },
    {
      "cell_type": "code",
      "metadata": {
        "colab": {
          "base_uri": "https://localhost:8080/"
        },
        "id": "kxLayaaAtkh8",
        "outputId": "d74e2847-04fc-4540-c6cb-d13973318f7b"
      },
      "source": [
        "!pip install apyori"
      ],
      "execution_count": 265,
      "outputs": [
        {
          "output_type": "stream",
          "name": "stdout",
          "text": [
            "Requirement already satisfied: apyori in /usr/local/lib/python3.10/dist-packages (1.1.2)\n"
          ]
        }
      ]
    },
    {
      "cell_type": "code",
      "metadata": {
        "id": "MU_DkGZ2sKw_"
      },
      "source": [
        "from apyori import apriori"
      ],
      "execution_count": 266,
      "outputs": []
    },
    {
      "cell_type": "code",
      "metadata": {
        "colab": {
          "base_uri": "https://localhost:8080/"
        },
        "id": "Uwysx9eLtg7H",
        "outputId": "d457156b-4c25-46c1-b632-f7dead102fd9"
      },
      "source": [
        "frequentItemsets = list(apriori(transactions,min_support = 0.065))\n",
        "frequentItemsets"
      ],
      "execution_count": 267,
      "outputs": [
        {
          "output_type": "execute_result",
          "data": {
            "text/plain": [
              "[RelationRecord(items=frozenset({'22423'}), support=0.08386100386100385, ordered_statistics=[OrderedStatistic(items_base=frozenset(), items_add=frozenset({'22423'}), confidence=0.08386100386100385, lift=1.0)]),\n",
              " RelationRecord(items=frozenset({'47566'}), support=0.06586872586872587, ordered_statistics=[OrderedStatistic(items_base=frozenset(), items_add=frozenset({'47566'}), confidence=0.06586872586872587, lift=1.0)]),\n",
              " RelationRecord(items=frozenset({'85099B'}), support=0.08243243243243244, ordered_statistics=[OrderedStatistic(items_base=frozenset(), items_add=frozenset({'85099B'}), confidence=0.08243243243243244, lift=1.0)]),\n",
              " RelationRecord(items=frozenset({'85123A'}), support=0.08671814671814672, ordered_statistics=[OrderedStatistic(items_base=frozenset(), items_add=frozenset({'85123A'}), confidence=0.08671814671814672, lift=1.0)])]"
            ]
          },
          "metadata": {},
          "execution_count": 267
        }
      ]
    },
    {
      "cell_type": "code",
      "metadata": {
        "id": "Cy62VyRYubh1",
        "outputId": "d753abe3-979f-4bb0-9bf2-54b10d7f1145",
        "colab": {
          "base_uri": "https://localhost:8080/"
        }
      },
      "source": [
        "len(frequentItemsets)"
      ],
      "execution_count": 268,
      "outputs": [
        {
          "output_type": "execute_result",
          "data": {
            "text/plain": [
              "4"
            ]
          },
          "metadata": {},
          "execution_count": 268
        }
      ]
    },
    {
      "cell_type": "code",
      "source": [
        "frequentItemsets[0][0]"
      ],
      "metadata": {
        "id": "KcLWBRQWmuor",
        "outputId": "6b08fdfc-b727-4db3-9902-d0f863e13c96",
        "colab": {
          "base_uri": "https://localhost:8080/"
        }
      },
      "execution_count": 269,
      "outputs": [
        {
          "output_type": "execute_result",
          "data": {
            "text/plain": [
              "frozenset({'22423'})"
            ]
          },
          "metadata": {},
          "execution_count": 269
        }
      ]
    },
    {
      "cell_type": "code",
      "source": [
        "# dir(frequentItemsets[0][0])"
      ],
      "metadata": {
        "id": "GJl8vZ_dm92S"
      },
      "execution_count": 270,
      "outputs": []
    },
    {
      "cell_type": "code",
      "source": [
        "frequentItemsets[0][0].__len__()"
      ],
      "metadata": {
        "id": "XJalbowGoIZJ",
        "outputId": "16635e1b-d0ba-4b74-f1b6-adefd33c2ad1",
        "colab": {
          "base_uri": "https://localhost:8080/"
        }
      },
      "execution_count": 271,
      "outputs": [
        {
          "output_type": "execute_result",
          "data": {
            "text/plain": [
              "1"
            ]
          },
          "metadata": {},
          "execution_count": 271
        }
      ]
    },
    {
      "cell_type": "code",
      "source": [
        "min_sup = 0.03\n",
        "\n",
        "frequentItemsets = list(apriori(transactions,min_support = min_sup))\n",
        "for i in frequentItemsets:\n",
        "    if i[0].__len__()>1:\n",
        "        print('yes')\n",
        "        print(i)"
      ],
      "metadata": {
        "id": "jM2C0KM3oVNE",
        "outputId": "e2e568c4-ad57-42cf-bbdc-d9f5ddfcb74f",
        "colab": {
          "base_uri": "https://localhost:8080/"
        }
      },
      "execution_count": 272,
      "outputs": [
        {
          "output_type": "stream",
          "name": "stdout",
          "text": [
            "yes\n",
            "RelationRecord(items=frozenset({'85099B', '22386'}), support=0.03216216216216216, ordered_statistics=[OrderedStatistic(items_base=frozenset(), items_add=frozenset({'85099B', '22386'}), confidence=0.03216216216216216, lift=1.0), OrderedStatistic(items_base=frozenset({'22386'}), items_add=frozenset({'85099B'}), confidence=0.6766856214459789, lift=8.20897311262335), OrderedStatistic(items_base=frozenset({'85099B'}), items_add=frozenset({'22386'}), confidence=0.39016393442622943, lift=8.20897311262335)])\n",
            "yes\n",
            "RelationRecord(items=frozenset({'22699', '22697'}), support=0.03027027027027027, ordered_statistics=[OrderedStatistic(items_base=frozenset(), items_add=frozenset({'22699', '22697'}), confidence=0.03027027027027027, lift=1.0), OrderedStatistic(items_base=frozenset({'22697'}), items_add=frozenset({'22699'}), confidence=0.7417218543046358, lift=17.1523178807947), OrderedStatistic(items_base=frozenset({'22699'}), items_add=frozenset({'22697'}), confidence=0.7, lift=17.1523178807947)])\n"
          ]
        }
      ]
    },
    {
      "cell_type": "markdown",
      "source": [
        "RelationRecord(items=frozenset({'22386', '85099B'}),\n",
        "\n",
        "support=0.03216216216216216,\n",
        "\n",
        "ordered_statistics=[OrderedStatistic(items_base=frozenset(), items_add=frozenset({'22386', '85099B'}), confidence=0.03216216216216216, lift=1.0),\n",
        "\n",
        "OrderedStatistic(items_base=frozenset({'22386'}), items_add=frozenset({'85099B'}), confidence=0.6766856214459789, lift=8.20897311262335),\n",
        "\n",
        "OrderedStatistic(items_base=frozenset({'85099B'}), items_add=frozenset({'22386'}), confidence=0.39016393442622943, lift=8.20897311262335)])\n"
      ],
      "metadata": {
        "id": "G1folVtqpH_v"
      }
    },
    {
      "cell_type": "code",
      "source": [
        "set(data[(data['StockCode']=='22386') | (data['StockCode']=='85099B') | (data['StockCode']=='22699') | (data['StockCode']=='22697') ]['Description'])"
      ],
      "metadata": {
        "id": "OC4mSCPGo19r",
        "outputId": "c0ebb910-a4ae-4f59-c6a9-cf58202814ae",
        "colab": {
          "base_uri": "https://localhost:8080/"
        }
      },
      "execution_count": 273,
      "outputs": [
        {
          "output_type": "execute_result",
          "data": {
            "text/plain": [
              "{'GREEN REGENCY TEACUP AND SAUCER',\n",
              " 'JUMBO BAG PINK POLKADOT',\n",
              " 'JUMBO BAG RED RETROSPOT',\n",
              " 'ROSES REGENCY TEACUP AND SAUCER '}"
            ]
          },
          "metadata": {},
          "execution_count": 273
        }
      ]
    },
    {
      "cell_type": "markdown",
      "source": [
        "RelationRecord(items=frozenset({'22699', '22697'}), support=0.03027027027027027,\n",
        "\n",
        "ordered_statistics=[OrderedStatistic(items_base=frozenset(), items_add=frozenset({'22699', '22697'}), confidence=0.03027027027027027, lift=1.0),\n",
        "\n",
        "OrderedStatistic(items_base=frozenset({'22697'}), items_add=frozenset({'22699'}), confidence=0.7417218543046358, lift=17.1523178807947),\n",
        "\n",
        "OrderedStatistic(items_base=frozenset({'22699'}), items_add=frozenset({'22697'}), confidence=0.7, lift=17.1523178807947)])"
      ],
      "metadata": {
        "id": "dYvCIbEVtyZy"
      }
    },
    {
      "cell_type": "code",
      "source": [
        "# set(data[(data['StockCode']=='22699') | (data['StockCode']=='22697')]['InvoiceNo'])"
      ],
      "metadata": {
        "id": "E7jOT-C3tYD0"
      },
      "execution_count": 274,
      "outputs": []
    },
    {
      "cell_type": "code",
      "source": [
        "data[data['InvoiceNo']=='562950']"
      ],
      "metadata": {
        "id": "HazWszWkuW2o",
        "outputId": "b1ecad11-f57a-4856-a279-3d774dcdd95e",
        "colab": {
          "base_uri": "https://localhost:8080/",
          "height": 614
        }
      },
      "execution_count": 275,
      "outputs": [
        {
          "output_type": "execute_result",
          "data": {
            "text/plain": [
              "       InvoiceNo StockCode                         Description  Quantity  \\\n",
              "297488    562950     22752        SET 7 BABUSHKA NESTING BOXES         2   \n",
              "297489    562950     22755     SMALL PURPLE BABUSHKA NOTEBOOK         12   \n",
              "297490    562950     22753     SMALL YELLOW BABUSHKA NOTEBOOK         12   \n",
              "297491    562950     22754        SMALL RED BABUSHKA NOTEBOOK         12   \n",
              "297492    562950     22757        LARGE RED BABUSHKA NOTEBOOK         12   \n",
              "297493    562950     22758    LARGE PURPLE BABUSHKA NOTEBOOK          12   \n",
              "297494    562950     22756     LARGE YELLOW BABUSHKA NOTEBOOK         12   \n",
              "297495    562950     23310             BUBBLEGUM RING ASSORTED        36   \n",
              "297496    562950     23280  FOLDING BUTTERFLY MIRROR HOT PINK         12   \n",
              "297497    562950     22383              LUNCH BAG SUKI DESIGN         10   \n",
              "297498    562950     22492             MINI PAINT SET VINTAGE         36   \n",
              "297499    562950     71459      HANGING JAM JAR T-LIGHT HOLDER        12   \n",
              "297500    562950     84945  MULTI COLOUR SILVER T-LIGHT HOLDER        12   \n",
              "297501    562950     21175         GIN + TONIC DIET METAL SIGN        12   \n",
              "297502    562950     23164                  REGENCY CAKE SLICE         4   \n",
              "297503    562950     23245          SET OF 3 REGENCY CAKE TINS         4   \n",
              "297504    562950     23171            REGENCY TEA PLATE GREEN         12   \n",
              "297505    562950     22697     GREEN REGENCY TEACUP AND SAUCER         6   \n",
              "\n",
              "             InvoiceDate  UnitPrice  CustomerID         Country  \n",
              "297488  08/11/2011 09:56       8.50     15608.0  United Kingdom  \n",
              "297489  08/11/2011 09:56       0.85     15608.0  United Kingdom  \n",
              "297490  08/11/2011 09:56       0.85     15608.0  United Kingdom  \n",
              "297491  08/11/2011 09:56       0.85     15608.0  United Kingdom  \n",
              "297492  08/11/2011 09:56       1.25     15608.0  United Kingdom  \n",
              "297493  08/11/2011 09:56       1.25     15608.0  United Kingdom  \n",
              "297494  08/11/2011 09:56       1.25     15608.0  United Kingdom  \n",
              "297495  08/11/2011 09:56       0.42     15608.0  United Kingdom  \n",
              "297496  08/11/2011 09:56       0.83     15608.0  United Kingdom  \n",
              "297497  08/11/2011 09:56       1.65     15608.0  United Kingdom  \n",
              "297498  08/11/2011 09:56       0.65     15608.0  United Kingdom  \n",
              "297499  08/11/2011 09:56       0.85     15608.0  United Kingdom  \n",
              "297500  08/11/2011 09:56       0.85     15608.0  United Kingdom  \n",
              "297501  08/11/2011 09:56       2.55     15608.0  United Kingdom  \n",
              "297502  08/11/2011 09:56       4.95     15608.0  United Kingdom  \n",
              "297503  08/11/2011 09:56       4.95     15608.0  United Kingdom  \n",
              "297504  08/11/2011 09:56       1.65     15608.0  United Kingdom  \n",
              "297505  08/11/2011 09:56       2.95     15608.0  United Kingdom  "
            ],
            "text/html": [
              "\n",
              "  <div id=\"df-93ae5ddb-7463-4e91-853f-c6c65a7ded31\" class=\"colab-df-container\">\n",
              "    <div>\n",
              "<style scoped>\n",
              "    .dataframe tbody tr th:only-of-type {\n",
              "        vertical-align: middle;\n",
              "    }\n",
              "\n",
              "    .dataframe tbody tr th {\n",
              "        vertical-align: top;\n",
              "    }\n",
              "\n",
              "    .dataframe thead th {\n",
              "        text-align: right;\n",
              "    }\n",
              "</style>\n",
              "<table border=\"1\" class=\"dataframe\">\n",
              "  <thead>\n",
              "    <tr style=\"text-align: right;\">\n",
              "      <th></th>\n",
              "      <th>InvoiceNo</th>\n",
              "      <th>StockCode</th>\n",
              "      <th>Description</th>\n",
              "      <th>Quantity</th>\n",
              "      <th>InvoiceDate</th>\n",
              "      <th>UnitPrice</th>\n",
              "      <th>CustomerID</th>\n",
              "      <th>Country</th>\n",
              "    </tr>\n",
              "  </thead>\n",
              "  <tbody>\n",
              "    <tr>\n",
              "      <th>297488</th>\n",
              "      <td>562950</td>\n",
              "      <td>22752</td>\n",
              "      <td>SET 7 BABUSHKA NESTING BOXES</td>\n",
              "      <td>2</td>\n",
              "      <td>08/11/2011 09:56</td>\n",
              "      <td>8.50</td>\n",
              "      <td>15608.0</td>\n",
              "      <td>United Kingdom</td>\n",
              "    </tr>\n",
              "    <tr>\n",
              "      <th>297489</th>\n",
              "      <td>562950</td>\n",
              "      <td>22755</td>\n",
              "      <td>SMALL PURPLE BABUSHKA NOTEBOOK</td>\n",
              "      <td>12</td>\n",
              "      <td>08/11/2011 09:56</td>\n",
              "      <td>0.85</td>\n",
              "      <td>15608.0</td>\n",
              "      <td>United Kingdom</td>\n",
              "    </tr>\n",
              "    <tr>\n",
              "      <th>297490</th>\n",
              "      <td>562950</td>\n",
              "      <td>22753</td>\n",
              "      <td>SMALL YELLOW BABUSHKA NOTEBOOK</td>\n",
              "      <td>12</td>\n",
              "      <td>08/11/2011 09:56</td>\n",
              "      <td>0.85</td>\n",
              "      <td>15608.0</td>\n",
              "      <td>United Kingdom</td>\n",
              "    </tr>\n",
              "    <tr>\n",
              "      <th>297491</th>\n",
              "      <td>562950</td>\n",
              "      <td>22754</td>\n",
              "      <td>SMALL RED BABUSHKA NOTEBOOK</td>\n",
              "      <td>12</td>\n",
              "      <td>08/11/2011 09:56</td>\n",
              "      <td>0.85</td>\n",
              "      <td>15608.0</td>\n",
              "      <td>United Kingdom</td>\n",
              "    </tr>\n",
              "    <tr>\n",
              "      <th>297492</th>\n",
              "      <td>562950</td>\n",
              "      <td>22757</td>\n",
              "      <td>LARGE RED BABUSHKA NOTEBOOK</td>\n",
              "      <td>12</td>\n",
              "      <td>08/11/2011 09:56</td>\n",
              "      <td>1.25</td>\n",
              "      <td>15608.0</td>\n",
              "      <td>United Kingdom</td>\n",
              "    </tr>\n",
              "    <tr>\n",
              "      <th>297493</th>\n",
              "      <td>562950</td>\n",
              "      <td>22758</td>\n",
              "      <td>LARGE PURPLE BABUSHKA NOTEBOOK</td>\n",
              "      <td>12</td>\n",
              "      <td>08/11/2011 09:56</td>\n",
              "      <td>1.25</td>\n",
              "      <td>15608.0</td>\n",
              "      <td>United Kingdom</td>\n",
              "    </tr>\n",
              "    <tr>\n",
              "      <th>297494</th>\n",
              "      <td>562950</td>\n",
              "      <td>22756</td>\n",
              "      <td>LARGE YELLOW BABUSHKA NOTEBOOK</td>\n",
              "      <td>12</td>\n",
              "      <td>08/11/2011 09:56</td>\n",
              "      <td>1.25</td>\n",
              "      <td>15608.0</td>\n",
              "      <td>United Kingdom</td>\n",
              "    </tr>\n",
              "    <tr>\n",
              "      <th>297495</th>\n",
              "      <td>562950</td>\n",
              "      <td>23310</td>\n",
              "      <td>BUBBLEGUM RING ASSORTED</td>\n",
              "      <td>36</td>\n",
              "      <td>08/11/2011 09:56</td>\n",
              "      <td>0.42</td>\n",
              "      <td>15608.0</td>\n",
              "      <td>United Kingdom</td>\n",
              "    </tr>\n",
              "    <tr>\n",
              "      <th>297496</th>\n",
              "      <td>562950</td>\n",
              "      <td>23280</td>\n",
              "      <td>FOLDING BUTTERFLY MIRROR HOT PINK</td>\n",
              "      <td>12</td>\n",
              "      <td>08/11/2011 09:56</td>\n",
              "      <td>0.83</td>\n",
              "      <td>15608.0</td>\n",
              "      <td>United Kingdom</td>\n",
              "    </tr>\n",
              "    <tr>\n",
              "      <th>297497</th>\n",
              "      <td>562950</td>\n",
              "      <td>22383</td>\n",
              "      <td>LUNCH BAG SUKI DESIGN</td>\n",
              "      <td>10</td>\n",
              "      <td>08/11/2011 09:56</td>\n",
              "      <td>1.65</td>\n",
              "      <td>15608.0</td>\n",
              "      <td>United Kingdom</td>\n",
              "    </tr>\n",
              "    <tr>\n",
              "      <th>297498</th>\n",
              "      <td>562950</td>\n",
              "      <td>22492</td>\n",
              "      <td>MINI PAINT SET VINTAGE</td>\n",
              "      <td>36</td>\n",
              "      <td>08/11/2011 09:56</td>\n",
              "      <td>0.65</td>\n",
              "      <td>15608.0</td>\n",
              "      <td>United Kingdom</td>\n",
              "    </tr>\n",
              "    <tr>\n",
              "      <th>297499</th>\n",
              "      <td>562950</td>\n",
              "      <td>71459</td>\n",
              "      <td>HANGING JAM JAR T-LIGHT HOLDER</td>\n",
              "      <td>12</td>\n",
              "      <td>08/11/2011 09:56</td>\n",
              "      <td>0.85</td>\n",
              "      <td>15608.0</td>\n",
              "      <td>United Kingdom</td>\n",
              "    </tr>\n",
              "    <tr>\n",
              "      <th>297500</th>\n",
              "      <td>562950</td>\n",
              "      <td>84945</td>\n",
              "      <td>MULTI COLOUR SILVER T-LIGHT HOLDER</td>\n",
              "      <td>12</td>\n",
              "      <td>08/11/2011 09:56</td>\n",
              "      <td>0.85</td>\n",
              "      <td>15608.0</td>\n",
              "      <td>United Kingdom</td>\n",
              "    </tr>\n",
              "    <tr>\n",
              "      <th>297501</th>\n",
              "      <td>562950</td>\n",
              "      <td>21175</td>\n",
              "      <td>GIN + TONIC DIET METAL SIGN</td>\n",
              "      <td>12</td>\n",
              "      <td>08/11/2011 09:56</td>\n",
              "      <td>2.55</td>\n",
              "      <td>15608.0</td>\n",
              "      <td>United Kingdom</td>\n",
              "    </tr>\n",
              "    <tr>\n",
              "      <th>297502</th>\n",
              "      <td>562950</td>\n",
              "      <td>23164</td>\n",
              "      <td>REGENCY CAKE SLICE</td>\n",
              "      <td>4</td>\n",
              "      <td>08/11/2011 09:56</td>\n",
              "      <td>4.95</td>\n",
              "      <td>15608.0</td>\n",
              "      <td>United Kingdom</td>\n",
              "    </tr>\n",
              "    <tr>\n",
              "      <th>297503</th>\n",
              "      <td>562950</td>\n",
              "      <td>23245</td>\n",
              "      <td>SET OF 3 REGENCY CAKE TINS</td>\n",
              "      <td>4</td>\n",
              "      <td>08/11/2011 09:56</td>\n",
              "      <td>4.95</td>\n",
              "      <td>15608.0</td>\n",
              "      <td>United Kingdom</td>\n",
              "    </tr>\n",
              "    <tr>\n",
              "      <th>297504</th>\n",
              "      <td>562950</td>\n",
              "      <td>23171</td>\n",
              "      <td>REGENCY TEA PLATE GREEN</td>\n",
              "      <td>12</td>\n",
              "      <td>08/11/2011 09:56</td>\n",
              "      <td>1.65</td>\n",
              "      <td>15608.0</td>\n",
              "      <td>United Kingdom</td>\n",
              "    </tr>\n",
              "    <tr>\n",
              "      <th>297505</th>\n",
              "      <td>562950</td>\n",
              "      <td>22697</td>\n",
              "      <td>GREEN REGENCY TEACUP AND SAUCER</td>\n",
              "      <td>6</td>\n",
              "      <td>08/11/2011 09:56</td>\n",
              "      <td>2.95</td>\n",
              "      <td>15608.0</td>\n",
              "      <td>United Kingdom</td>\n",
              "    </tr>\n",
              "  </tbody>\n",
              "</table>\n",
              "</div>\n",
              "    <div class=\"colab-df-buttons\">\n",
              "\n",
              "  <div class=\"colab-df-container\">\n",
              "    <button class=\"colab-df-convert\" onclick=\"convertToInteractive('df-93ae5ddb-7463-4e91-853f-c6c65a7ded31')\"\n",
              "            title=\"Convert this dataframe to an interactive table.\"\n",
              "            style=\"display:none;\">\n",
              "\n",
              "  <svg xmlns=\"http://www.w3.org/2000/svg\" height=\"24px\" viewBox=\"0 -960 960 960\">\n",
              "    <path d=\"M120-120v-720h720v720H120Zm60-500h600v-160H180v160Zm220 220h160v-160H400v160Zm0 220h160v-160H400v160ZM180-400h160v-160H180v160Zm440 0h160v-160H620v160ZM180-180h160v-160H180v160Zm440 0h160v-160H620v160Z\"/>\n",
              "  </svg>\n",
              "    </button>\n",
              "\n",
              "  <style>\n",
              "    .colab-df-container {\n",
              "      display:flex;\n",
              "      gap: 12px;\n",
              "    }\n",
              "\n",
              "    .colab-df-convert {\n",
              "      background-color: #E8F0FE;\n",
              "      border: none;\n",
              "      border-radius: 50%;\n",
              "      cursor: pointer;\n",
              "      display: none;\n",
              "      fill: #1967D2;\n",
              "      height: 32px;\n",
              "      padding: 0 0 0 0;\n",
              "      width: 32px;\n",
              "    }\n",
              "\n",
              "    .colab-df-convert:hover {\n",
              "      background-color: #E2EBFA;\n",
              "      box-shadow: 0px 1px 2px rgba(60, 64, 67, 0.3), 0px 1px 3px 1px rgba(60, 64, 67, 0.15);\n",
              "      fill: #174EA6;\n",
              "    }\n",
              "\n",
              "    .colab-df-buttons div {\n",
              "      margin-bottom: 4px;\n",
              "    }\n",
              "\n",
              "    [theme=dark] .colab-df-convert {\n",
              "      background-color: #3B4455;\n",
              "      fill: #D2E3FC;\n",
              "    }\n",
              "\n",
              "    [theme=dark] .colab-df-convert:hover {\n",
              "      background-color: #434B5C;\n",
              "      box-shadow: 0px 1px 3px 1px rgba(0, 0, 0, 0.15);\n",
              "      filter: drop-shadow(0px 1px 2px rgba(0, 0, 0, 0.3));\n",
              "      fill: #FFFFFF;\n",
              "    }\n",
              "  </style>\n",
              "\n",
              "    <script>\n",
              "      const buttonEl =\n",
              "        document.querySelector('#df-93ae5ddb-7463-4e91-853f-c6c65a7ded31 button.colab-df-convert');\n",
              "      buttonEl.style.display =\n",
              "        google.colab.kernel.accessAllowed ? 'block' : 'none';\n",
              "\n",
              "      async function convertToInteractive(key) {\n",
              "        const element = document.querySelector('#df-93ae5ddb-7463-4e91-853f-c6c65a7ded31');\n",
              "        const dataTable =\n",
              "          await google.colab.kernel.invokeFunction('convertToInteractive',\n",
              "                                                    [key], {});\n",
              "        if (!dataTable) return;\n",
              "\n",
              "        const docLinkHtml = 'Like what you see? Visit the ' +\n",
              "          '<a target=\"_blank\" href=https://colab.research.google.com/notebooks/data_table.ipynb>data table notebook</a>'\n",
              "          + ' to learn more about interactive tables.';\n",
              "        element.innerHTML = '';\n",
              "        dataTable['output_type'] = 'display_data';\n",
              "        await google.colab.output.renderOutput(dataTable, element);\n",
              "        const docLink = document.createElement('div');\n",
              "        docLink.innerHTML = docLinkHtml;\n",
              "        element.appendChild(docLink);\n",
              "      }\n",
              "    </script>\n",
              "  </div>\n",
              "\n",
              "\n",
              "<div id=\"df-ba356028-737f-4745-9bf9-a8ecdf90bd01\">\n",
              "  <button class=\"colab-df-quickchart\" onclick=\"quickchart('df-ba356028-737f-4745-9bf9-a8ecdf90bd01')\"\n",
              "            title=\"Suggest charts\"\n",
              "            style=\"display:none;\">\n",
              "\n",
              "<svg xmlns=\"http://www.w3.org/2000/svg\" height=\"24px\"viewBox=\"0 0 24 24\"\n",
              "     width=\"24px\">\n",
              "    <g>\n",
              "        <path d=\"M19 3H5c-1.1 0-2 .9-2 2v14c0 1.1.9 2 2 2h14c1.1 0 2-.9 2-2V5c0-1.1-.9-2-2-2zM9 17H7v-7h2v7zm4 0h-2V7h2v10zm4 0h-2v-4h2v4z\"/>\n",
              "    </g>\n",
              "</svg>\n",
              "  </button>\n",
              "\n",
              "<style>\n",
              "  .colab-df-quickchart {\n",
              "      --bg-color: #E8F0FE;\n",
              "      --fill-color: #1967D2;\n",
              "      --hover-bg-color: #E2EBFA;\n",
              "      --hover-fill-color: #174EA6;\n",
              "      --disabled-fill-color: #AAA;\n",
              "      --disabled-bg-color: #DDD;\n",
              "  }\n",
              "\n",
              "  [theme=dark] .colab-df-quickchart {\n",
              "      --bg-color: #3B4455;\n",
              "      --fill-color: #D2E3FC;\n",
              "      --hover-bg-color: #434B5C;\n",
              "      --hover-fill-color: #FFFFFF;\n",
              "      --disabled-bg-color: #3B4455;\n",
              "      --disabled-fill-color: #666;\n",
              "  }\n",
              "\n",
              "  .colab-df-quickchart {\n",
              "    background-color: var(--bg-color);\n",
              "    border: none;\n",
              "    border-radius: 50%;\n",
              "    cursor: pointer;\n",
              "    display: none;\n",
              "    fill: var(--fill-color);\n",
              "    height: 32px;\n",
              "    padding: 0;\n",
              "    width: 32px;\n",
              "  }\n",
              "\n",
              "  .colab-df-quickchart:hover {\n",
              "    background-color: var(--hover-bg-color);\n",
              "    box-shadow: 0 1px 2px rgba(60, 64, 67, 0.3), 0 1px 3px 1px rgba(60, 64, 67, 0.15);\n",
              "    fill: var(--button-hover-fill-color);\n",
              "  }\n",
              "\n",
              "  .colab-df-quickchart-complete:disabled,\n",
              "  .colab-df-quickchart-complete:disabled:hover {\n",
              "    background-color: var(--disabled-bg-color);\n",
              "    fill: var(--disabled-fill-color);\n",
              "    box-shadow: none;\n",
              "  }\n",
              "\n",
              "  .colab-df-spinner {\n",
              "    border: 2px solid var(--fill-color);\n",
              "    border-color: transparent;\n",
              "    border-bottom-color: var(--fill-color);\n",
              "    animation:\n",
              "      spin 1s steps(1) infinite;\n",
              "  }\n",
              "\n",
              "  @keyframes spin {\n",
              "    0% {\n",
              "      border-color: transparent;\n",
              "      border-bottom-color: var(--fill-color);\n",
              "      border-left-color: var(--fill-color);\n",
              "    }\n",
              "    20% {\n",
              "      border-color: transparent;\n",
              "      border-left-color: var(--fill-color);\n",
              "      border-top-color: var(--fill-color);\n",
              "    }\n",
              "    30% {\n",
              "      border-color: transparent;\n",
              "      border-left-color: var(--fill-color);\n",
              "      border-top-color: var(--fill-color);\n",
              "      border-right-color: var(--fill-color);\n",
              "    }\n",
              "    40% {\n",
              "      border-color: transparent;\n",
              "      border-right-color: var(--fill-color);\n",
              "      border-top-color: var(--fill-color);\n",
              "    }\n",
              "    60% {\n",
              "      border-color: transparent;\n",
              "      border-right-color: var(--fill-color);\n",
              "    }\n",
              "    80% {\n",
              "      border-color: transparent;\n",
              "      border-right-color: var(--fill-color);\n",
              "      border-bottom-color: var(--fill-color);\n",
              "    }\n",
              "    90% {\n",
              "      border-color: transparent;\n",
              "      border-bottom-color: var(--fill-color);\n",
              "    }\n",
              "  }\n",
              "</style>\n",
              "\n",
              "  <script>\n",
              "    async function quickchart(key) {\n",
              "      const quickchartButtonEl =\n",
              "        document.querySelector('#' + key + ' button');\n",
              "      quickchartButtonEl.disabled = true;  // To prevent multiple clicks.\n",
              "      quickchartButtonEl.classList.add('colab-df-spinner');\n",
              "      try {\n",
              "        const charts = await google.colab.kernel.invokeFunction(\n",
              "            'suggestCharts', [key], {});\n",
              "      } catch (error) {\n",
              "        console.error('Error during call to suggestCharts:', error);\n",
              "      }\n",
              "      quickchartButtonEl.classList.remove('colab-df-spinner');\n",
              "      quickchartButtonEl.classList.add('colab-df-quickchart-complete');\n",
              "    }\n",
              "    (() => {\n",
              "      let quickchartButtonEl =\n",
              "        document.querySelector('#df-ba356028-737f-4745-9bf9-a8ecdf90bd01 button');\n",
              "      quickchartButtonEl.style.display =\n",
              "        google.colab.kernel.accessAllowed ? 'block' : 'none';\n",
              "    })();\n",
              "  </script>\n",
              "</div>\n",
              "    </div>\n",
              "  </div>\n"
            ]
          },
          "metadata": {},
          "execution_count": 275
        }
      ]
    },
    {
      "cell_type": "markdown",
      "source": [
        "## quiz 22386 และ 85099b คือสินค้าอะไร"
      ],
      "metadata": {
        "id": "WwuP5uF5bQUX"
      }
    },
    {
      "cell_type": "code",
      "source": [
        "set(data[(data['StockCode']=='22386')  ]['Description'])"
      ],
      "metadata": {
        "id": "5NKnboxUWuIb",
        "outputId": "32ecbce0-9f14-4813-f568-1eb112f84b0f",
        "colab": {
          "base_uri": "https://localhost:8080/"
        }
      },
      "execution_count": 276,
      "outputs": [
        {
          "output_type": "execute_result",
          "data": {
            "text/plain": [
              "{'JUMBO BAG PINK POLKADOT'}"
            ]
          },
          "metadata": {},
          "execution_count": 276
        }
      ]
    },
    {
      "cell_type": "code",
      "source": [
        "set(data[(data['StockCode']=='85099B') ]['Description'])"
      ],
      "metadata": {
        "id": "VYpZzrwZdIzO",
        "outputId": "4d828322-e5ac-46b2-bff2-9929bceb8f60",
        "colab": {
          "base_uri": "https://localhost:8080/"
        }
      },
      "execution_count": 277,
      "outputs": [
        {
          "output_type": "execute_result",
          "data": {
            "text/plain": [
              "{'JUMBO BAG RED RETROSPOT'}"
            ]
          },
          "metadata": {},
          "execution_count": 277
        }
      ]
    },
    {
      "cell_type": "markdown",
      "source": [
        "#Hw หา Frequent Item Set  และ Association Rules\n",
        "- ของช่วงเวลา Chirtmas & New Year(1 Dec -31 Dec)\n",
        "- ของประเทศในทวีป Europe\n",
        "- ของช่วงเวลา ตรุษจีน ในทวีป Asai (15 jan-15 Feb)\n",
        "- ของช่วงเวลา Chirtmas & New Year ในทวีป Europe (1 Dec -31 Dec)\n",
        "- ของวันวาเลนไทน์\n",
        "- โดยจัดกลุ่มตามประเทศ+เดือน"
      ],
      "metadata": {
        "id": "vFzBgO34cSRT"
      }
    },
    {
      "cell_type": "code",
      "source": [
        "!pip install apyori"
      ],
      "metadata": {
        "id": "dQQVNNlf3RTq",
        "outputId": "ba7da5c4-32ff-4772-f30d-e8e3cdc4b0ed",
        "colab": {
          "base_uri": "https://localhost:8080/"
        }
      },
      "execution_count": 278,
      "outputs": [
        {
          "output_type": "stream",
          "name": "stdout",
          "text": [
            "Requirement already satisfied: apyori in /usr/local/lib/python3.10/dist-packages (1.1.2)\n"
          ]
        }
      ]
    },
    {
      "cell_type": "code",
      "source": [
        "from apyori import apriori"
      ],
      "metadata": {
        "id": "HWkPbw9u3RTr"
      },
      "execution_count": 279,
      "outputs": []
    },
    {
      "cell_type": "code",
      "source": [
        "df = pd.read_csv(os.path.join(path, 'reduced_marketbasket.csv'), encoding='latin-1')\n"
      ],
      "metadata": {
        "id": "B4cSQOb83RTr"
      },
      "execution_count": 280,
      "outputs": []
    },
    {
      "cell_type": "markdown",
      "source": [
        "## ข้อ 1. ช่วงเวลา Chirtmas & New Year(1 Dec -31 Dec)"
      ],
      "metadata": {
        "id": "5W3PAhZ1R7uZ"
      }
    },
    {
      "cell_type": "code",
      "source": [
        "# Convert รูปแบบเวลาใน column InvoiceDate ให้อยู่ในรูปที่ต้องการ\n",
        "df['InvoiceDate'] = pd.to_datetime(df['InvoiceDate'], format='%m/%d/%Y %H:%M')\n"
      ],
      "metadata": {
        "id": "AYGUp6zp3RTs"
      },
      "execution_count": 281,
      "outputs": []
    },
    {
      "cell_type": "code",
      "source": [
        "# Filter December 1st to December 31st\n",
        "filtered_df = df[(df['InvoiceDate'].dt.month == 12) & (df['InvoiceDate'].dt.day >= 1) & (df['InvoiceDate'].dt.day <= 31)]\n",
        "\n",
        "#ปริ้นเพื่อตรวจสอบ\n",
        "print(filtered_df)"
      ],
      "metadata": {
        "id": "9H7mMjAz3RTs",
        "colab": {
          "base_uri": "https://localhost:8080/"
        },
        "outputId": "0eac098c-4404-4407-898a-144c3cb16447"
      },
      "execution_count": 282,
      "outputs": [
        {
          "output_type": "stream",
          "name": "stdout",
          "text": [
            "       InvoiceNo StockCode                          Description  Quantity  \\\n",
            "0         536365    85123A   WHITE HANGING HEART T-LIGHT HOLDER         6   \n",
            "1         536365     71053                  WHITE METAL LANTERN         6   \n",
            "2         536365    84406B       CREAM CUPID HEARTS COAT HANGER         8   \n",
            "3         536365    84029G  KNITTED UNION FLAG HOT WATER BOTTLE         6   \n",
            "4         536365    84029E       RED WOOLLY HOTTIE WHITE HEART.         6   \n",
            "...          ...       ...                                  ...       ...   \n",
            "541904    581587     22613          PACK OF 20 SPACEBOY NAPKINS        12   \n",
            "541905    581587     22899         CHILDREN'S APRON DOLLY GIRL          6   \n",
            "541906    581587     23254        CHILDRENS CUTLERY DOLLY GIRL          4   \n",
            "541907    581587     23255      CHILDRENS CUTLERY CIRCUS PARADE         4   \n",
            "541908    581587     22138        BAKING SET 9 PIECE RETROSPOT          3   \n",
            "\n",
            "               InvoiceDate  UnitPrice  CustomerID         Country  \n",
            "0      2010-12-01 08:26:00       2.55     17850.0  United Kingdom  \n",
            "1      2010-12-01 08:26:00       3.39     17850.0  United Kingdom  \n",
            "2      2010-12-01 08:26:00       2.75     17850.0  United Kingdom  \n",
            "3      2010-12-01 08:26:00       3.39     17850.0  United Kingdom  \n",
            "4      2010-12-01 08:26:00       3.39     17850.0  United Kingdom  \n",
            "...                    ...        ...         ...             ...  \n",
            "541904 2011-12-09 12:50:00       0.85     12680.0          France  \n",
            "541905 2011-12-09 12:50:00       2.10     12680.0          France  \n",
            "541906 2011-12-09 12:50:00       4.15     12680.0          France  \n",
            "541907 2011-12-09 12:50:00       4.15     12680.0          France  \n",
            "541908 2011-12-09 12:50:00       4.95     12680.0          France  \n",
            "\n",
            "[68006 rows x 8 columns]\n"
          ]
        }
      ]
    },
    {
      "cell_type": "code",
      "source": [
        "# transactions= filtered_df.groupby('InvoiceNo')['StockCode'].apply(list)\n",
        "# transactions  ### ถ้าใช้ transactions แทน transactions_apply จะเป็นการโชว์ StockCode แทนข้อมูลสินค้า ###"
      ],
      "metadata": {
        "id": "JLbCA56n7x-G"
      },
      "execution_count": 283,
      "outputs": []
    },
    {
      "cell_type": "code",
      "source": [
        "transactions = filtered_df.groupby('InvoiceNo')['Description'].apply(list).reset_index() #ทำการ group และทำให้ข้อมูลใน Description เป็นlist\n",
        "transactions_apply = transactions['Description'].apply(lambda x: [str(item) for item in x]) #ใช้ฟังก์ชัน lambda เพื่อแปลงสินค้าทุกชิ้นใน list ของ 'transactions' เป็นข้อความ (string)"
      ],
      "metadata": {
        "id": "x3tyMi2Rg8kt"
      },
      "execution_count": null,
      "outputs": []
    },
    {
      "cell_type": "code",
      "source": [
        "frequentItemset = list(apriori(transactions_apply, min_support=0.035))\n",
        "\n",
        "for record in frequentItemset:\n",
        "    if len(record.items) > 1:\n",
        "        print('yes')\n",
        "        print(f\"Items: {', '.join(record.items)}\")\n",
        "        print(f\"Support: {record.support:.4f} ({record.support*100:.2f}%)\")\n",
        "\n",
        "        for i, stat in enumerate(record.ordered_statistics, 1):\n",
        "            items_base = 'None' if not stat.items_base else ', '.join(stat.items_base)\n",
        "            items_add = ', '.join(stat.items_add)\n",
        "            confidence = stat.confidence\n",
        "            lift = stat.lift\n",
        "\n",
        "            print(f\"Rule {i}: ({items_base} -> {items_add} : Confidence={confidence:.4f}, Lift={lift:.4f})\")\n",
        "        print()\n"
      ],
      "metadata": {
        "outputId": "647faf75-b9bc-43dc-ad9e-4722314e16b2",
        "colab": {
          "base_uri": "https://localhost:8080/"
        },
        "id": "S7GgWw2Eg8ku"
      },
      "execution_count": null,
      "outputs": [
        {
          "output_type": "stream",
          "name": "stdout",
          "text": [
            "yes\n",
            "Items: ALARM CLOCK BAKELIKE RED , ALARM CLOCK BAKELIKE GREEN\n",
            "Support: 0.0368 (3.68%)\n",
            "Rule 1: (None -> ALARM CLOCK BAKELIKE RED , ALARM CLOCK BAKELIKE GREEN : Confidence=0.0368, Lift=1.0000)\n",
            "Rule 2: (ALARM CLOCK BAKELIKE GREEN -> ALARM CLOCK BAKELIKE RED  : Confidence=0.7089, Lift=14.4627)\n",
            "Rule 3: (ALARM CLOCK BAKELIKE RED  -> ALARM CLOCK BAKELIKE GREEN : Confidence=0.7517, Lift=14.4627)\n",
            "\n",
            "yes\n",
            "Items: HOT WATER BOTTLE I AM SO POORLY, CHOCOLATE HOT WATER BOTTLE\n",
            "Support: 0.0365 (3.65%)\n",
            "Rule 1: (None -> HOT WATER BOTTLE I AM SO POORLY, CHOCOLATE HOT WATER BOTTLE : Confidence=0.0365, Lift=1.0000)\n",
            "Rule 2: (CHOCOLATE HOT WATER BOTTLE -> HOT WATER BOTTLE I AM SO POORLY : Confidence=0.5163, Lift=9.7484)\n",
            "Rule 3: (HOT WATER BOTTLE I AM SO POORLY -> CHOCOLATE HOT WATER BOTTLE : Confidence=0.6894, Lift=9.7484)\n",
            "\n",
            "yes\n",
            "Items: PAPER CHAIN KIT 50'S CHRISTMAS , PAPER CHAIN KIT VINTAGE CHRISTMAS\n",
            "Support: 0.0477 (4.77%)\n",
            "Rule 1: (None -> PAPER CHAIN KIT 50'S CHRISTMAS , PAPER CHAIN KIT VINTAGE CHRISTMAS : Confidence=0.0477, Lift=1.0000)\n",
            "Rule 2: (PAPER CHAIN KIT 50'S CHRISTMAS  -> PAPER CHAIN KIT VINTAGE CHRISTMAS : Confidence=0.5160, Lift=7.1958)\n",
            "Rule 3: (PAPER CHAIN KIT VINTAGE CHRISTMAS -> PAPER CHAIN KIT 50'S CHRISTMAS  : Confidence=0.6651, Lift=7.1958)\n",
            "\n"
          ]
        }
      ]
    },
    {
      "cell_type": "markdown",
      "source": [
        "สรุป เลือกอันที่มีค่าสนับสนุนมากที่สุด\n",
        "\n",
        "\n",
        "Items: PAPER CHAIN KIT VINTAGE CHRISTMAS และ PAPER CHAIN KIT 50'S CHRISTMAS ค่าสนับสนุนคือ 0.0477 หรือ 4.77% ของการทำธุรกรรมทั้งหมด\n",
        "\n",
        "- เมื่อ 'PAPER CHAIN KIT 50'S CHRISTMAS' ถูกซื้อ มีความมั่นใจ 51.60% ว่า 'PAPER CHAIN KIT VINTAGE CHRISTMAS' จะถูกซื้อด้วย\n",
        "\n",
        "- เมื่อ 'PAPER CHAIN KIT VINTAGE CHRISTMAS' ถูกซื้อ มีโอกาส 66.51% ว่า 'PAPER CHAIN KIT 50'S CHRISTMAS' จะถูกซื้อด้วย"
      ],
      "metadata": {
        "id": "jA5Pgn7UTzOJ"
      }
    },
    {
      "cell_type": "markdown",
      "source": [
        "## ข้อ 2. ประเทศในทวีป Europe"
      ],
      "metadata": {
        "id": "Jw8xSPJkfZLa"
      }
    },
    {
      "cell_type": "code",
      "source": [
        "europe_countries = {\n",
        "    'Austria', 'Belgium', 'Channel Islands', 'Cyprus', 'Czech Republic', 'Denmark', 'EIRE',\n",
        "    'European Community', 'Finland', 'France', 'Germany', 'Greece', 'Iceland', 'Italy',\n",
        "    'Lithuania', 'Malta', 'Netherlands', 'Norway', 'Poland', 'Portugal', 'Spain', 'Sweden',\n",
        "    'Switzerland', 'United Kingdom', 'Unspecified'\n",
        "}"
      ],
      "metadata": {
        "id": "_lBhC4sthU4A"
      },
      "execution_count": 286,
      "outputs": []
    },
    {
      "cell_type": "code",
      "source": [
        "# เลือกประเทศจาก european_countries\n",
        "filtered_df2 = df[df['Country'].isin(europe_countries)]\n",
        "\n",
        "# โชว์ datafram เพื่อcheck\n",
        "print(filtered_df2)"
      ],
      "metadata": {
        "id": "uF-poEZlU48S",
        "colab": {
          "base_uri": "https://localhost:8080/"
        },
        "outputId": "2b6c517e-06d4-4ed5-b1be-2476dc362c14"
      },
      "execution_count": 287,
      "outputs": [
        {
          "output_type": "stream",
          "name": "stdout",
          "text": [
            "       InvoiceNo StockCode                          Description  Quantity  \\\n",
            "0         536365    85123A   WHITE HANGING HEART T-LIGHT HOLDER         6   \n",
            "1         536365     71053                  WHITE METAL LANTERN         6   \n",
            "2         536365    84406B       CREAM CUPID HEARTS COAT HANGER         8   \n",
            "3         536365    84029G  KNITTED UNION FLAG HOT WATER BOTTLE         6   \n",
            "4         536365    84029E       RED WOOLLY HOTTIE WHITE HEART.         6   \n",
            "...          ...       ...                                  ...       ...   \n",
            "541904    581587     22613          PACK OF 20 SPACEBOY NAPKINS        12   \n",
            "541905    581587     22899         CHILDREN'S APRON DOLLY GIRL          6   \n",
            "541906    581587     23254        CHILDRENS CUTLERY DOLLY GIRL          4   \n",
            "541907    581587     23255      CHILDRENS CUTLERY CIRCUS PARADE         4   \n",
            "541908    581587     22138        BAKING SET 9 PIECE RETROSPOT          3   \n",
            "\n",
            "               InvoiceDate  UnitPrice  CustomerID         Country  \n",
            "0      2010-12-01 08:26:00       2.55     17850.0  United Kingdom  \n",
            "1      2010-12-01 08:26:00       3.39     17850.0  United Kingdom  \n",
            "2      2010-12-01 08:26:00       2.75     17850.0  United Kingdom  \n",
            "3      2010-12-01 08:26:00       3.39     17850.0  United Kingdom  \n",
            "4      2010-12-01 08:26:00       3.39     17850.0  United Kingdom  \n",
            "...                    ...        ...         ...             ...  \n",
            "541904 2011-12-09 12:50:00       0.85     12680.0          France  \n",
            "541905 2011-12-09 12:50:00       2.10     12680.0          France  \n",
            "541906 2011-12-09 12:50:00       4.15     12680.0          France  \n",
            "541907 2011-12-09 12:50:00       4.15     12680.0          France  \n",
            "541908 2011-12-09 12:50:00       4.95     12680.0          France  \n",
            "\n",
            "[538804 rows x 8 columns]\n"
          ]
        }
      ]
    },
    {
      "cell_type": "code",
      "source": [
        "transactions2 = filtered_df2.groupby('InvoiceNo')['Description'].apply(list).reset_index() #ทำการ group และทำให้ข้อมูลใน Description เป็นlist\n",
        "transactions_apply2 = transactions2['Description'].apply(lambda x: [str(item) for item in x]) #ใช้ฟังก์ชัน lambda เพื่อแปลงสินค้าทุกชิ้นใน list ของ 'transactions' เป็นข้อความ (string)"
      ],
      "metadata": {
        "id": "t95n8_FciLrY"
      },
      "execution_count": 288,
      "outputs": []
    },
    {
      "cell_type": "code",
      "source": [
        "frequentItemset2 = list(apriori(transactions_apply2, min_support=0.025))\n",
        "\n",
        "for record in frequentItemset2:\n",
        "    if len(record.items) > 1:\n",
        "        print('yes')\n",
        "        print(f\"Items: {', '.join(record.items)}\")\n",
        "        print(f\"Support: {record.support:.4f} ({record.support*100:.2f}%)\")\n",
        "\n",
        "        for i, stat in enumerate(record.ordered_statistics, 1):\n",
        "            items_base = 'None' if not stat.items_base else ', '.join(stat.items_base)\n",
        "            items_add = ', '.join(stat.items_add)\n",
        "            confidence = stat.confidence\n",
        "            lift = stat.lift\n",
        "\n",
        "            print(f\"Rule {i}: ({items_base} -> {items_add} : Confidence={confidence:.4f}, Lift={lift:.4f})\")\n",
        "        print()\n"
      ],
      "metadata": {
        "colab": {
          "base_uri": "https://localhost:8080/"
        },
        "id": "QSYns1kPiR44",
        "outputId": "4666482b-73f1-4026-b95f-4735ce794266"
      },
      "execution_count": 289,
      "outputs": [
        {
          "output_type": "stream",
          "name": "stdout",
          "text": [
            "yes\n",
            "Items: GREEN REGENCY TEACUP AND SAUCER, ROSES REGENCY TEACUP AND SAUCER \n",
            "Support: 0.0301 (3.01%)\n",
            "Rule 1: (None -> GREEN REGENCY TEACUP AND SAUCER, ROSES REGENCY TEACUP AND SAUCER  : Confidence=0.0301, Lift=1.0000)\n",
            "Rule 2: (GREEN REGENCY TEACUP AND SAUCER -> ROSES REGENCY TEACUP AND SAUCER  : Confidence=0.7402, Lift=17.2141)\n",
            "Rule 3: (ROSES REGENCY TEACUP AND SAUCER  -> GREEN REGENCY TEACUP AND SAUCER : Confidence=0.7001, Lift=17.2141)\n",
            "\n",
            "yes\n",
            "Items: JUMBO BAG RED RETROSPOT, JUMBO BAG PINK POLKADOT\n",
            "Support: 0.0323 (3.23%)\n",
            "Rule 1: (None -> JUMBO BAG RED RETROSPOT, JUMBO BAG PINK POLKADOT : Confidence=0.0323, Lift=1.0000)\n",
            "Rule 2: (JUMBO BAG PINK POLKADOT -> JUMBO BAG RED RETROSPOT : Confidence=0.6775, Lift=8.2081)\n",
            "Rule 3: (JUMBO BAG RED RETROSPOT -> JUMBO BAG PINK POLKADOT : Confidence=0.3915, Lift=8.2081)\n",
            "\n",
            "yes\n",
            "Items: JUMBO SHOPPER VINTAGE RED PAISLEY, JUMBO BAG RED RETROSPOT\n",
            "Support: 0.0265 (2.65%)\n",
            "Rule 1: (None -> JUMBO SHOPPER VINTAGE RED PAISLEY, JUMBO BAG RED RETROSPOT : Confidence=0.0265, Lift=1.0000)\n",
            "Rule 2: (JUMBO BAG RED RETROSPOT -> JUMBO SHOPPER VINTAGE RED PAISLEY : Confidence=0.3209, Lift=6.9783)\n",
            "Rule 3: (JUMBO SHOPPER VINTAGE RED PAISLEY -> JUMBO BAG RED RETROSPOT : Confidence=0.5760, Lift=6.9783)\n",
            "\n",
            "yes\n",
            "Items: JUMBO STORAGE BAG SUKI, JUMBO BAG RED RETROSPOT\n",
            "Support: 0.0285 (2.85%)\n",
            "Rule 1: (None -> JUMBO STORAGE BAG SUKI, JUMBO BAG RED RETROSPOT : Confidence=0.0285, Lift=1.0000)\n",
            "Rule 2: (JUMBO BAG RED RETROSPOT -> JUMBO STORAGE BAG SUKI : Confidence=0.3449, Lift=7.4001)\n",
            "Rule 3: (JUMBO STORAGE BAG SUKI -> JUMBO BAG RED RETROSPOT : Confidence=0.6108, Lift=7.4001)\n",
            "\n",
            "yes\n",
            "Items: LUNCH BAG  BLACK SKULL., LUNCH BAG RED RETROSPOT\n",
            "Support: 0.0251 (2.51%)\n",
            "Rule 1: (None -> LUNCH BAG  BLACK SKULL., LUNCH BAG RED RETROSPOT : Confidence=0.0251, Lift=1.0000)\n",
            "Rule 2: (LUNCH BAG  BLACK SKULL. -> LUNCH BAG RED RETROSPOT : Confidence=0.5016, Lift=8.1054)\n",
            "Rule 3: (LUNCH BAG RED RETROSPOT -> LUNCH BAG  BLACK SKULL. : Confidence=0.4062, Lift=8.1054)\n",
            "\n"
          ]
        }
      ]
    },
    {
      "cell_type": "markdown",
      "source": [
        "## ข้อ 3. ช่วงเวลา ตรุษจีน ในทวีป Asai (15 jan-15 Feb)"
      ],
      "metadata": {
        "id": "pbUIDlMii2gM"
      }
    },
    {
      "cell_type": "code",
      "source": [
        "asia_countries= {\n",
        "    'Bahrain', 'Hong Kong', 'Israel', 'Japan', 'Lebanon', 'Saudi Arabia', 'Singapore', 'United Arab Emirates'\n",
        "}"
      ],
      "metadata": {
        "id": "-90QiM0ji8nC"
      },
      "execution_count": 290,
      "outputs": []
    },
    {
      "cell_type": "code",
      "source": [
        "# เลือกวันตรุษจีน ในทวีป Asai (15 jan-15 Feb)\n",
        "filtered_df3 = df[\n",
        "     (((df['InvoiceDate'].dt.month == 1) & (df['InvoiceDate'].dt.day >= 15)) |\n",
        "    ((df['InvoiceDate'].dt.month == 2) & (df['InvoiceDate'].dt.day <= 15))) &\n",
        "    (df['Country'].isin(asia_countries))\n",
        "]\n",
        "\n",
        "\n",
        "# โชว์ datafram เพื่อcheck\n",
        "print(filtered_df3)"
      ],
      "metadata": {
        "colab": {
          "base_uri": "https://localhost:8080/"
        },
        "id": "VHP7iELCjx8-",
        "outputId": "caac5fc1-7241-4889-9ef4-20fbb95c31e6"
      },
      "execution_count": 291,
      "outputs": [
        {
          "output_type": "stream",
          "name": "stdout",
          "text": [
            "      InvoiceNo StockCode                          Description  Quantity  \\\n",
            "69623    541975     22620          4 TRADITIONAL SPINNING TOPS        60   \n",
            "69624    541975    85183B  CHARLIE & LOLA WASTEPAPER BIN FLORA         6   \n",
            "69625    541975    85183A   CHARLIE & LOLA WASTEPAPER BIN BLUE         6   \n",
            "69626    541975     16236                 KITTY PENCIL ERASERS        28   \n",
            "69627    541975     21058               PARTY INVITES WOODLAND        12   \n",
            "...         ...       ...                                  ...       ...   \n",
            "89595    543911    47590B          PINK HAPPY BIRTHDAY BUNTING        12   \n",
            "89596    543911     22117     METAL SIGN HER DINNER IS SERVED         12   \n",
            "89597    543911     82567            AIRLINE LOUNGE,METAL SIGN        12   \n",
            "89598    543911     21910                  WAY OUT METAL SIGN         12   \n",
            "89599    543911     21911                   GARDEN METAL SIGN         12   \n",
            "\n",
            "              InvoiceDate  UnitPrice  CustomerID               Country  \n",
            "69623 2011-01-24 14:24:00       1.25         NaN             Hong Kong  \n",
            "69624 2011-01-24 14:24:00       3.75         NaN             Hong Kong  \n",
            "69625 2011-01-24 14:24:00       3.75         NaN             Hong Kong  \n",
            "69626 2011-01-24 14:24:00       0.21         NaN             Hong Kong  \n",
            "69627 2011-01-24 14:24:00       0.85         NaN             Hong Kong  \n",
            "...                   ...        ...         ...                   ...  \n",
            "89595 2011-02-14 12:46:00       5.45     17829.0  United Arab Emirates  \n",
            "89596 2011-02-14 12:46:00       2.95     17829.0  United Arab Emirates  \n",
            "89597 2011-02-14 12:46:00       2.10     17829.0  United Arab Emirates  \n",
            "89598 2011-02-14 12:46:00       1.65     17829.0  United Arab Emirates  \n",
            "89599 2011-02-14 12:46:00       1.65     17829.0  United Arab Emirates  \n",
            "\n",
            "[273 rows x 8 columns]\n"
          ]
        }
      ]
    },
    {
      "cell_type": "code",
      "source": [
        "transactions3 = filtered_df3.groupby('InvoiceNo')['Description'].apply(list).reset_index() #ทำการ group และทำให้ข้อมูลใน Description เป็นlist\n",
        "transactions_apply3 = transactions3['Description'].apply(lambda x: [str(item) for item in x]) #ใช้ฟังก์ชัน lambda เพื่อแปลงสินค้าทุกชิ้นใน list ของ 'transactions' เป็นข้อความ (string)"
      ],
      "metadata": {
        "id": "vj1NgUiBmg0F"
      },
      "execution_count": 292,
      "outputs": []
    },
    {
      "cell_type": "code",
      "source": [
        "frequentItemset3 = list(apriori(transactions_apply3, min_support=0.3))\n",
        "\n",
        "for record in frequentItemset3:\n",
        "    if len(record.items) > 1:\n",
        "        print('yes')\n",
        "        print(f\"Items: {', '.join(record.items)}\")\n",
        "        print(f\"Support: {record.support:.4f} ({record.support*100:.2f}%)\")\n",
        "\n",
        "        for i, stat in enumerate(record.ordered_statistics, 1):\n",
        "            items_base = 'None' if not stat.items_base else ', '.join(stat.items_base)\n",
        "            items_add = ', '.join(stat.items_add)\n",
        "            confidence = stat.confidence\n",
        "            lift = stat.lift\n",
        "\n",
        "            print(f\"Rule {i}: ({items_base} -> {items_add} : Confidence={confidence:.4f}, Lift={lift:.4f})\")\n",
        "        print()\n"
      ],
      "metadata": {
        "colab": {
          "base_uri": "https://localhost:8080/"
        },
        "id": "Bq-GS1cQmpN5",
        "outputId": "abefcdd6-c153-4c79-dda9-65bfbc6bd217"
      },
      "execution_count": 293,
      "outputs": [
        {
          "output_type": "stream",
          "name": "stdout",
          "text": [
            "yes\n",
            "Items: BASKET OF TOADSTOOLS, LUNCH BAG RED RETROSPOT\n",
            "Support: 0.3333 (33.33%)\n",
            "Rule 1: (None -> BASKET OF TOADSTOOLS, LUNCH BAG RED RETROSPOT : Confidence=0.3333, Lift=1.0000)\n",
            "Rule 2: (BASKET OF TOADSTOOLS -> LUNCH BAG RED RETROSPOT : Confidence=1.0000, Lift=3.0000)\n",
            "Rule 3: (LUNCH BAG RED RETROSPOT -> BASKET OF TOADSTOOLS : Confidence=1.0000, Lift=3.0000)\n",
            "\n",
            "yes\n",
            "Items: BASKET OF TOADSTOOLS, SET 3 RETROSPOT TEA,COFFEE,SUGAR\n",
            "Support: 0.3333 (33.33%)\n",
            "Rule 1: (None -> BASKET OF TOADSTOOLS, SET 3 RETROSPOT TEA,COFFEE,SUGAR : Confidence=0.3333, Lift=1.0000)\n",
            "Rule 2: (BASKET OF TOADSTOOLS -> SET 3 RETROSPOT TEA,COFFEE,SUGAR : Confidence=1.0000, Lift=3.0000)\n",
            "Rule 3: (SET 3 RETROSPOT TEA,COFFEE,SUGAR -> BASKET OF TOADSTOOLS : Confidence=1.0000, Lift=3.0000)\n",
            "\n",
            "yes\n",
            "Items: JAM MAKING SET WITH JARS, BATH BUILDING BLOCK WORD\n",
            "Support: 0.3333 (33.33%)\n",
            "Rule 1: (None -> JAM MAKING SET WITH JARS, BATH BUILDING BLOCK WORD : Confidence=0.3333, Lift=1.0000)\n",
            "Rule 2: (BATH BUILDING BLOCK WORD -> JAM MAKING SET WITH JARS : Confidence=1.0000, Lift=3.0000)\n",
            "Rule 3: (JAM MAKING SET WITH JARS -> BATH BUILDING BLOCK WORD : Confidence=1.0000, Lift=3.0000)\n",
            "\n",
            "yes\n",
            "Items: LADIES & GENTLEMEN METAL SIGN, BATH BUILDING BLOCK WORD\n",
            "Support: 0.3333 (33.33%)\n",
            "Rule 1: (None -> LADIES & GENTLEMEN METAL SIGN, BATH BUILDING BLOCK WORD : Confidence=0.3333, Lift=1.0000)\n",
            "Rule 2: (BATH BUILDING BLOCK WORD -> LADIES & GENTLEMEN METAL SIGN : Confidence=1.0000, Lift=2.0000)\n",
            "Rule 3: (LADIES & GENTLEMEN METAL SIGN -> BATH BUILDING BLOCK WORD : Confidence=0.6667, Lift=2.0000)\n",
            "\n",
            "yes\n",
            "Items: SET 3 PAPER VINTAGE CHICK PAPER EGG, BATH BUILDING BLOCK WORD\n",
            "Support: 0.3333 (33.33%)\n",
            "Rule 1: (None -> SET 3 PAPER VINTAGE CHICK PAPER EGG, BATH BUILDING BLOCK WORD : Confidence=0.3333, Lift=1.0000)\n",
            "Rule 2: (BATH BUILDING BLOCK WORD -> SET 3 PAPER VINTAGE CHICK PAPER EGG : Confidence=1.0000, Lift=2.0000)\n",
            "Rule 3: (SET 3 PAPER VINTAGE CHICK PAPER EGG -> BATH BUILDING BLOCK WORD : Confidence=0.6667, Lift=2.0000)\n",
            "\n",
            "yes\n",
            "Items: LADIES & GENTLEMEN METAL SIGN, BEWARE OF THE CAT METAL SIGN \n",
            "Support: 0.3333 (33.33%)\n",
            "Rule 1: (None -> LADIES & GENTLEMEN METAL SIGN, BEWARE OF THE CAT METAL SIGN  : Confidence=0.3333, Lift=1.0000)\n",
            "Rule 2: (BEWARE OF THE CAT METAL SIGN  -> LADIES & GENTLEMEN METAL SIGN : Confidence=1.0000, Lift=2.0000)\n",
            "Rule 3: (LADIES & GENTLEMEN METAL SIGN -> BEWARE OF THE CAT METAL SIGN  : Confidence=0.6667, Lift=2.0000)\n",
            "\n",
            "yes\n",
            "Items: BEWARE OF THE CAT METAL SIGN , LAUNDRY 15C METAL SIGN\n",
            "Support: 0.3333 (33.33%)\n",
            "Rule 1: (None -> BEWARE OF THE CAT METAL SIGN , LAUNDRY 15C METAL SIGN : Confidence=0.3333, Lift=1.0000)\n",
            "Rule 2: (BEWARE OF THE CAT METAL SIGN  -> LAUNDRY 15C METAL SIGN : Confidence=1.0000, Lift=3.0000)\n",
            "Rule 3: (LAUNDRY 15C METAL SIGN -> BEWARE OF THE CAT METAL SIGN  : Confidence=1.0000, Lift=3.0000)\n",
            "\n",
            "yes\n",
            "Items: BEWARE OF THE CAT METAL SIGN , WASHROOM METAL SIGN\n",
            "Support: 0.3333 (33.33%)\n",
            "Rule 1: (None -> BEWARE OF THE CAT METAL SIGN , WASHROOM METAL SIGN : Confidence=0.3333, Lift=1.0000)\n",
            "Rule 2: (BEWARE OF THE CAT METAL SIGN  -> WASHROOM METAL SIGN : Confidence=1.0000, Lift=3.0000)\n",
            "Rule 3: (WASHROOM METAL SIGN -> BEWARE OF THE CAT METAL SIGN  : Confidence=1.0000, Lift=3.0000)\n",
            "\n",
            "yes\n",
            "Items: LADIES & GENTLEMEN METAL SIGN, DOORMAT UNION FLAG\n",
            "Support: 0.3333 (33.33%)\n",
            "Rule 1: (None -> LADIES & GENTLEMEN METAL SIGN, DOORMAT UNION FLAG : Confidence=0.3333, Lift=1.0000)\n",
            "Rule 2: (DOORMAT UNION FLAG -> LADIES & GENTLEMEN METAL SIGN : Confidence=1.0000, Lift=2.0000)\n",
            "Rule 3: (LADIES & GENTLEMEN METAL SIGN -> DOORMAT UNION FLAG : Confidence=0.6667, Lift=2.0000)\n",
            "\n",
            "yes\n",
            "Items: METAL SIGN TAKE IT OR LEAVE IT , DOORMAT UNION FLAG\n",
            "Support: 0.3333 (33.33%)\n",
            "Rule 1: (None -> METAL SIGN TAKE IT OR LEAVE IT , DOORMAT UNION FLAG : Confidence=0.3333, Lift=1.0000)\n",
            "Rule 2: (DOORMAT UNION FLAG -> METAL SIGN TAKE IT OR LEAVE IT  : Confidence=1.0000, Lift=3.0000)\n",
            "Rule 3: (METAL SIGN TAKE IT OR LEAVE IT  -> DOORMAT UNION FLAG : Confidence=1.0000, Lift=3.0000)\n",
            "\n",
            "yes\n",
            "Items: LADIES & GENTLEMEN METAL SIGN, JAM MAKING SET WITH JARS\n",
            "Support: 0.3333 (33.33%)\n",
            "Rule 1: (None -> LADIES & GENTLEMEN METAL SIGN, JAM MAKING SET WITH JARS : Confidence=0.3333, Lift=1.0000)\n",
            "Rule 2: (JAM MAKING SET WITH JARS -> LADIES & GENTLEMEN METAL SIGN : Confidence=1.0000, Lift=2.0000)\n",
            "Rule 3: (LADIES & GENTLEMEN METAL SIGN -> JAM MAKING SET WITH JARS : Confidence=0.6667, Lift=2.0000)\n",
            "\n",
            "yes\n",
            "Items: SET 3 PAPER VINTAGE CHICK PAPER EGG, JAM MAKING SET WITH JARS\n",
            "Support: 0.3333 (33.33%)\n",
            "Rule 1: (None -> SET 3 PAPER VINTAGE CHICK PAPER EGG, JAM MAKING SET WITH JARS : Confidence=0.3333, Lift=1.0000)\n",
            "Rule 2: (JAM MAKING SET WITH JARS -> SET 3 PAPER VINTAGE CHICK PAPER EGG : Confidence=1.0000, Lift=2.0000)\n",
            "Rule 3: (SET 3 PAPER VINTAGE CHICK PAPER EGG -> JAM MAKING SET WITH JARS : Confidence=0.6667, Lift=2.0000)\n",
            "\n",
            "yes\n",
            "Items: LADIES & GENTLEMEN METAL SIGN, LAUNDRY 15C METAL SIGN\n",
            "Support: 0.3333 (33.33%)\n",
            "Rule 1: (None -> LADIES & GENTLEMEN METAL SIGN, LAUNDRY 15C METAL SIGN : Confidence=0.3333, Lift=1.0000)\n",
            "Rule 2: (LADIES & GENTLEMEN METAL SIGN -> LAUNDRY 15C METAL SIGN : Confidence=0.6667, Lift=2.0000)\n",
            "Rule 3: (LAUNDRY 15C METAL SIGN -> LADIES & GENTLEMEN METAL SIGN : Confidence=1.0000, Lift=2.0000)\n",
            "\n",
            "yes\n",
            "Items: LADIES & GENTLEMEN METAL SIGN, METAL SIGN TAKE IT OR LEAVE IT \n",
            "Support: 0.3333 (33.33%)\n",
            "Rule 1: (None -> LADIES & GENTLEMEN METAL SIGN, METAL SIGN TAKE IT OR LEAVE IT  : Confidence=0.3333, Lift=1.0000)\n",
            "Rule 2: (LADIES & GENTLEMEN METAL SIGN -> METAL SIGN TAKE IT OR LEAVE IT  : Confidence=0.6667, Lift=2.0000)\n",
            "Rule 3: (METAL SIGN TAKE IT OR LEAVE IT  -> LADIES & GENTLEMEN METAL SIGN : Confidence=1.0000, Lift=2.0000)\n",
            "\n",
            "yes\n",
            "Items: SET 3 PAPER VINTAGE CHICK PAPER EGG, LADIES & GENTLEMEN METAL SIGN\n",
            "Support: 0.3333 (33.33%)\n",
            "Rule 1: (None -> SET 3 PAPER VINTAGE CHICK PAPER EGG, LADIES & GENTLEMEN METAL SIGN : Confidence=0.3333, Lift=1.0000)\n",
            "Rule 2: (LADIES & GENTLEMEN METAL SIGN -> SET 3 PAPER VINTAGE CHICK PAPER EGG : Confidence=0.6667, Lift=1.3333)\n",
            "Rule 3: (SET 3 PAPER VINTAGE CHICK PAPER EGG -> LADIES & GENTLEMEN METAL SIGN : Confidence=0.6667, Lift=1.3333)\n",
            "\n",
            "yes\n",
            "Items: LADIES & GENTLEMEN METAL SIGN, WASHROOM METAL SIGN\n",
            "Support: 0.3333 (33.33%)\n",
            "Rule 1: (None -> LADIES & GENTLEMEN METAL SIGN, WASHROOM METAL SIGN : Confidence=0.3333, Lift=1.0000)\n",
            "Rule 2: (LADIES & GENTLEMEN METAL SIGN -> WASHROOM METAL SIGN : Confidence=0.6667, Lift=2.0000)\n",
            "Rule 3: (WASHROOM METAL SIGN -> LADIES & GENTLEMEN METAL SIGN : Confidence=1.0000, Lift=2.0000)\n",
            "\n",
            "yes\n",
            "Items: WASHROOM METAL SIGN, LAUNDRY 15C METAL SIGN\n",
            "Support: 0.3333 (33.33%)\n",
            "Rule 1: (None -> WASHROOM METAL SIGN, LAUNDRY 15C METAL SIGN : Confidence=0.3333, Lift=1.0000)\n",
            "Rule 2: (LAUNDRY 15C METAL SIGN -> WASHROOM METAL SIGN : Confidence=1.0000, Lift=3.0000)\n",
            "Rule 3: (WASHROOM METAL SIGN -> LAUNDRY 15C METAL SIGN : Confidence=1.0000, Lift=3.0000)\n",
            "\n",
            "yes\n",
            "Items: SET 3 RETROSPOT TEA,COFFEE,SUGAR, LUNCH BAG RED RETROSPOT\n",
            "Support: 0.3333 (33.33%)\n",
            "Rule 1: (None -> SET 3 RETROSPOT TEA,COFFEE,SUGAR, LUNCH BAG RED RETROSPOT : Confidence=0.3333, Lift=1.0000)\n",
            "Rule 2: (LUNCH BAG RED RETROSPOT -> SET 3 RETROSPOT TEA,COFFEE,SUGAR : Confidence=1.0000, Lift=3.0000)\n",
            "Rule 3: (SET 3 RETROSPOT TEA,COFFEE,SUGAR -> LUNCH BAG RED RETROSPOT : Confidence=1.0000, Lift=3.0000)\n",
            "\n",
            "yes\n",
            "Items: MILK PAN RED RETROSPOT, MILK PAN PINK POLKADOT\n",
            "Support: 0.3333 (33.33%)\n",
            "Rule 1: (None -> MILK PAN RED RETROSPOT, MILK PAN PINK POLKADOT : Confidence=0.3333, Lift=1.0000)\n",
            "Rule 2: (MILK PAN PINK POLKADOT -> MILK PAN RED RETROSPOT : Confidence=1.0000, Lift=3.0000)\n",
            "Rule 3: (MILK PAN RED RETROSPOT -> MILK PAN PINK POLKADOT : Confidence=1.0000, Lift=3.0000)\n",
            "\n",
            "yes\n",
            "Items: MILK PAN PINK POLKADOT, PLASTERS IN TIN SPACEBOY\n",
            "Support: 0.3333 (33.33%)\n",
            "Rule 1: (None -> MILK PAN PINK POLKADOT, PLASTERS IN TIN SPACEBOY : Confidence=0.3333, Lift=1.0000)\n",
            "Rule 2: (MILK PAN PINK POLKADOT -> PLASTERS IN TIN SPACEBOY : Confidence=1.0000, Lift=3.0000)\n",
            "Rule 3: (PLASTERS IN TIN SPACEBOY -> MILK PAN PINK POLKADOT : Confidence=1.0000, Lift=3.0000)\n",
            "\n",
            "yes\n",
            "Items: RED RETROSPOT CHILDRENS UMBRELLA, MILK PAN PINK POLKADOT\n",
            "Support: 0.3333 (33.33%)\n",
            "Rule 1: (None -> RED RETROSPOT CHILDRENS UMBRELLA, MILK PAN PINK POLKADOT : Confidence=0.3333, Lift=1.0000)\n",
            "Rule 2: (MILK PAN PINK POLKADOT -> RED RETROSPOT CHILDRENS UMBRELLA : Confidence=1.0000, Lift=3.0000)\n",
            "Rule 3: (RED RETROSPOT CHILDRENS UMBRELLA -> MILK PAN PINK POLKADOT : Confidence=1.0000, Lift=3.0000)\n",
            "\n",
            "yes\n",
            "Items: MILK PAN RED RETROSPOT, PLASTERS IN TIN SPACEBOY\n",
            "Support: 0.3333 (33.33%)\n",
            "Rule 1: (None -> MILK PAN RED RETROSPOT, PLASTERS IN TIN SPACEBOY : Confidence=0.3333, Lift=1.0000)\n",
            "Rule 2: (MILK PAN RED RETROSPOT -> PLASTERS IN TIN SPACEBOY : Confidence=1.0000, Lift=3.0000)\n",
            "Rule 3: (PLASTERS IN TIN SPACEBOY -> MILK PAN RED RETROSPOT : Confidence=1.0000, Lift=3.0000)\n",
            "\n",
            "yes\n",
            "Items: MILK PAN RED RETROSPOT, RED RETROSPOT CHILDRENS UMBRELLA\n",
            "Support: 0.3333 (33.33%)\n",
            "Rule 1: (None -> MILK PAN RED RETROSPOT, RED RETROSPOT CHILDRENS UMBRELLA : Confidence=0.3333, Lift=1.0000)\n",
            "Rule 2: (MILK PAN RED RETROSPOT -> RED RETROSPOT CHILDRENS UMBRELLA : Confidence=1.0000, Lift=3.0000)\n",
            "Rule 3: (RED RETROSPOT CHILDRENS UMBRELLA -> MILK PAN RED RETROSPOT : Confidence=1.0000, Lift=3.0000)\n",
            "\n",
            "yes\n",
            "Items: SET 3 PAPER VINTAGE CHICK PAPER EGG, PARTY BUNTING\n",
            "Support: 0.3333 (33.33%)\n",
            "Rule 1: (None -> SET 3 PAPER VINTAGE CHICK PAPER EGG, PARTY BUNTING : Confidence=0.3333, Lift=1.0000)\n",
            "Rule 2: (PARTY BUNTING -> SET 3 PAPER VINTAGE CHICK PAPER EGG : Confidence=1.0000, Lift=2.0000)\n",
            "Rule 3: (SET 3 PAPER VINTAGE CHICK PAPER EGG -> PARTY BUNTING : Confidence=0.6667, Lift=2.0000)\n",
            "\n",
            "yes\n",
            "Items: RED RETROSPOT CHILDRENS UMBRELLA, PLASTERS IN TIN SPACEBOY\n",
            "Support: 0.3333 (33.33%)\n",
            "Rule 1: (None -> RED RETROSPOT CHILDRENS UMBRELLA, PLASTERS IN TIN SPACEBOY : Confidence=0.3333, Lift=1.0000)\n",
            "Rule 2: (PLASTERS IN TIN SPACEBOY -> RED RETROSPOT CHILDRENS UMBRELLA : Confidence=1.0000, Lift=3.0000)\n",
            "Rule 3: (RED RETROSPOT CHILDRENS UMBRELLA -> PLASTERS IN TIN SPACEBOY : Confidence=1.0000, Lift=3.0000)\n",
            "\n",
            "yes\n",
            "Items: SET OF 72 PINK HEART PAPER DOILIES, SET 3 PAPER VINTAGE CHICK PAPER EGG\n",
            "Support: 0.3333 (33.33%)\n",
            "Rule 1: (None -> SET OF 72 PINK HEART PAPER DOILIES, SET 3 PAPER VINTAGE CHICK PAPER EGG : Confidence=0.3333, Lift=1.0000)\n",
            "Rule 2: (SET 3 PAPER VINTAGE CHICK PAPER EGG -> SET OF 72 PINK HEART PAPER DOILIES : Confidence=0.6667, Lift=2.0000)\n",
            "Rule 3: (SET OF 72 PINK HEART PAPER DOILIES -> SET 3 PAPER VINTAGE CHICK PAPER EGG : Confidence=1.0000, Lift=2.0000)\n",
            "\n",
            "yes\n",
            "Items: BASKET OF TOADSTOOLS, SET 3 RETROSPOT TEA,COFFEE,SUGAR, LUNCH BAG RED RETROSPOT\n",
            "Support: 0.3333 (33.33%)\n",
            "Rule 1: (None -> BASKET OF TOADSTOOLS, SET 3 RETROSPOT TEA,COFFEE,SUGAR, LUNCH BAG RED RETROSPOT : Confidence=0.3333, Lift=1.0000)\n",
            "Rule 2: (BASKET OF TOADSTOOLS -> SET 3 RETROSPOT TEA,COFFEE,SUGAR, LUNCH BAG RED RETROSPOT : Confidence=1.0000, Lift=3.0000)\n",
            "Rule 3: (LUNCH BAG RED RETROSPOT -> BASKET OF TOADSTOOLS, SET 3 RETROSPOT TEA,COFFEE,SUGAR : Confidence=1.0000, Lift=3.0000)\n",
            "Rule 4: (SET 3 RETROSPOT TEA,COFFEE,SUGAR -> BASKET OF TOADSTOOLS, LUNCH BAG RED RETROSPOT : Confidence=1.0000, Lift=3.0000)\n",
            "Rule 5: (BASKET OF TOADSTOOLS, LUNCH BAG RED RETROSPOT -> SET 3 RETROSPOT TEA,COFFEE,SUGAR : Confidence=1.0000, Lift=3.0000)\n",
            "Rule 6: (BASKET OF TOADSTOOLS, SET 3 RETROSPOT TEA,COFFEE,SUGAR -> LUNCH BAG RED RETROSPOT : Confidence=1.0000, Lift=3.0000)\n",
            "Rule 7: (SET 3 RETROSPOT TEA,COFFEE,SUGAR, LUNCH BAG RED RETROSPOT -> BASKET OF TOADSTOOLS : Confidence=1.0000, Lift=3.0000)\n",
            "\n",
            "yes\n",
            "Items: LADIES & GENTLEMEN METAL SIGN, JAM MAKING SET WITH JARS, BATH BUILDING BLOCK WORD\n",
            "Support: 0.3333 (33.33%)\n",
            "Rule 1: (None -> LADIES & GENTLEMEN METAL SIGN, JAM MAKING SET WITH JARS, BATH BUILDING BLOCK WORD : Confidence=0.3333, Lift=1.0000)\n",
            "Rule 2: (BATH BUILDING BLOCK WORD -> LADIES & GENTLEMEN METAL SIGN, JAM MAKING SET WITH JARS : Confidence=1.0000, Lift=3.0000)\n",
            "Rule 3: (JAM MAKING SET WITH JARS -> LADIES & GENTLEMEN METAL SIGN, BATH BUILDING BLOCK WORD : Confidence=1.0000, Lift=3.0000)\n",
            "Rule 4: (LADIES & GENTLEMEN METAL SIGN -> JAM MAKING SET WITH JARS, BATH BUILDING BLOCK WORD : Confidence=0.6667, Lift=2.0000)\n",
            "Rule 5: (JAM MAKING SET WITH JARS, BATH BUILDING BLOCK WORD -> LADIES & GENTLEMEN METAL SIGN : Confidence=1.0000, Lift=2.0000)\n",
            "Rule 6: (LADIES & GENTLEMEN METAL SIGN, BATH BUILDING BLOCK WORD -> JAM MAKING SET WITH JARS : Confidence=1.0000, Lift=3.0000)\n",
            "Rule 7: (LADIES & GENTLEMEN METAL SIGN, JAM MAKING SET WITH JARS -> BATH BUILDING BLOCK WORD : Confidence=1.0000, Lift=3.0000)\n",
            "\n",
            "yes\n",
            "Items: SET 3 PAPER VINTAGE CHICK PAPER EGG, JAM MAKING SET WITH JARS, BATH BUILDING BLOCK WORD\n",
            "Support: 0.3333 (33.33%)\n",
            "Rule 1: (None -> SET 3 PAPER VINTAGE CHICK PAPER EGG, JAM MAKING SET WITH JARS, BATH BUILDING BLOCK WORD : Confidence=0.3333, Lift=1.0000)\n",
            "Rule 2: (BATH BUILDING BLOCK WORD -> SET 3 PAPER VINTAGE CHICK PAPER EGG, JAM MAKING SET WITH JARS : Confidence=1.0000, Lift=3.0000)\n",
            "Rule 3: (JAM MAKING SET WITH JARS -> SET 3 PAPER VINTAGE CHICK PAPER EGG, BATH BUILDING BLOCK WORD : Confidence=1.0000, Lift=3.0000)\n",
            "Rule 4: (SET 3 PAPER VINTAGE CHICK PAPER EGG -> JAM MAKING SET WITH JARS, BATH BUILDING BLOCK WORD : Confidence=0.6667, Lift=2.0000)\n",
            "Rule 5: (JAM MAKING SET WITH JARS, BATH BUILDING BLOCK WORD -> SET 3 PAPER VINTAGE CHICK PAPER EGG : Confidence=1.0000, Lift=2.0000)\n",
            "Rule 6: (SET 3 PAPER VINTAGE CHICK PAPER EGG, BATH BUILDING BLOCK WORD -> JAM MAKING SET WITH JARS : Confidence=1.0000, Lift=3.0000)\n",
            "Rule 7: (SET 3 PAPER VINTAGE CHICK PAPER EGG, JAM MAKING SET WITH JARS -> BATH BUILDING BLOCK WORD : Confidence=1.0000, Lift=3.0000)\n",
            "\n",
            "yes\n",
            "Items: SET 3 PAPER VINTAGE CHICK PAPER EGG, LADIES & GENTLEMEN METAL SIGN, BATH BUILDING BLOCK WORD\n",
            "Support: 0.3333 (33.33%)\n",
            "Rule 1: (None -> SET 3 PAPER VINTAGE CHICK PAPER EGG, LADIES & GENTLEMEN METAL SIGN, BATH BUILDING BLOCK WORD : Confidence=0.3333, Lift=1.0000)\n",
            "Rule 2: (BATH BUILDING BLOCK WORD -> SET 3 PAPER VINTAGE CHICK PAPER EGG, LADIES & GENTLEMEN METAL SIGN : Confidence=1.0000, Lift=3.0000)\n",
            "Rule 3: (LADIES & GENTLEMEN METAL SIGN -> SET 3 PAPER VINTAGE CHICK PAPER EGG, BATH BUILDING BLOCK WORD : Confidence=0.6667, Lift=2.0000)\n",
            "Rule 4: (SET 3 PAPER VINTAGE CHICK PAPER EGG -> LADIES & GENTLEMEN METAL SIGN, BATH BUILDING BLOCK WORD : Confidence=0.6667, Lift=2.0000)\n",
            "Rule 5: (LADIES & GENTLEMEN METAL SIGN, BATH BUILDING BLOCK WORD -> SET 3 PAPER VINTAGE CHICK PAPER EGG : Confidence=1.0000, Lift=2.0000)\n",
            "Rule 6: (SET 3 PAPER VINTAGE CHICK PAPER EGG, BATH BUILDING BLOCK WORD -> LADIES & GENTLEMEN METAL SIGN : Confidence=1.0000, Lift=2.0000)\n",
            "Rule 7: (SET 3 PAPER VINTAGE CHICK PAPER EGG, LADIES & GENTLEMEN METAL SIGN -> BATH BUILDING BLOCK WORD : Confidence=1.0000, Lift=3.0000)\n",
            "\n",
            "yes\n",
            "Items: LADIES & GENTLEMEN METAL SIGN, BEWARE OF THE CAT METAL SIGN , LAUNDRY 15C METAL SIGN\n",
            "Support: 0.3333 (33.33%)\n",
            "Rule 1: (None -> LADIES & GENTLEMEN METAL SIGN, BEWARE OF THE CAT METAL SIGN , LAUNDRY 15C METAL SIGN : Confidence=0.3333, Lift=1.0000)\n",
            "Rule 2: (BEWARE OF THE CAT METAL SIGN  -> LADIES & GENTLEMEN METAL SIGN, LAUNDRY 15C METAL SIGN : Confidence=1.0000, Lift=3.0000)\n",
            "Rule 3: (LADIES & GENTLEMEN METAL SIGN -> BEWARE OF THE CAT METAL SIGN , LAUNDRY 15C METAL SIGN : Confidence=0.6667, Lift=2.0000)\n",
            "Rule 4: (LAUNDRY 15C METAL SIGN -> LADIES & GENTLEMEN METAL SIGN, BEWARE OF THE CAT METAL SIGN  : Confidence=1.0000, Lift=3.0000)\n",
            "Rule 5: (LADIES & GENTLEMEN METAL SIGN, BEWARE OF THE CAT METAL SIGN  -> LAUNDRY 15C METAL SIGN : Confidence=1.0000, Lift=3.0000)\n",
            "Rule 6: (BEWARE OF THE CAT METAL SIGN , LAUNDRY 15C METAL SIGN -> LADIES & GENTLEMEN METAL SIGN : Confidence=1.0000, Lift=2.0000)\n",
            "Rule 7: (LADIES & GENTLEMEN METAL SIGN, LAUNDRY 15C METAL SIGN -> BEWARE OF THE CAT METAL SIGN  : Confidence=1.0000, Lift=3.0000)\n",
            "\n",
            "yes\n",
            "Items: LADIES & GENTLEMEN METAL SIGN, BEWARE OF THE CAT METAL SIGN , WASHROOM METAL SIGN\n",
            "Support: 0.3333 (33.33%)\n",
            "Rule 1: (None -> LADIES & GENTLEMEN METAL SIGN, WASHROOM METAL SIGN, BEWARE OF THE CAT METAL SIGN  : Confidence=0.3333, Lift=1.0000)\n",
            "Rule 2: (BEWARE OF THE CAT METAL SIGN  -> LADIES & GENTLEMEN METAL SIGN, WASHROOM METAL SIGN : Confidence=1.0000, Lift=3.0000)\n",
            "Rule 3: (LADIES & GENTLEMEN METAL SIGN -> BEWARE OF THE CAT METAL SIGN , WASHROOM METAL SIGN : Confidence=0.6667, Lift=2.0000)\n",
            "Rule 4: (WASHROOM METAL SIGN -> LADIES & GENTLEMEN METAL SIGN, BEWARE OF THE CAT METAL SIGN  : Confidence=1.0000, Lift=3.0000)\n",
            "Rule 5: (LADIES & GENTLEMEN METAL SIGN, BEWARE OF THE CAT METAL SIGN  -> WASHROOM METAL SIGN : Confidence=1.0000, Lift=3.0000)\n",
            "Rule 6: (BEWARE OF THE CAT METAL SIGN , WASHROOM METAL SIGN -> LADIES & GENTLEMEN METAL SIGN : Confidence=1.0000, Lift=2.0000)\n",
            "Rule 7: (LADIES & GENTLEMEN METAL SIGN, WASHROOM METAL SIGN -> BEWARE OF THE CAT METAL SIGN  : Confidence=1.0000, Lift=3.0000)\n",
            "\n",
            "yes\n",
            "Items: BEWARE OF THE CAT METAL SIGN , WASHROOM METAL SIGN, LAUNDRY 15C METAL SIGN\n",
            "Support: 0.3333 (33.33%)\n",
            "Rule 1: (None -> BEWARE OF THE CAT METAL SIGN , WASHROOM METAL SIGN, LAUNDRY 15C METAL SIGN : Confidence=0.3333, Lift=1.0000)\n",
            "Rule 2: (BEWARE OF THE CAT METAL SIGN  -> WASHROOM METAL SIGN, LAUNDRY 15C METAL SIGN : Confidence=1.0000, Lift=3.0000)\n",
            "Rule 3: (LAUNDRY 15C METAL SIGN -> BEWARE OF THE CAT METAL SIGN , WASHROOM METAL SIGN : Confidence=1.0000, Lift=3.0000)\n",
            "Rule 4: (WASHROOM METAL SIGN -> BEWARE OF THE CAT METAL SIGN , LAUNDRY 15C METAL SIGN : Confidence=1.0000, Lift=3.0000)\n",
            "Rule 5: (BEWARE OF THE CAT METAL SIGN , LAUNDRY 15C METAL SIGN -> WASHROOM METAL SIGN : Confidence=1.0000, Lift=3.0000)\n",
            "Rule 6: (BEWARE OF THE CAT METAL SIGN , WASHROOM METAL SIGN -> LAUNDRY 15C METAL SIGN : Confidence=1.0000, Lift=3.0000)\n",
            "Rule 7: (WASHROOM METAL SIGN, LAUNDRY 15C METAL SIGN -> BEWARE OF THE CAT METAL SIGN  : Confidence=1.0000, Lift=3.0000)\n",
            "\n",
            "yes\n",
            "Items: LADIES & GENTLEMEN METAL SIGN, METAL SIGN TAKE IT OR LEAVE IT , DOORMAT UNION FLAG\n",
            "Support: 0.3333 (33.33%)\n",
            "Rule 1: (None -> LADIES & GENTLEMEN METAL SIGN, METAL SIGN TAKE IT OR LEAVE IT , DOORMAT UNION FLAG : Confidence=0.3333, Lift=1.0000)\n",
            "Rule 2: (DOORMAT UNION FLAG -> LADIES & GENTLEMEN METAL SIGN, METAL SIGN TAKE IT OR LEAVE IT  : Confidence=1.0000, Lift=3.0000)\n",
            "Rule 3: (LADIES & GENTLEMEN METAL SIGN -> METAL SIGN TAKE IT OR LEAVE IT , DOORMAT UNION FLAG : Confidence=0.6667, Lift=2.0000)\n",
            "Rule 4: (METAL SIGN TAKE IT OR LEAVE IT  -> LADIES & GENTLEMEN METAL SIGN, DOORMAT UNION FLAG : Confidence=1.0000, Lift=3.0000)\n",
            "Rule 5: (LADIES & GENTLEMEN METAL SIGN, DOORMAT UNION FLAG -> METAL SIGN TAKE IT OR LEAVE IT  : Confidence=1.0000, Lift=3.0000)\n",
            "Rule 6: (METAL SIGN TAKE IT OR LEAVE IT , DOORMAT UNION FLAG -> LADIES & GENTLEMEN METAL SIGN : Confidence=1.0000, Lift=2.0000)\n",
            "Rule 7: (LADIES & GENTLEMEN METAL SIGN, METAL SIGN TAKE IT OR LEAVE IT  -> DOORMAT UNION FLAG : Confidence=1.0000, Lift=3.0000)\n",
            "\n",
            "yes\n",
            "Items: SET 3 PAPER VINTAGE CHICK PAPER EGG, LADIES & GENTLEMEN METAL SIGN, JAM MAKING SET WITH JARS\n",
            "Support: 0.3333 (33.33%)\n",
            "Rule 1: (None -> SET 3 PAPER VINTAGE CHICK PAPER EGG, LADIES & GENTLEMEN METAL SIGN, JAM MAKING SET WITH JARS : Confidence=0.3333, Lift=1.0000)\n",
            "Rule 2: (JAM MAKING SET WITH JARS -> SET 3 PAPER VINTAGE CHICK PAPER EGG, LADIES & GENTLEMEN METAL SIGN : Confidence=1.0000, Lift=3.0000)\n",
            "Rule 3: (LADIES & GENTLEMEN METAL SIGN -> SET 3 PAPER VINTAGE CHICK PAPER EGG, JAM MAKING SET WITH JARS : Confidence=0.6667, Lift=2.0000)\n",
            "Rule 4: (SET 3 PAPER VINTAGE CHICK PAPER EGG -> LADIES & GENTLEMEN METAL SIGN, JAM MAKING SET WITH JARS : Confidence=0.6667, Lift=2.0000)\n",
            "Rule 5: (LADIES & GENTLEMEN METAL SIGN, JAM MAKING SET WITH JARS -> SET 3 PAPER VINTAGE CHICK PAPER EGG : Confidence=1.0000, Lift=2.0000)\n",
            "Rule 6: (SET 3 PAPER VINTAGE CHICK PAPER EGG, JAM MAKING SET WITH JARS -> LADIES & GENTLEMEN METAL SIGN : Confidence=1.0000, Lift=2.0000)\n",
            "Rule 7: (SET 3 PAPER VINTAGE CHICK PAPER EGG, LADIES & GENTLEMEN METAL SIGN -> JAM MAKING SET WITH JARS : Confidence=1.0000, Lift=3.0000)\n",
            "\n",
            "yes\n",
            "Items: LADIES & GENTLEMEN METAL SIGN, WASHROOM METAL SIGN, LAUNDRY 15C METAL SIGN\n",
            "Support: 0.3333 (33.33%)\n",
            "Rule 1: (None -> LADIES & GENTLEMEN METAL SIGN, WASHROOM METAL SIGN, LAUNDRY 15C METAL SIGN : Confidence=0.3333, Lift=1.0000)\n",
            "Rule 2: (LADIES & GENTLEMEN METAL SIGN -> WASHROOM METAL SIGN, LAUNDRY 15C METAL SIGN : Confidence=0.6667, Lift=2.0000)\n",
            "Rule 3: (LAUNDRY 15C METAL SIGN -> LADIES & GENTLEMEN METAL SIGN, WASHROOM METAL SIGN : Confidence=1.0000, Lift=3.0000)\n",
            "Rule 4: (WASHROOM METAL SIGN -> LADIES & GENTLEMEN METAL SIGN, LAUNDRY 15C METAL SIGN : Confidence=1.0000, Lift=3.0000)\n",
            "Rule 5: (LADIES & GENTLEMEN METAL SIGN, LAUNDRY 15C METAL SIGN -> WASHROOM METAL SIGN : Confidence=1.0000, Lift=3.0000)\n",
            "Rule 6: (LADIES & GENTLEMEN METAL SIGN, WASHROOM METAL SIGN -> LAUNDRY 15C METAL SIGN : Confidence=1.0000, Lift=3.0000)\n",
            "Rule 7: (WASHROOM METAL SIGN, LAUNDRY 15C METAL SIGN -> LADIES & GENTLEMEN METAL SIGN : Confidence=1.0000, Lift=2.0000)\n",
            "\n",
            "yes\n",
            "Items: MILK PAN RED RETROSPOT, MILK PAN PINK POLKADOT, PLASTERS IN TIN SPACEBOY\n",
            "Support: 0.3333 (33.33%)\n",
            "Rule 1: (None -> MILK PAN RED RETROSPOT, MILK PAN PINK POLKADOT, PLASTERS IN TIN SPACEBOY : Confidence=0.3333, Lift=1.0000)\n",
            "Rule 2: (MILK PAN PINK POLKADOT -> MILK PAN RED RETROSPOT, PLASTERS IN TIN SPACEBOY : Confidence=1.0000, Lift=3.0000)\n",
            "Rule 3: (MILK PAN RED RETROSPOT -> MILK PAN PINK POLKADOT, PLASTERS IN TIN SPACEBOY : Confidence=1.0000, Lift=3.0000)\n",
            "Rule 4: (PLASTERS IN TIN SPACEBOY -> MILK PAN RED RETROSPOT, MILK PAN PINK POLKADOT : Confidence=1.0000, Lift=3.0000)\n",
            "Rule 5: (MILK PAN RED RETROSPOT, MILK PAN PINK POLKADOT -> PLASTERS IN TIN SPACEBOY : Confidence=1.0000, Lift=3.0000)\n",
            "Rule 6: (MILK PAN PINK POLKADOT, PLASTERS IN TIN SPACEBOY -> MILK PAN RED RETROSPOT : Confidence=1.0000, Lift=3.0000)\n",
            "Rule 7: (MILK PAN RED RETROSPOT, PLASTERS IN TIN SPACEBOY -> MILK PAN PINK POLKADOT : Confidence=1.0000, Lift=3.0000)\n",
            "\n",
            "yes\n",
            "Items: MILK PAN RED RETROSPOT, RED RETROSPOT CHILDRENS UMBRELLA, MILK PAN PINK POLKADOT\n",
            "Support: 0.3333 (33.33%)\n",
            "Rule 1: (None -> MILK PAN RED RETROSPOT, RED RETROSPOT CHILDRENS UMBRELLA, MILK PAN PINK POLKADOT : Confidence=0.3333, Lift=1.0000)\n",
            "Rule 2: (MILK PAN PINK POLKADOT -> MILK PAN RED RETROSPOT, RED RETROSPOT CHILDRENS UMBRELLA : Confidence=1.0000, Lift=3.0000)\n",
            "Rule 3: (MILK PAN RED RETROSPOT -> RED RETROSPOT CHILDRENS UMBRELLA, MILK PAN PINK POLKADOT : Confidence=1.0000, Lift=3.0000)\n",
            "Rule 4: (RED RETROSPOT CHILDRENS UMBRELLA -> MILK PAN RED RETROSPOT, MILK PAN PINK POLKADOT : Confidence=1.0000, Lift=3.0000)\n",
            "Rule 5: (MILK PAN RED RETROSPOT, MILK PAN PINK POLKADOT -> RED RETROSPOT CHILDRENS UMBRELLA : Confidence=1.0000, Lift=3.0000)\n",
            "Rule 6: (RED RETROSPOT CHILDRENS UMBRELLA, MILK PAN PINK POLKADOT -> MILK PAN RED RETROSPOT : Confidence=1.0000, Lift=3.0000)\n",
            "Rule 7: (MILK PAN RED RETROSPOT, RED RETROSPOT CHILDRENS UMBRELLA -> MILK PAN PINK POLKADOT : Confidence=1.0000, Lift=3.0000)\n",
            "\n",
            "yes\n",
            "Items: RED RETROSPOT CHILDRENS UMBRELLA, MILK PAN PINK POLKADOT, PLASTERS IN TIN SPACEBOY\n",
            "Support: 0.3333 (33.33%)\n",
            "Rule 1: (None -> RED RETROSPOT CHILDRENS UMBRELLA, MILK PAN PINK POLKADOT, PLASTERS IN TIN SPACEBOY : Confidence=0.3333, Lift=1.0000)\n",
            "Rule 2: (MILK PAN PINK POLKADOT -> RED RETROSPOT CHILDRENS UMBRELLA, PLASTERS IN TIN SPACEBOY : Confidence=1.0000, Lift=3.0000)\n",
            "Rule 3: (PLASTERS IN TIN SPACEBOY -> RED RETROSPOT CHILDRENS UMBRELLA, MILK PAN PINK POLKADOT : Confidence=1.0000, Lift=3.0000)\n",
            "Rule 4: (RED RETROSPOT CHILDRENS UMBRELLA -> MILK PAN PINK POLKADOT, PLASTERS IN TIN SPACEBOY : Confidence=1.0000, Lift=3.0000)\n",
            "Rule 5: (MILK PAN PINK POLKADOT, PLASTERS IN TIN SPACEBOY -> RED RETROSPOT CHILDRENS UMBRELLA : Confidence=1.0000, Lift=3.0000)\n",
            "Rule 6: (RED RETROSPOT CHILDRENS UMBRELLA, MILK PAN PINK POLKADOT -> PLASTERS IN TIN SPACEBOY : Confidence=1.0000, Lift=3.0000)\n",
            "Rule 7: (RED RETROSPOT CHILDRENS UMBRELLA, PLASTERS IN TIN SPACEBOY -> MILK PAN PINK POLKADOT : Confidence=1.0000, Lift=3.0000)\n",
            "\n",
            "yes\n",
            "Items: MILK PAN RED RETROSPOT, RED RETROSPOT CHILDRENS UMBRELLA, PLASTERS IN TIN SPACEBOY\n",
            "Support: 0.3333 (33.33%)\n",
            "Rule 1: (None -> MILK PAN RED RETROSPOT, RED RETROSPOT CHILDRENS UMBRELLA, PLASTERS IN TIN SPACEBOY : Confidence=0.3333, Lift=1.0000)\n",
            "Rule 2: (MILK PAN RED RETROSPOT -> RED RETROSPOT CHILDRENS UMBRELLA, PLASTERS IN TIN SPACEBOY : Confidence=1.0000, Lift=3.0000)\n",
            "Rule 3: (PLASTERS IN TIN SPACEBOY -> MILK PAN RED RETROSPOT, RED RETROSPOT CHILDRENS UMBRELLA : Confidence=1.0000, Lift=3.0000)\n",
            "Rule 4: (RED RETROSPOT CHILDRENS UMBRELLA -> MILK PAN RED RETROSPOT, PLASTERS IN TIN SPACEBOY : Confidence=1.0000, Lift=3.0000)\n",
            "Rule 5: (MILK PAN RED RETROSPOT, PLASTERS IN TIN SPACEBOY -> RED RETROSPOT CHILDRENS UMBRELLA : Confidence=1.0000, Lift=3.0000)\n",
            "Rule 6: (MILK PAN RED RETROSPOT, RED RETROSPOT CHILDRENS UMBRELLA -> PLASTERS IN TIN SPACEBOY : Confidence=1.0000, Lift=3.0000)\n",
            "Rule 7: (RED RETROSPOT CHILDRENS UMBRELLA, PLASTERS IN TIN SPACEBOY -> MILK PAN RED RETROSPOT : Confidence=1.0000, Lift=3.0000)\n",
            "\n",
            "yes\n",
            "Items: SET 3 PAPER VINTAGE CHICK PAPER EGG, LADIES & GENTLEMEN METAL SIGN, JAM MAKING SET WITH JARS, BATH BUILDING BLOCK WORD\n",
            "Support: 0.3333 (33.33%)\n",
            "Rule 1: (None -> SET 3 PAPER VINTAGE CHICK PAPER EGG, LADIES & GENTLEMEN METAL SIGN, JAM MAKING SET WITH JARS, BATH BUILDING BLOCK WORD : Confidence=0.3333, Lift=1.0000)\n",
            "Rule 2: (BATH BUILDING BLOCK WORD -> SET 3 PAPER VINTAGE CHICK PAPER EGG, LADIES & GENTLEMEN METAL SIGN, JAM MAKING SET WITH JARS : Confidence=1.0000, Lift=3.0000)\n",
            "Rule 3: (JAM MAKING SET WITH JARS -> SET 3 PAPER VINTAGE CHICK PAPER EGG, LADIES & GENTLEMEN METAL SIGN, BATH BUILDING BLOCK WORD : Confidence=1.0000, Lift=3.0000)\n",
            "Rule 4: (LADIES & GENTLEMEN METAL SIGN -> SET 3 PAPER VINTAGE CHICK PAPER EGG, JAM MAKING SET WITH JARS, BATH BUILDING BLOCK WORD : Confidence=0.6667, Lift=2.0000)\n",
            "Rule 5: (SET 3 PAPER VINTAGE CHICK PAPER EGG -> LADIES & GENTLEMEN METAL SIGN, JAM MAKING SET WITH JARS, BATH BUILDING BLOCK WORD : Confidence=0.6667, Lift=2.0000)\n",
            "Rule 6: (JAM MAKING SET WITH JARS, BATH BUILDING BLOCK WORD -> SET 3 PAPER VINTAGE CHICK PAPER EGG, LADIES & GENTLEMEN METAL SIGN : Confidence=1.0000, Lift=3.0000)\n",
            "Rule 7: (LADIES & GENTLEMEN METAL SIGN, BATH BUILDING BLOCK WORD -> SET 3 PAPER VINTAGE CHICK PAPER EGG, JAM MAKING SET WITH JARS : Confidence=1.0000, Lift=3.0000)\n",
            "Rule 8: (SET 3 PAPER VINTAGE CHICK PAPER EGG, BATH BUILDING BLOCK WORD -> LADIES & GENTLEMEN METAL SIGN, JAM MAKING SET WITH JARS : Confidence=1.0000, Lift=3.0000)\n",
            "Rule 9: (LADIES & GENTLEMEN METAL SIGN, JAM MAKING SET WITH JARS -> SET 3 PAPER VINTAGE CHICK PAPER EGG, BATH BUILDING BLOCK WORD : Confidence=1.0000, Lift=3.0000)\n",
            "Rule 10: (SET 3 PAPER VINTAGE CHICK PAPER EGG, JAM MAKING SET WITH JARS -> LADIES & GENTLEMEN METAL SIGN, BATH BUILDING BLOCK WORD : Confidence=1.0000, Lift=3.0000)\n",
            "Rule 11: (SET 3 PAPER VINTAGE CHICK PAPER EGG, LADIES & GENTLEMEN METAL SIGN -> JAM MAKING SET WITH JARS, BATH BUILDING BLOCK WORD : Confidence=1.0000, Lift=3.0000)\n",
            "Rule 12: (LADIES & GENTLEMEN METAL SIGN, JAM MAKING SET WITH JARS, BATH BUILDING BLOCK WORD -> SET 3 PAPER VINTAGE CHICK PAPER EGG : Confidence=1.0000, Lift=2.0000)\n",
            "Rule 13: (SET 3 PAPER VINTAGE CHICK PAPER EGG, JAM MAKING SET WITH JARS, BATH BUILDING BLOCK WORD -> LADIES & GENTLEMEN METAL SIGN : Confidence=1.0000, Lift=2.0000)\n",
            "Rule 14: (SET 3 PAPER VINTAGE CHICK PAPER EGG, LADIES & GENTLEMEN METAL SIGN, BATH BUILDING BLOCK WORD -> JAM MAKING SET WITH JARS : Confidence=1.0000, Lift=3.0000)\n",
            "Rule 15: (SET 3 PAPER VINTAGE CHICK PAPER EGG, LADIES & GENTLEMEN METAL SIGN, JAM MAKING SET WITH JARS -> BATH BUILDING BLOCK WORD : Confidence=1.0000, Lift=3.0000)\n",
            "\n",
            "yes\n",
            "Items: LADIES & GENTLEMEN METAL SIGN, BEWARE OF THE CAT METAL SIGN , WASHROOM METAL SIGN, LAUNDRY 15C METAL SIGN\n",
            "Support: 0.3333 (33.33%)\n",
            "Rule 1: (None -> LADIES & GENTLEMEN METAL SIGN, BEWARE OF THE CAT METAL SIGN , WASHROOM METAL SIGN, LAUNDRY 15C METAL SIGN : Confidence=0.3333, Lift=1.0000)\n",
            "Rule 2: (BEWARE OF THE CAT METAL SIGN  -> LADIES & GENTLEMEN METAL SIGN, WASHROOM METAL SIGN, LAUNDRY 15C METAL SIGN : Confidence=1.0000, Lift=3.0000)\n",
            "Rule 3: (LADIES & GENTLEMEN METAL SIGN -> BEWARE OF THE CAT METAL SIGN , WASHROOM METAL SIGN, LAUNDRY 15C METAL SIGN : Confidence=0.6667, Lift=2.0000)\n",
            "Rule 4: (LAUNDRY 15C METAL SIGN -> LADIES & GENTLEMEN METAL SIGN, WASHROOM METAL SIGN, BEWARE OF THE CAT METAL SIGN  : Confidence=1.0000, Lift=3.0000)\n",
            "Rule 5: (WASHROOM METAL SIGN -> LADIES & GENTLEMEN METAL SIGN, BEWARE OF THE CAT METAL SIGN , LAUNDRY 15C METAL SIGN : Confidence=1.0000, Lift=3.0000)\n",
            "Rule 6: (LADIES & GENTLEMEN METAL SIGN, BEWARE OF THE CAT METAL SIGN  -> WASHROOM METAL SIGN, LAUNDRY 15C METAL SIGN : Confidence=1.0000, Lift=3.0000)\n",
            "Rule 7: (BEWARE OF THE CAT METAL SIGN , LAUNDRY 15C METAL SIGN -> LADIES & GENTLEMEN METAL SIGN, WASHROOM METAL SIGN : Confidence=1.0000, Lift=3.0000)\n",
            "Rule 8: (BEWARE OF THE CAT METAL SIGN , WASHROOM METAL SIGN -> LADIES & GENTLEMEN METAL SIGN, LAUNDRY 15C METAL SIGN : Confidence=1.0000, Lift=3.0000)\n",
            "Rule 9: (LADIES & GENTLEMEN METAL SIGN, LAUNDRY 15C METAL SIGN -> BEWARE OF THE CAT METAL SIGN , WASHROOM METAL SIGN : Confidence=1.0000, Lift=3.0000)\n",
            "Rule 10: (LADIES & GENTLEMEN METAL SIGN, WASHROOM METAL SIGN -> BEWARE OF THE CAT METAL SIGN , LAUNDRY 15C METAL SIGN : Confidence=1.0000, Lift=3.0000)\n",
            "Rule 11: (WASHROOM METAL SIGN, LAUNDRY 15C METAL SIGN -> LADIES & GENTLEMEN METAL SIGN, BEWARE OF THE CAT METAL SIGN  : Confidence=1.0000, Lift=3.0000)\n",
            "Rule 12: (LADIES & GENTLEMEN METAL SIGN, BEWARE OF THE CAT METAL SIGN , LAUNDRY 15C METAL SIGN -> WASHROOM METAL SIGN : Confidence=1.0000, Lift=3.0000)\n",
            "Rule 13: (LADIES & GENTLEMEN METAL SIGN, BEWARE OF THE CAT METAL SIGN , WASHROOM METAL SIGN -> LAUNDRY 15C METAL SIGN : Confidence=1.0000, Lift=3.0000)\n",
            "Rule 14: (BEWARE OF THE CAT METAL SIGN , WASHROOM METAL SIGN, LAUNDRY 15C METAL SIGN -> LADIES & GENTLEMEN METAL SIGN : Confidence=1.0000, Lift=2.0000)\n",
            "Rule 15: (LADIES & GENTLEMEN METAL SIGN, WASHROOM METAL SIGN, LAUNDRY 15C METAL SIGN -> BEWARE OF THE CAT METAL SIGN  : Confidence=1.0000, Lift=3.0000)\n",
            "\n",
            "yes\n",
            "Items: MILK PAN RED RETROSPOT, RED RETROSPOT CHILDRENS UMBRELLA, MILK PAN PINK POLKADOT, PLASTERS IN TIN SPACEBOY\n",
            "Support: 0.3333 (33.33%)\n",
            "Rule 1: (None -> MILK PAN RED RETROSPOT, RED RETROSPOT CHILDRENS UMBRELLA, MILK PAN PINK POLKADOT, PLASTERS IN TIN SPACEBOY : Confidence=0.3333, Lift=1.0000)\n",
            "Rule 2: (MILK PAN PINK POLKADOT -> MILK PAN RED RETROSPOT, RED RETROSPOT CHILDRENS UMBRELLA, PLASTERS IN TIN SPACEBOY : Confidence=1.0000, Lift=3.0000)\n",
            "Rule 3: (MILK PAN RED RETROSPOT -> RED RETROSPOT CHILDRENS UMBRELLA, MILK PAN PINK POLKADOT, PLASTERS IN TIN SPACEBOY : Confidence=1.0000, Lift=3.0000)\n",
            "Rule 4: (PLASTERS IN TIN SPACEBOY -> MILK PAN RED RETROSPOT, RED RETROSPOT CHILDRENS UMBRELLA, MILK PAN PINK POLKADOT : Confidence=1.0000, Lift=3.0000)\n",
            "Rule 5: (RED RETROSPOT CHILDRENS UMBRELLA -> MILK PAN RED RETROSPOT, MILK PAN PINK POLKADOT, PLASTERS IN TIN SPACEBOY : Confidence=1.0000, Lift=3.0000)\n",
            "Rule 6: (MILK PAN RED RETROSPOT, MILK PAN PINK POLKADOT -> RED RETROSPOT CHILDRENS UMBRELLA, PLASTERS IN TIN SPACEBOY : Confidence=1.0000, Lift=3.0000)\n",
            "Rule 7: (MILK PAN PINK POLKADOT, PLASTERS IN TIN SPACEBOY -> MILK PAN RED RETROSPOT, RED RETROSPOT CHILDRENS UMBRELLA : Confidence=1.0000, Lift=3.0000)\n",
            "Rule 8: (RED RETROSPOT CHILDRENS UMBRELLA, MILK PAN PINK POLKADOT -> MILK PAN RED RETROSPOT, PLASTERS IN TIN SPACEBOY : Confidence=1.0000, Lift=3.0000)\n",
            "Rule 9: (MILK PAN RED RETROSPOT, PLASTERS IN TIN SPACEBOY -> RED RETROSPOT CHILDRENS UMBRELLA, MILK PAN PINK POLKADOT : Confidence=1.0000, Lift=3.0000)\n",
            "Rule 10: (MILK PAN RED RETROSPOT, RED RETROSPOT CHILDRENS UMBRELLA -> MILK PAN PINK POLKADOT, PLASTERS IN TIN SPACEBOY : Confidence=1.0000, Lift=3.0000)\n",
            "Rule 11: (RED RETROSPOT CHILDRENS UMBRELLA, PLASTERS IN TIN SPACEBOY -> MILK PAN RED RETROSPOT, MILK PAN PINK POLKADOT : Confidence=1.0000, Lift=3.0000)\n",
            "Rule 12: (MILK PAN RED RETROSPOT, MILK PAN PINK POLKADOT, PLASTERS IN TIN SPACEBOY -> RED RETROSPOT CHILDRENS UMBRELLA : Confidence=1.0000, Lift=3.0000)\n",
            "Rule 13: (MILK PAN RED RETROSPOT, RED RETROSPOT CHILDRENS UMBRELLA, MILK PAN PINK POLKADOT -> PLASTERS IN TIN SPACEBOY : Confidence=1.0000, Lift=3.0000)\n",
            "Rule 14: (RED RETROSPOT CHILDRENS UMBRELLA, MILK PAN PINK POLKADOT, PLASTERS IN TIN SPACEBOY -> MILK PAN RED RETROSPOT : Confidence=1.0000, Lift=3.0000)\n",
            "Rule 15: (MILK PAN RED RETROSPOT, RED RETROSPOT CHILDRENS UMBRELLA, PLASTERS IN TIN SPACEBOY -> MILK PAN PINK POLKADOT : Confidence=1.0000, Lift=3.0000)\n",
            "\n"
          ]
        }
      ]
    },
    {
      "cell_type": "markdown",
      "source": [
        "## ข้อ 4. ช่วงเวลา Chirtmas & New Year ในทวีป Europe (1 Dec -31 Dec)"
      ],
      "metadata": {
        "id": "60gCIWUBsA0n"
      }
    },
    {
      "cell_type": "code",
      "source": [
        "# เลือกช่วงเวลา Chirtmas & New Year ในทวีป Europe (1 Dec -31 Dec)\n",
        "filtered_df4 = df[\n",
        "     (df['InvoiceDate'].dt.month == 12)  &\n",
        "    (df['Country'].isin(europe_countries))\n",
        "]\n",
        "\n",
        "\n",
        "# โชว์ datafram เพื่อcheck\n",
        "print(filtered_df4)"
      ],
      "metadata": {
        "colab": {
          "base_uri": "https://localhost:8080/"
        },
        "id": "XSLq_H-CsTJm",
        "outputId": "b6b24d3b-1ef7-470c-839c-bd67325e581c"
      },
      "execution_count": 340,
      "outputs": [
        {
          "output_type": "stream",
          "name": "stdout",
          "text": [
            "       InvoiceNo StockCode                          Description  Quantity  \\\n",
            "0         536365    85123A   WHITE HANGING HEART T-LIGHT HOLDER         6   \n",
            "1         536365     71053                  WHITE METAL LANTERN         6   \n",
            "2         536365    84406B       CREAM CUPID HEARTS COAT HANGER         8   \n",
            "3         536365    84029G  KNITTED UNION FLAG HOT WATER BOTTLE         6   \n",
            "4         536365    84029E       RED WOOLLY HOTTIE WHITE HEART.         6   \n",
            "...          ...       ...                                  ...       ...   \n",
            "541904    581587     22613          PACK OF 20 SPACEBOY NAPKINS        12   \n",
            "541905    581587     22899         CHILDREN'S APRON DOLLY GIRL          6   \n",
            "541906    581587     23254        CHILDRENS CUTLERY DOLLY GIRL          4   \n",
            "541907    581587     23255      CHILDRENS CUTLERY CIRCUS PARADE         4   \n",
            "541908    581587     22138        BAKING SET 9 PIECE RETROSPOT          3   \n",
            "\n",
            "               InvoiceDate  UnitPrice  CustomerID         Country  \n",
            "0      2010-12-01 08:26:00       2.55     17850.0  United Kingdom  \n",
            "1      2010-12-01 08:26:00       3.39     17850.0  United Kingdom  \n",
            "2      2010-12-01 08:26:00       2.75     17850.0  United Kingdom  \n",
            "3      2010-12-01 08:26:00       3.39     17850.0  United Kingdom  \n",
            "4      2010-12-01 08:26:00       3.39     17850.0  United Kingdom  \n",
            "...                    ...        ...         ...             ...  \n",
            "541904 2011-12-09 12:50:00       0.85     12680.0          France  \n",
            "541905 2011-12-09 12:50:00       2.10     12680.0          France  \n",
            "541906 2011-12-09 12:50:00       4.15     12680.0          France  \n",
            "541907 2011-12-09 12:50:00       4.15     12680.0          France  \n",
            "541908 2011-12-09 12:50:00       4.95     12680.0          France  \n",
            "\n",
            "[67852 rows x 8 columns]\n"
          ]
        }
      ]
    },
    {
      "cell_type": "code",
      "source": [
        "transactions4 = filtered_df4.groupby('InvoiceNo')['Description'].apply(list).reset_index() #ทำการ group และทำให้ข้อมูลใน Description เป็นlist\n",
        "transactions_apply4 = transactions4['Description'].apply(lambda x: [str(item) for item in x]) #ใช้ฟังก์ชัน lambda เพื่อแปลงสินค้าทุกชิ้นใน list ของ 'transactions' เป็นข้อความ (string)"
      ],
      "metadata": {
        "id": "IE_5_nyts-C6"
      },
      "execution_count": 295,
      "outputs": []
    },
    {
      "cell_type": "code",
      "source": [
        "frequentItemset4 = list(apriori(transactions_apply4, min_support=0.035))\n",
        "\n",
        "for record in frequentItemset4:\n",
        "    if len(record.items) > 1:\n",
        "        print('yes')\n",
        "        print(f\"Items: {', '.join(record.items)}\")\n",
        "        print(f\"Support: {record.support:.4f} ({record.support*100:.2f}%)\")\n",
        "\n",
        "        for i, stat in enumerate(record.ordered_statistics, 1):\n",
        "            items_base = 'None' if not stat.items_base else ', '.join(stat.items_base)\n",
        "            items_add = ', '.join(stat.items_add)\n",
        "            confidence = stat.confidence\n",
        "            lift = stat.lift\n",
        "\n",
        "            print(f\"Rule {i}: ({items_base} -> {items_add} : Confidence={confidence:.4f}, Lift={lift:.4f})\")\n",
        "        print()\n"
      ],
      "metadata": {
        "colab": {
          "base_uri": "https://localhost:8080/"
        },
        "id": "m4i6ZYeqtB10",
        "outputId": "5ef7206e-14c7-4e67-aaf8-4cc83fd51775"
      },
      "execution_count": 296,
      "outputs": [
        {
          "output_type": "stream",
          "name": "stdout",
          "text": [
            "yes\n",
            "Items: ALARM CLOCK BAKELIKE RED , ALARM CLOCK BAKELIKE GREEN\n",
            "Support: 0.0367 (3.67%)\n",
            "Rule 1: (None -> ALARM CLOCK BAKELIKE RED , ALARM CLOCK BAKELIKE GREEN : Confidence=0.0367, Lift=1.0000)\n",
            "Rule 2: (ALARM CLOCK BAKELIKE GREEN -> ALARM CLOCK BAKELIKE RED  : Confidence=0.7070, Lift=14.4602)\n",
            "Rule 3: (ALARM CLOCK BAKELIKE RED  -> ALARM CLOCK BAKELIKE GREEN : Confidence=0.7500, Lift=14.4602)\n",
            "\n",
            "yes\n",
            "Items: HOT WATER BOTTLE I AM SO POORLY, CHOCOLATE HOT WATER BOTTLE\n",
            "Support: 0.0367 (3.67%)\n",
            "Rule 1: (None -> HOT WATER BOTTLE I AM SO POORLY, CHOCOLATE HOT WATER BOTTLE : Confidence=0.0367, Lift=1.0000)\n",
            "Rule 2: (CHOCOLATE HOT WATER BOTTLE -> HOT WATER BOTTLE I AM SO POORLY : Confidence=0.5163, Lift=9.7067)\n",
            "Rule 3: (HOT WATER BOTTLE I AM SO POORLY -> CHOCOLATE HOT WATER BOTTLE : Confidence=0.6894, Lift=9.7067)\n",
            "\n",
            "yes\n",
            "Items: PAPER CHAIN KIT 50'S CHRISTMAS , PAPER CHAIN KIT VINTAGE CHRISTMAS\n",
            "Support: 0.0479 (4.79%)\n",
            "Rule 1: (None -> PAPER CHAIN KIT 50'S CHRISTMAS , PAPER CHAIN KIT VINTAGE CHRISTMAS : Confidence=0.0479, Lift=1.0000)\n",
            "Rule 2: (PAPER CHAIN KIT 50'S CHRISTMAS  -> PAPER CHAIN KIT VINTAGE CHRISTMAS : Confidence=0.5160, Lift=7.1650)\n",
            "Rule 3: (PAPER CHAIN KIT VINTAGE CHRISTMAS -> PAPER CHAIN KIT 50'S CHRISTMAS  : Confidence=0.6651, Lift=7.1650)\n",
            "\n"
          ]
        }
      ]
    },
    {
      "cell_type": "markdown",
      "source": [
        "## ข้อ 5. วันวาเลนไทน์"
      ],
      "metadata": {
        "id": "8weW-PxdtdCq"
      }
    },
    {
      "cell_type": "code",
      "source": [
        "# เลือกเฉพาะวันวาเลนไทน์\n",
        "filtered_df5 = df[(df['InvoiceDate'].dt.month == 2) & (df['InvoiceDate'].dt.day == 14) ]\n",
        "\n",
        "# โชว์ datafram เพื่อcheck\n",
        "print(filtered_df5)"
      ],
      "metadata": {
        "colab": {
          "base_uri": "https://localhost:8080/"
        },
        "id": "VSFbFFfitpKu",
        "outputId": "01eb5d3e-7394-429e-ac0d-2a35231f02b3"
      },
      "execution_count": 297,
      "outputs": [
        {
          "output_type": "stream",
          "name": "stdout",
          "text": [
            "      InvoiceNo StockCode                         Description  Quantity  \\\n",
            "88847    543821     22926      IVORY GIANT GARDEN THERMOMETER         2   \n",
            "88848    543821     22928     YELLOW GIANT GARDEN THERMOMETER         2   \n",
            "88849    543821     22925       BLUE GIANT GARDEN THERMOMETER         2   \n",
            "88850    543821     85175               CACTI T-LIGHT CANDLES        16   \n",
            "88851    543821     22456     NATURAL SLATE CHALKBOARD LARGE          3   \n",
            "...         ...       ...                                 ...       ...   \n",
            "89950    543979     21889              WOODEN BOX OF DOMINOES         1   \n",
            "89951    543979     85176          SEWING SUSAN 21 NEEDLE SET         1   \n",
            "89952    543979     37446  MINI CAKE STAND WITH HANGING CAKES         1   \n",
            "89953    543979     21657     MILK BOTTLE WITH GLASS STOPPER          1   \n",
            "89954   C543980     22728           ALARM CLOCK BAKELIKE PINK        -1   \n",
            "\n",
            "              InvoiceDate  UnitPrice  CustomerID         Country  \n",
            "88847 2011-02-14 09:24:00       5.95     17667.0  United Kingdom  \n",
            "88848 2011-02-14 09:24:00       5.95     17667.0  United Kingdom  \n",
            "88849 2011-02-14 09:24:00       5.95     17667.0  United Kingdom  \n",
            "88850 2011-02-14 09:24:00       0.42     17667.0  United Kingdom  \n",
            "88851 2011-02-14 09:24:00       4.95     17667.0  United Kingdom  \n",
            "...                   ...        ...         ...             ...  \n",
            "89950 2011-02-14 15:43:00       1.25     14606.0  United Kingdom  \n",
            "89951 2011-02-14 15:43:00       0.85     14606.0  United Kingdom  \n",
            "89952 2011-02-14 15:43:00       1.45     14606.0  United Kingdom  \n",
            "89953 2011-02-14 15:43:00       6.95     14606.0  United Kingdom  \n",
            "89954 2011-02-14 16:39:00       3.75     14189.0  United Kingdom  \n",
            "\n",
            "[1108 rows x 8 columns]\n"
          ]
        }
      ]
    },
    {
      "cell_type": "code",
      "source": [
        "transactions5 = filtered_df5.groupby('InvoiceNo')['Description'].apply(list).reset_index() #ทำการ group และทำให้ข้อมูลใน Description เป็นlist\n",
        "transactions_apply5 = transactions5['Description'].apply(lambda x: [str(item) for item in x]) #ใช้ฟังก์ชัน lambda เพื่อแปลงสินค้าทุกชิ้นใน list ของ 'transactions' เป็นข้อความ (string)"
      ],
      "metadata": {
        "id": "5c79smGWuLzQ"
      },
      "execution_count": 298,
      "outputs": []
    },
    {
      "cell_type": "code",
      "source": [
        "frequentItemset4 = list(apriori(transactions_apply4, min_support=0.035))\n",
        "\n",
        "for record in frequentItemset4:\n",
        "    if len(record.items) > 1:\n",
        "        print('yes')\n",
        "        print(f\"Items: {', '.join(record.items)}\")\n",
        "        print(f\"Support: {record.support:.4f} ({record.support*100:.2f}%)\")\n",
        "\n",
        "        for i, stat in enumerate(record.ordered_statistics, 1):\n",
        "            items_base = 'None' if not stat.items_base else ', '.join(stat.items_base)\n",
        "            items_add = ', '.join(stat.items_add)\n",
        "            confidence = stat.confidence\n",
        "            lift = stat.lift\n",
        "\n",
        "            print(f\"Rule {i}: ({items_base} -> {items_add} : Confidence={confidence:.4f}, Lift={lift:.4f})\")\n",
        "        print()\n"
      ],
      "metadata": {
        "colab": {
          "base_uri": "https://localhost:8080/"
        },
        "id": "cYT8scsuuOxW",
        "outputId": "4b24aba3-b0fc-46dc-8b95-64d4665080c0"
      },
      "execution_count": 299,
      "outputs": [
        {
          "output_type": "stream",
          "name": "stdout",
          "text": [
            "yes\n",
            "Items: ALARM CLOCK BAKELIKE RED , ALARM CLOCK BAKELIKE GREEN\n",
            "Support: 0.0367 (3.67%)\n",
            "Rule 1: (None -> ALARM CLOCK BAKELIKE RED , ALARM CLOCK BAKELIKE GREEN : Confidence=0.0367, Lift=1.0000)\n",
            "Rule 2: (ALARM CLOCK BAKELIKE GREEN -> ALARM CLOCK BAKELIKE RED  : Confidence=0.7070, Lift=14.4602)\n",
            "Rule 3: (ALARM CLOCK BAKELIKE RED  -> ALARM CLOCK BAKELIKE GREEN : Confidence=0.7500, Lift=14.4602)\n",
            "\n",
            "yes\n",
            "Items: HOT WATER BOTTLE I AM SO POORLY, CHOCOLATE HOT WATER BOTTLE\n",
            "Support: 0.0367 (3.67%)\n",
            "Rule 1: (None -> HOT WATER BOTTLE I AM SO POORLY, CHOCOLATE HOT WATER BOTTLE : Confidence=0.0367, Lift=1.0000)\n",
            "Rule 2: (CHOCOLATE HOT WATER BOTTLE -> HOT WATER BOTTLE I AM SO POORLY : Confidence=0.5163, Lift=9.7067)\n",
            "Rule 3: (HOT WATER BOTTLE I AM SO POORLY -> CHOCOLATE HOT WATER BOTTLE : Confidence=0.6894, Lift=9.7067)\n",
            "\n",
            "yes\n",
            "Items: PAPER CHAIN KIT 50'S CHRISTMAS , PAPER CHAIN KIT VINTAGE CHRISTMAS\n",
            "Support: 0.0479 (4.79%)\n",
            "Rule 1: (None -> PAPER CHAIN KIT 50'S CHRISTMAS , PAPER CHAIN KIT VINTAGE CHRISTMAS : Confidence=0.0479, Lift=1.0000)\n",
            "Rule 2: (PAPER CHAIN KIT 50'S CHRISTMAS  -> PAPER CHAIN KIT VINTAGE CHRISTMAS : Confidence=0.5160, Lift=7.1650)\n",
            "Rule 3: (PAPER CHAIN KIT VINTAGE CHRISTMAS -> PAPER CHAIN KIT 50'S CHRISTMAS  : Confidence=0.6651, Lift=7.1650)\n",
            "\n"
          ]
        }
      ]
    },
    {
      "cell_type": "markdown",
      "source": [
        "## ข้อ 6. โดยจัดกลุ่มตามประเทศ+เดือน"
      ],
      "metadata": {
        "id": "thfJjHp1u3L8"
      }
    },
    {
      "cell_type": "code",
      "source": [
        "df6 = pd.read_csv(os.path.join(path, 'reduced_marketbasket.csv'), encoding='latin-1')\n"
      ],
      "metadata": {
        "id": "KYNyMCRRygWn"
      },
      "execution_count": 300,
      "outputs": []
    },
    {
      "cell_type": "code",
      "source": [
        "# Convert รูปแบบเวลาใน column InvoiceDate ให้อยู่ในรูปที่ต้องการ\n",
        "df6['InvoiceDate'] = pd.to_datetime(df6['InvoiceDate'], format='%m/%d/%Y %H:%M')"
      ],
      "metadata": {
        "id": "kinJVzE_zDcZ"
      },
      "execution_count": 312,
      "outputs": []
    },
    {
      "cell_type": "code",
      "source": [
        "df6['Month'] = df6['InvoiceDate'].dt.month\n",
        "\n",
        "# df6['Year'] = df6['InvoiceDate'].dt.year   #ถ้าต้องการ\"ปี\"ด้วย"
      ],
      "metadata": {
        "id": "UfdaU6_nyWZo"
      },
      "execution_count": 313,
      "outputs": []
    },
    {
      "cell_type": "code",
      "source": [
        "# transactions_Mon_Con = df6.groupby(['Country', 'Month'])['StockCode'].apply(list)"
      ],
      "metadata": {
        "id": "q0qCREnkaIob"
      },
      "execution_count": 303,
      "outputs": []
    },
    {
      "cell_type": "code",
      "source": [
        "transactions6 = df6.groupby(['Country', 'Month'])['StockCode'].apply(list) #ทำการ group และทำให้ข้อมูลใน Description เป็นlist  สามารถเพิ่มปี ได้โดย 'Year'\n",
        "# transactions_apply6 = transactions6['Description'].apply(lambda x: [str(item) for item in x]) #ใช้ฟังก์ชัน lambda เพื่อแปลงสินค้าทุกชิ้นใน list ของ 'transactions' เป็นข้อความ (string\n"
      ],
      "metadata": {
        "id": "U6q8AD4Ju9gv"
      },
      "execution_count": 314,
      "outputs": []
    },
    {
      "cell_type": "code",
      "source": [
        "frequentItemset6 = list(apriori(transactions6, min_support=0.30))\n",
        "\n",
        "for record in frequentItemset6:\n",
        "    if len(record.items) > 1:\n",
        "        print('yes')\n",
        "        print(f\"Items: {', '.join(record.items)}\")\n",
        "        print(f\"Support: {record.support:.4f} ({record.support*100:.2f}%)\")\n",
        "\n",
        "        for i, stat in enumerate(record.ordered_statistics, 1):\n",
        "            items_base = 'None' if not stat.items_base else ', '.join(stat.items_base)\n",
        "            items_add = ', '.join(stat.items_add)\n",
        "            confidence = stat.confidence\n",
        "            lift = stat.lift\n",
        "\n",
        "            print(f\"Rule {i}: ({items_base} -> {items_add} : Confidence={confidence:.4f}, Lift={lift:.4f})\")\n",
        "        print()\n"
      ],
      "metadata": {
        "colab": {
          "base_uri": "https://localhost:8080/"
        },
        "id": "T98NfuDvJw3a",
        "outputId": "5f8461ae-dc31-473d-c20a-dcde92586e9b"
      },
      "execution_count": 315,
      "outputs": [
        {
          "output_type": "stream",
          "name": "stdout",
          "text": [
            "yes\n",
            "Items: POST, 22326\n",
            "Support: 0.3209 (32.09%)\n",
            "Rule 1: (None -> POST, 22326 : Confidence=0.3209, Lift=1.0000)\n",
            "Rule 2: (22326 -> POST : Confidence=0.8407, Lift=1.4638)\n",
            "Rule 3: (POST -> 22326 : Confidence=0.5588, Lift=1.4638)\n",
            "\n",
            "yes\n",
            "Items: 22423, POST\n",
            "Support: 0.3142 (31.42%)\n",
            "Rule 1: (None -> 22423, POST : Confidence=0.3142, Lift=1.0000)\n",
            "Rule 2: (22423 -> POST : Confidence=0.6838, Lift=1.1907)\n",
            "Rule 3: (POST -> 22423 : Confidence=0.5471, Lift=1.1907)\n",
            "\n",
            "yes\n",
            "Items: 22630, 22629\n",
            "Support: 0.3007 (30.07%)\n",
            "Rule 1: (None -> 22630, 22629 : Confidence=0.3007, Lift=1.0000)\n",
            "Rule 2: (22629 -> 22630 : Confidence=0.8812, Lift=2.5572)\n",
            "Rule 3: (22630 -> 22629 : Confidence=0.8725, Lift=2.5572)\n",
            "\n"
          ]
        }
      ]
    },
    {
      "cell_type": "markdown",
      "source": [
        "### 6.1 ช่วงเวลา Chirtmas & New Year(1 Dec -31 Dec)"
      ],
      "metadata": {
        "id": "PuiHH3mZIo7j"
      }
    },
    {
      "cell_type": "code",
      "source": [
        "# Filter December 1st to December 31st\n",
        "filtered_df61 = df6[(df6['InvoiceDate'].dt.month == 12) & (df6['InvoiceDate'].dt.day >= 1) & (df6['InvoiceDate'].dt.day <= 31)]\n"
      ],
      "metadata": {
        "id": "cZLzoRewgK_j"
      },
      "execution_count": 321,
      "outputs": []
    },
    {
      "cell_type": "code",
      "source": [
        "transactions61 = filtered_df61.groupby(['Country', 'Month'])['StockCode'].apply(list)"
      ],
      "metadata": {
        "id": "twJ23w68joDF"
      },
      "execution_count": 322,
      "outputs": []
    },
    {
      "cell_type": "code",
      "source": [
        "frequentItemset61 = list(apriori(transactions61, min_support=0.3))\n",
        "\n",
        "for record in frequentItemset61:\n",
        "    if len(record.items) > 1:\n",
        "        print('yes')\n",
        "        print(f\"Items: {', '.join(record.items)}\")\n",
        "        print(f\"Support: {record.support:.4f} ({record.support*100:.2f}%)\")\n",
        "\n",
        "        for i, stat in enumerate(record.ordered_statistics, 1):\n",
        "            items_base = 'None' if not stat.items_base else ', '.join(stat.items_base)\n",
        "            items_add = ', '.join(stat.items_add)\n",
        "            confidence = stat.confidence\n",
        "            lift = stat.lift\n",
        "\n",
        "            print(f\"Rule {i}: ({items_base} -> {items_add} : Confidence={confidence:.4f}, Lift={lift:.4f})\")\n",
        "        print()\n"
      ],
      "metadata": {
        "outputId": "13ed36cf-1a85-4579-94b7-dfee7595aba1",
        "colab": {
          "base_uri": "https://localhost:8080/"
        },
        "id": "dU8lnIb9id7P"
      },
      "execution_count": 323,
      "outputs": [
        {
          "output_type": "stream",
          "name": "stdout",
          "text": [
            "yes\n",
            "Items: POST, 20750\n",
            "Support: 0.3333 (33.33%)\n",
            "Rule 1: (None -> POST, 20750 : Confidence=0.3333, Lift=1.0000)\n",
            "Rule 2: (20750 -> POST : Confidence=0.9000, Lift=1.7357)\n",
            "Rule 3: (POST -> 20750 : Confidence=0.6429, Lift=1.7357)\n",
            "\n",
            "yes\n",
            "Items: 22727, 22728\n",
            "Support: 0.3333 (33.33%)\n",
            "Rule 1: (None -> 22727, 22728 : Confidence=0.3333, Lift=1.0000)\n",
            "Rule 2: (22727 -> 22728 : Confidence=1.0000, Lift=3.0000)\n",
            "Rule 3: (22728 -> 22727 : Confidence=1.0000, Lift=3.0000)\n",
            "\n"
          ]
        }
      ]
    },
    {
      "cell_type": "markdown",
      "source": [
        "### 6.2 ช่วงเวลา Chirtmas & New Year(1 Dec -31 Dec)"
      ],
      "metadata": {
        "id": "3fVDEem9c8_q"
      }
    },
    {
      "cell_type": "code",
      "source": [
        "# เลือกประเทศจาก european_countries\n",
        "filtered_df62 = df6[df6['Country'].isin(europe_countries)]"
      ],
      "metadata": {
        "id": "soy_8A2CkbMh"
      },
      "execution_count": 331,
      "outputs": []
    },
    {
      "cell_type": "code",
      "source": [
        "transactions62 = filtered_df62.groupby(['Country', 'Month'])['StockCode'].apply(list)"
      ],
      "metadata": {
        "id": "-luDfGqIkNem"
      },
      "execution_count": 332,
      "outputs": []
    },
    {
      "cell_type": "code",
      "source": [
        "frequentItemset62 = list(apriori(transactions62, min_support=0.35))\n",
        "\n",
        "for record in frequentItemset61:\n",
        "    if len(record.items) > 1:\n",
        "        print('yes')\n",
        "        print(f\"Items: {', '.join(record.items)}\")\n",
        "        print(f\"Support: {record.support:.4f} ({record.support*100:.2f}%)\")\n",
        "\n",
        "        for i, stat in enumerate(record.ordered_statistics, 1):\n",
        "            items_base = 'None' if not stat.items_base else ', '.join(stat.items_base)\n",
        "            items_add = ', '.join(stat.items_add)\n",
        "            confidence = stat.confidence\n",
        "            lift = stat.lift\n",
        "\n",
        "            print(f\"Rule {i}: ({items_base} -> {items_add} : Confidence={confidence:.4f}, Lift={lift:.4f})\")\n",
        "        print()\n"
      ],
      "metadata": {
        "outputId": "70b88ec4-0760-4687-a511-ccda550a4847",
        "colab": {
          "base_uri": "https://localhost:8080/"
        },
        "id": "--jlBS1jkNen"
      },
      "execution_count": 333,
      "outputs": [
        {
          "output_type": "stream",
          "name": "stdout",
          "text": [
            "yes\n",
            "Items: 22423, 21212\n",
            "Support: 0.3519 (35.19%)\n",
            "Rule 1: (None -> 22423, 21212 : Confidence=0.3519, Lift=1.0000)\n",
            "Rule 2: (21212 -> 22423 : Confidence=0.7885, Lift=1.5702)\n",
            "Rule 3: (22423 -> 21212 : Confidence=0.7009, Lift=1.5702)\n",
            "\n",
            "yes\n",
            "Items: POST, 21212\n",
            "Support: 0.3605 (36.05%)\n",
            "Rule 1: (None -> POST, 21212 : Confidence=0.3605, Lift=1.0000)\n",
            "Rule 2: (21212 -> POST : Confidence=0.8077, Lift=1.1475)\n",
            "Rule 3: (POST -> 21212 : Confidence=0.5122, Lift=1.1475)\n",
            "\n",
            "yes\n",
            "Items: POST, 22326\n",
            "Support: 0.3991 (39.91%)\n",
            "Rule 1: (None -> POST, 22326 : Confidence=0.3991, Lift=1.0000)\n",
            "Rule 2: (22326 -> POST : Confidence=0.9118, Lift=1.2954)\n",
            "Rule 3: (POST -> 22326 : Confidence=0.5671, Lift=1.2954)\n",
            "\n",
            "yes\n",
            "Items: 22423, POST\n",
            "Support: 0.3863 (38.63%)\n",
            "Rule 1: (None -> 22423, POST : Confidence=0.3863, Lift=1.0000)\n",
            "Rule 2: (22423 -> POST : Confidence=0.7692, Lift=1.0929)\n",
            "Rule 3: (POST -> 22423 : Confidence=0.5488, Lift=1.0929)\n",
            "\n",
            "yes\n",
            "Items: POST, 22554\n",
            "Support: 0.3691 (36.91%)\n",
            "Rule 1: (None -> POST, 22554 : Confidence=0.3691, Lift=1.0000)\n",
            "Rule 2: (22554 -> POST : Confidence=0.9053, Lift=1.2861)\n",
            "Rule 3: (POST -> 22554 : Confidence=0.5244, Lift=1.2861)\n",
            "\n",
            "yes\n",
            "Items: 22556, POST\n",
            "Support: 0.3734 (37.34%)\n",
            "Rule 1: (None -> 22556, POST : Confidence=0.3734, Lift=1.0000)\n",
            "Rule 2: (22556 -> POST : Confidence=0.8878, Lift=1.2613)\n",
            "Rule 3: (POST -> 22556 : Confidence=0.5305, Lift=1.2613)\n",
            "\n",
            "yes\n",
            "Items: POST, 22629\n",
            "Support: 0.3519 (35.19%)\n",
            "Rule 1: (None -> POST, 22629 : Confidence=0.3519, Lift=1.0000)\n",
            "Rule 2: (22629 -> POST : Confidence=0.9213, Lift=1.3090)\n",
            "Rule 3: (POST -> 22629 : Confidence=0.5000, Lift=1.3090)\n",
            "\n"
          ]
        }
      ]
    },
    {
      "cell_type": "markdown",
      "source": [
        "### 6.3 ช่วงเวลา Chirtmas & New Year(1 Dec -31 Dec)"
      ],
      "metadata": {
        "id": "ezfQ2zwWc96T"
      }
    },
    {
      "cell_type": "code",
      "source": [
        "filtered_df63 = df6[\n",
        "     (((df6['InvoiceDate'].dt.month == 1) & (df6['InvoiceDate'].dt.day >= 15)) |\n",
        "    ((df6['InvoiceDate'].dt.month == 2) & (df6['InvoiceDate'].dt.day <= 15))) &\n",
        "    (df6['Country'].isin(asia_countries))\n",
        "]"
      ],
      "metadata": {
        "id": "x2QpivWLkwQ6"
      },
      "execution_count": 337,
      "outputs": []
    },
    {
      "cell_type": "code",
      "source": [
        "transactions63 = filtered_df63.groupby(['Country', 'Month'])['StockCode'].apply(list)"
      ],
      "metadata": {
        "id": "jVqSXKKTk7Lk"
      },
      "execution_count": 338,
      "outputs": []
    },
    {
      "cell_type": "code",
      "source": [
        "frequentItemset63 = list(apriori(transactions63, min_support=0.35))\n",
        "\n",
        "for record in frequentItemset61:\n",
        "    if len(record.items) > 1:\n",
        "        print('yes')\n",
        "        print(f\"Items: {', '.join(record.items)}\")\n",
        "        print(f\"Support: {record.support:.4f} ({record.support*100:.2f}%)\")\n",
        "\n",
        "        for i, stat in enumerate(record.ordered_statistics, 1):\n",
        "            items_base = 'None' if not stat.items_base else ', '.join(stat.items_base)\n",
        "            items_add = ', '.join(stat.items_add)\n",
        "            confidence = stat.confidence\n",
        "            lift = stat.lift\n",
        "\n",
        "            print(f\"Rule {i}: ({items_base} -> {items_add} : Confidence={confidence:.4f}, Lift={lift:.4f})\")\n",
        "        print()\n"
      ],
      "metadata": {
        "outputId": "5c2aa19d-978a-437f-aec3-9a711451f233",
        "colab": {
          "base_uri": "https://localhost:8080/"
        },
        "id": "z_xrd3P0k7Lm"
      },
      "execution_count": 339,
      "outputs": [
        {
          "output_type": "stream",
          "name": "stdout",
          "text": [
            "yes\n",
            "Items: 22423, 21212\n",
            "Support: 0.3519 (35.19%)\n",
            "Rule 1: (None -> 22423, 21212 : Confidence=0.3519, Lift=1.0000)\n",
            "Rule 2: (21212 -> 22423 : Confidence=0.7885, Lift=1.5702)\n",
            "Rule 3: (22423 -> 21212 : Confidence=0.7009, Lift=1.5702)\n",
            "\n",
            "yes\n",
            "Items: POST, 21212\n",
            "Support: 0.3605 (36.05%)\n",
            "Rule 1: (None -> POST, 21212 : Confidence=0.3605, Lift=1.0000)\n",
            "Rule 2: (21212 -> POST : Confidence=0.8077, Lift=1.1475)\n",
            "Rule 3: (POST -> 21212 : Confidence=0.5122, Lift=1.1475)\n",
            "\n",
            "yes\n",
            "Items: POST, 22326\n",
            "Support: 0.3991 (39.91%)\n",
            "Rule 1: (None -> POST, 22326 : Confidence=0.3991, Lift=1.0000)\n",
            "Rule 2: (22326 -> POST : Confidence=0.9118, Lift=1.2954)\n",
            "Rule 3: (POST -> 22326 : Confidence=0.5671, Lift=1.2954)\n",
            "\n",
            "yes\n",
            "Items: 22423, POST\n",
            "Support: 0.3863 (38.63%)\n",
            "Rule 1: (None -> 22423, POST : Confidence=0.3863, Lift=1.0000)\n",
            "Rule 2: (22423 -> POST : Confidence=0.7692, Lift=1.0929)\n",
            "Rule 3: (POST -> 22423 : Confidence=0.5488, Lift=1.0929)\n",
            "\n",
            "yes\n",
            "Items: POST, 22554\n",
            "Support: 0.3691 (36.91%)\n",
            "Rule 1: (None -> POST, 22554 : Confidence=0.3691, Lift=1.0000)\n",
            "Rule 2: (22554 -> POST : Confidence=0.9053, Lift=1.2861)\n",
            "Rule 3: (POST -> 22554 : Confidence=0.5244, Lift=1.2861)\n",
            "\n",
            "yes\n",
            "Items: 22556, POST\n",
            "Support: 0.3734 (37.34%)\n",
            "Rule 1: (None -> 22556, POST : Confidence=0.3734, Lift=1.0000)\n",
            "Rule 2: (22556 -> POST : Confidence=0.8878, Lift=1.2613)\n",
            "Rule 3: (POST -> 22556 : Confidence=0.5305, Lift=1.2613)\n",
            "\n",
            "yes\n",
            "Items: POST, 22629\n",
            "Support: 0.3519 (35.19%)\n",
            "Rule 1: (None -> POST, 22629 : Confidence=0.3519, Lift=1.0000)\n",
            "Rule 2: (22629 -> POST : Confidence=0.9213, Lift=1.3090)\n",
            "Rule 3: (POST -> 22629 : Confidence=0.5000, Lift=1.3090)\n",
            "\n"
          ]
        }
      ]
    },
    {
      "cell_type": "markdown",
      "source": [
        "### 6.4 ช่วงเวลา Chirtmas & New Year(1 Dec -31 Dec)"
      ],
      "metadata": {
        "id": "4T1MXsZ1dFk4"
      }
    },
    {
      "cell_type": "code",
      "source": [
        "filtered_df64 = df6[\n",
        "     (df6['InvoiceDate'].dt.month == 12)  &\n",
        "    (df6['Country'].isin(europe_countries))\n",
        "]"
      ],
      "metadata": {
        "id": "XAk6gDLvlt28"
      },
      "execution_count": 346,
      "outputs": []
    },
    {
      "cell_type": "code",
      "source": [
        "transactions64 = filtered_df64.groupby(['Country', 'Month'])['StockCode'].apply(list)"
      ],
      "metadata": {
        "id": "fzHvn01PluQj"
      },
      "execution_count": 347,
      "outputs": []
    },
    {
      "cell_type": "code",
      "source": [
        "frequentItemset64 = list(apriori(transactions64, min_support=0.35))\n",
        "\n",
        "for record in frequentItemset61:\n",
        "    if len(record.items) > 1:\n",
        "        print('yes')\n",
        "        print(f\"Items: {', '.join(record.items)}\")\n",
        "        print(f\"Support: {record.support:.4f} ({record.support*100:.2f}%)\")\n",
        "\n",
        "        for i, stat in enumerate(record.ordered_statistics, 1):\n",
        "            items_base = 'None' if not stat.items_base else ', '.join(stat.items_base)\n",
        "            items_add = ', '.join(stat.items_add)\n",
        "            confidence = stat.confidence\n",
        "            lift = stat.lift\n",
        "\n",
        "            print(f\"Rule {i}: ({items_base} -> {items_add} : Confidence={confidence:.4f}, Lift={lift:.4f})\")\n",
        "        print()\n"
      ],
      "metadata": {
        "outputId": "aa55fd95-b465-461e-ca18-7e758abbdcb0",
        "colab": {
          "base_uri": "https://localhost:8080/"
        },
        "id": "bahCwKrlluQk"
      },
      "execution_count": 348,
      "outputs": [
        {
          "output_type": "stream",
          "name": "stdout",
          "text": [
            "yes\n",
            "Items: 22423, 21212\n",
            "Support: 0.3519 (35.19%)\n",
            "Rule 1: (None -> 22423, 21212 : Confidence=0.3519, Lift=1.0000)\n",
            "Rule 2: (21212 -> 22423 : Confidence=0.7885, Lift=1.5702)\n",
            "Rule 3: (22423 -> 21212 : Confidence=0.7009, Lift=1.5702)\n",
            "\n",
            "yes\n",
            "Items: POST, 21212\n",
            "Support: 0.3605 (36.05%)\n",
            "Rule 1: (None -> POST, 21212 : Confidence=0.3605, Lift=1.0000)\n",
            "Rule 2: (21212 -> POST : Confidence=0.8077, Lift=1.1475)\n",
            "Rule 3: (POST -> 21212 : Confidence=0.5122, Lift=1.1475)\n",
            "\n",
            "yes\n",
            "Items: POST, 22326\n",
            "Support: 0.3991 (39.91%)\n",
            "Rule 1: (None -> POST, 22326 : Confidence=0.3991, Lift=1.0000)\n",
            "Rule 2: (22326 -> POST : Confidence=0.9118, Lift=1.2954)\n",
            "Rule 3: (POST -> 22326 : Confidence=0.5671, Lift=1.2954)\n",
            "\n",
            "yes\n",
            "Items: 22423, POST\n",
            "Support: 0.3863 (38.63%)\n",
            "Rule 1: (None -> 22423, POST : Confidence=0.3863, Lift=1.0000)\n",
            "Rule 2: (22423 -> POST : Confidence=0.7692, Lift=1.0929)\n",
            "Rule 3: (POST -> 22423 : Confidence=0.5488, Lift=1.0929)\n",
            "\n",
            "yes\n",
            "Items: POST, 22554\n",
            "Support: 0.3691 (36.91%)\n",
            "Rule 1: (None -> POST, 22554 : Confidence=0.3691, Lift=1.0000)\n",
            "Rule 2: (22554 -> POST : Confidence=0.9053, Lift=1.2861)\n",
            "Rule 3: (POST -> 22554 : Confidence=0.5244, Lift=1.2861)\n",
            "\n",
            "yes\n",
            "Items: 22556, POST\n",
            "Support: 0.3734 (37.34%)\n",
            "Rule 1: (None -> 22556, POST : Confidence=0.3734, Lift=1.0000)\n",
            "Rule 2: (22556 -> POST : Confidence=0.8878, Lift=1.2613)\n",
            "Rule 3: (POST -> 22556 : Confidence=0.5305, Lift=1.2613)\n",
            "\n",
            "yes\n",
            "Items: POST, 22629\n",
            "Support: 0.3519 (35.19%)\n",
            "Rule 1: (None -> POST, 22629 : Confidence=0.3519, Lift=1.0000)\n",
            "Rule 2: (22629 -> POST : Confidence=0.9213, Lift=1.3090)\n",
            "Rule 3: (POST -> 22629 : Confidence=0.5000, Lift=1.3090)\n",
            "\n"
          ]
        }
      ]
    },
    {
      "cell_type": "markdown",
      "source": [
        "### 6.5 ช่วงเวลา Chirtmas & New Year(1 Dec -31 Dec)"
      ],
      "metadata": {
        "id": "1m5KhayadFwl"
      }
    },
    {
      "cell_type": "code",
      "source": [
        "filtered_df65 = df6[(df6['InvoiceDate'].dt.month == 2) & (df6['InvoiceDate'].dt.day == 14) ]"
      ],
      "metadata": {
        "id": "TuzcW2NjmC9G"
      },
      "execution_count": 349,
      "outputs": []
    },
    {
      "cell_type": "code",
      "source": [
        "transactions65 = filtered_df65.groupby(['Country', 'Month'])['StockCode'].apply(list)"
      ],
      "metadata": {
        "id": "UOLl-12DmC9I"
      },
      "execution_count": 350,
      "outputs": []
    },
    {
      "cell_type": "code",
      "source": [
        "frequentItemset65 = list(apriori(transactions65, min_support=0.35))\n",
        "\n",
        "for record in frequentItemset61:\n",
        "    if len(record.items) > 1:\n",
        "        print('yes')\n",
        "        print(f\"Items: {', '.join(record.items)}\")\n",
        "        print(f\"Support: {record.support:.4f} ({record.support*100:.2f}%)\")\n",
        "\n",
        "        for i, stat in enumerate(record.ordered_statistics, 1):\n",
        "            items_base = 'None' if not stat.items_base else ', '.join(stat.items_base)\n",
        "            items_add = ', '.join(stat.items_add)\n",
        "            confidence = stat.confidence\n",
        "            lift = stat.lift\n",
        "\n",
        "            print(f\"Rule {i}: ({items_base} -> {items_add} : Confidence={confidence:.4f}, Lift={lift:.4f})\")\n",
        "        print()\n"
      ],
      "metadata": {
        "outputId": "afe296c7-35d8-46a4-ca90-77628e3128ca",
        "colab": {
          "base_uri": "https://localhost:8080/"
        },
        "id": "eZic2xdqmC9I"
      },
      "execution_count": 351,
      "outputs": [
        {
          "output_type": "stream",
          "name": "stdout",
          "text": [
            "yes\n",
            "Items: 22423, 21212\n",
            "Support: 0.3519 (35.19%)\n",
            "Rule 1: (None -> 22423, 21212 : Confidence=0.3519, Lift=1.0000)\n",
            "Rule 2: (21212 -> 22423 : Confidence=0.7885, Lift=1.5702)\n",
            "Rule 3: (22423 -> 21212 : Confidence=0.7009, Lift=1.5702)\n",
            "\n",
            "yes\n",
            "Items: POST, 21212\n",
            "Support: 0.3605 (36.05%)\n",
            "Rule 1: (None -> POST, 21212 : Confidence=0.3605, Lift=1.0000)\n",
            "Rule 2: (21212 -> POST : Confidence=0.8077, Lift=1.1475)\n",
            "Rule 3: (POST -> 21212 : Confidence=0.5122, Lift=1.1475)\n",
            "\n",
            "yes\n",
            "Items: POST, 22326\n",
            "Support: 0.3991 (39.91%)\n",
            "Rule 1: (None -> POST, 22326 : Confidence=0.3991, Lift=1.0000)\n",
            "Rule 2: (22326 -> POST : Confidence=0.9118, Lift=1.2954)\n",
            "Rule 3: (POST -> 22326 : Confidence=0.5671, Lift=1.2954)\n",
            "\n",
            "yes\n",
            "Items: 22423, POST\n",
            "Support: 0.3863 (38.63%)\n",
            "Rule 1: (None -> 22423, POST : Confidence=0.3863, Lift=1.0000)\n",
            "Rule 2: (22423 -> POST : Confidence=0.7692, Lift=1.0929)\n",
            "Rule 3: (POST -> 22423 : Confidence=0.5488, Lift=1.0929)\n",
            "\n",
            "yes\n",
            "Items: POST, 22554\n",
            "Support: 0.3691 (36.91%)\n",
            "Rule 1: (None -> POST, 22554 : Confidence=0.3691, Lift=1.0000)\n",
            "Rule 2: (22554 -> POST : Confidence=0.9053, Lift=1.2861)\n",
            "Rule 3: (POST -> 22554 : Confidence=0.5244, Lift=1.2861)\n",
            "\n",
            "yes\n",
            "Items: 22556, POST\n",
            "Support: 0.3734 (37.34%)\n",
            "Rule 1: (None -> 22556, POST : Confidence=0.3734, Lift=1.0000)\n",
            "Rule 2: (22556 -> POST : Confidence=0.8878, Lift=1.2613)\n",
            "Rule 3: (POST -> 22556 : Confidence=0.5305, Lift=1.2613)\n",
            "\n",
            "yes\n",
            "Items: POST, 22629\n",
            "Support: 0.3519 (35.19%)\n",
            "Rule 1: (None -> POST, 22629 : Confidence=0.3519, Lift=1.0000)\n",
            "Rule 2: (22629 -> POST : Confidence=0.9213, Lift=1.3090)\n",
            "Rule 3: (POST -> 22629 : Confidence=0.5000, Lift=1.3090)\n",
            "\n"
          ]
        }
      ]
    }
  ]
}